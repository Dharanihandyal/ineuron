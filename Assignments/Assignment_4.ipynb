{
 "cells": [
  {
   "cell_type": "markdown",
   "id": "c54d248b",
   "metadata": {},
   "source": [
    "# Assignment - 4"
   ]
  },
  {
   "cell_type": "markdown",
   "id": "ff11994e",
   "metadata": {},
   "source": [
    "# 1. What exactly is []?\n"
   ]
  },
  {
   "cell_type": "markdown",
   "id": "24d852c2",
   "metadata": {},
   "source": [
    "\n",
    "\n",
    "\n",
    "Ans:- \"[]\" is a symbol which define empty list. which is having no elements. And list should always be enclosed with these \"[]\" even if elements are present or not."
   ]
  },
  {
   "cell_type": "markdown",
   "id": "0265b9d1",
   "metadata": {},
   "source": [
    "# 2. In a list of values stored in a variable called spam, how would you assign the value 'hello' as the third value? (Assume [2, 4, 6, 8, 10] are in spam.)\n",
    "\n"
   ]
  },
  {
   "cell_type": "code",
   "execution_count": 2,
   "id": "698ebd89",
   "metadata": {},
   "outputs": [
    {
     "name": "stdout",
     "output_type": "stream",
     "text": [
      "[2, 4, 'hello', 8, 10]\n"
     ]
    }
   ],
   "source": [
    "spam = [2, 4, 6, 8, 10]\n",
    "\n",
    "spam[2] = 'hello'  \n",
    "print(spam)"
   ]
  },
  {
   "cell_type": "markdown",
   "id": "a6f4f855",
   "metadata": {},
   "source": [
    "# Let's pretend the spam includes the list ['a', 'b', 'c', 'd'] for the next three queries."
   ]
  },
  {
   "cell_type": "markdown",
   "id": "f14682bf",
   "metadata": {},
   "source": [
    "# 3. What is the value of spam[int(int('3' * 2) / 11)]?"
   ]
  },
  {
   "cell_type": "code",
   "execution_count": 11,
   "id": "bfc506b2",
   "metadata": {},
   "outputs": [
    {
     "data": {
      "text/plain": [
       "'d'"
      ]
     },
     "execution_count": 11,
     "metadata": {},
     "output_type": "execute_result"
    }
   ],
   "source": [
    "spam = ['a', 'b', 'c', 'd']\n",
    "\n",
    "spam[int(int('3'*2)/11)] # ans is 'd'\n",
    "\n",
    "# ('3'*2) = 33\n",
    "# 33 / 11 = 3\n",
    "# int(int(3)) = iinterger 3, it will act as index value to call element from spam list\n",
    "# we will get 3rd index element from spam list, that is 'd'"
   ]
  },
  {
   "cell_type": "markdown",
   "id": "360d7aa3",
   "metadata": {},
   "source": [
    "# 4 . What is the value of spam[-1]?"
   ]
  },
  {
   "cell_type": "code",
   "execution_count": 12,
   "id": "e86dce57",
   "metadata": {},
   "outputs": [
    {
     "data": {
      "text/plain": [
       "'d'"
      ]
     },
     "execution_count": 12,
     "metadata": {},
     "output_type": "execute_result"
    }
   ],
   "source": [
    "spam[-1] # it retrives last element that is 'd'"
   ]
  },
  {
   "cell_type": "markdown",
   "id": "b1a15112",
   "metadata": {},
   "source": [
    "# 5. What is the value of spam[:2]?\n"
   ]
  },
  {
   "cell_type": "code",
   "execution_count": 13,
   "id": "15105144",
   "metadata": {},
   "outputs": [
    {
     "data": {
      "text/plain": [
       "['a', 'b']"
      ]
     },
     "execution_count": 13,
     "metadata": {},
     "output_type": "execute_result"
    }
   ],
   "source": [
    "spam[:2] # it return values from starting to end of the provided index ( excluding mentioned index number) of a list. In this case it provides ['a', 'b']."
   ]
  },
  {
   "cell_type": "markdown",
   "id": "f12c7c9f",
   "metadata": {},
   "source": [
    "# Let's pretend bacon has the list [3.14, 'cat,' 11, 'cat,' True] for the next three questions."
   ]
  },
  {
   "cell_type": "markdown",
   "id": "75b5d57c",
   "metadata": {},
   "source": [
    "# 6. What is the value of bacon.index('cat')?\n"
   ]
  },
  {
   "cell_type": "code",
   "execution_count": 29,
   "id": "664a2e19",
   "metadata": {},
   "outputs": [
    {
     "data": {
      "text/plain": [
       "1"
      ]
     },
     "execution_count": 29,
     "metadata": {},
     "output_type": "execute_result"
    }
   ],
   "source": [
    "bacon = [3.14, 'cat', 11, 'cat', True]\n",
    "\n",
    "bacon.index('cat') # it provides first 'cat' index number. ( which occurs first). In the given list, there are 2 'cat' elements, but when we run that query, we will get the index number of first occurence of the 'cat' element."
   ]
  },
  {
   "cell_type": "markdown",
   "id": "6d07257b",
   "metadata": {},
   "source": [
    "# 7.How does bacon.append(99) change the look of the list value in bacon?\n",
    "\n"
   ]
  },
  {
   "cell_type": "code",
   "execution_count": 30,
   "id": "01c581fc",
   "metadata": {},
   "outputs": [
    {
     "data": {
      "text/plain": [
       "[3.14, 'cat', 11, 'cat', True, 99]"
      ]
     },
     "execution_count": 30,
     "metadata": {},
     "output_type": "execute_result"
    }
   ],
   "source": [
    "bacon.append(99) # it will append a new element '99' to the list at last position\n",
    "bacon "
   ]
  },
  {
   "cell_type": "markdown",
   "id": "12c53773",
   "metadata": {},
   "source": [
    "# 8. How does bacon.remove('cat') change the look of the list in bacon?\n"
   ]
  },
  {
   "cell_type": "code",
   "execution_count": 31,
   "id": "268c3079",
   "metadata": {},
   "outputs": [
    {
     "data": {
      "text/plain": [
       "[3.14, 11, 'cat', True, 99]"
      ]
     },
     "execution_count": 31,
     "metadata": {},
     "output_type": "execute_result"
    }
   ],
   "source": [
    "bacon.remove('cat') # it removes 'cat' element which it meets first. (here 2 'cat' elements having index 1 and 3, First one will be removed)\n",
    "bacon"
   ]
  },
  {
   "cell_type": "markdown",
   "id": "d26dd862",
   "metadata": {},
   "source": [
    "# 9.What are the list concatenation and list replication operators?\n"
   ]
  },
  {
   "cell_type": "markdown",
   "id": "666f220c",
   "metadata": {},
   "source": [
    "Ans: lists can be concatenated and replicated by these 2 operators '+' and '*' respectively. \n",
    "\n",
    "Ex:\n",
    "\n",
    "* list1 + list2  # provides new list having the elements of both the lists\n",
    "\n",
    "* list1 * 2  # it replicates all the elements from the list on how many times we specify"
   ]
  },
  {
   "cell_type": "markdown",
   "id": "6e37c43d",
   "metadata": {},
   "source": [
    "# 10. What is difference between the list methods append() and insert()?\n"
   ]
  },
  {
   "cell_type": "markdown",
   "id": "353dbf00",
   "metadata": {},
   "source": [
    "Ans: \n",
    "\n",
    "append() : append method just adds up an element into the list in last position. Ex : list1.append(1)\n",
    "\n",
    "insert() : this also adds a new element, but we can add element wherever we need by specifying the index number . Ex: list1.insert(1, 9)"
   ]
  },
  {
   "cell_type": "markdown",
   "id": "ca2a9ebf",
   "metadata": {},
   "source": [
    "# 11. What are the two methods for removing items from a list?"
   ]
  },
  {
   "cell_type": "markdown",
   "id": "69a794a3",
   "metadata": {},
   "source": [
    "Ans : \n",
    "\n",
    "remove() : Removes the element which matches to the specified element given in query. \n",
    "\n",
    "pop() : here we can specify the index of an element which we need to remove. \n"
   ]
  },
  {
   "cell_type": "code",
   "execution_count": 38,
   "id": "96638688",
   "metadata": {},
   "outputs": [
    {
     "data": {
      "text/plain": [
       "[1, 3, 4]"
      ]
     },
     "execution_count": 38,
     "metadata": {},
     "output_type": "execute_result"
    }
   ],
   "source": [
    "# remove\n",
    "list1 = [1, 2, 3, 2, 4]\n",
    "list1.remove(2) \n",
    "list1\n",
    "\n",
    "# pop\n",
    "\n",
    "list1.pop(2)\n",
    "list1"
   ]
  },
  {
   "cell_type": "markdown",
   "id": "b8197d05",
   "metadata": {},
   "source": [
    "# 12. Describe how list values and string values are identical."
   ]
  },
  {
   "cell_type": "markdown",
   "id": "0423e67b",
   "metadata": {},
   "source": [
    "Ans : \n",
    "1. values will be ordered in similar way\n",
    "2. We can perform similar operations on both the values. \n",
    "3. indexing is similar\n",
    "4. we can concatenate, iterate and do slicing , stepping operations in same way."
   ]
  },
  {
   "cell_type": "markdown",
   "id": "b5c11715",
   "metadata": {},
   "source": [
    "# 13. What's the difference between tuples and lists?"
   ]
  },
  {
   "cell_type": "markdown",
   "id": "8fcb2ac8",
   "metadata": {},
   "source": [
    "Ans: \n",
    "1. tuples are enclosed by '()' whereas list enclosed by '[]'.\n",
    "2. tuples are not mutable, lists are mutable\n",
    "3. there are several methods for lists to modify, but these are restricted to tuples as it is not mutable. (insert(), append() etc)"
   ]
  },
  {
   "cell_type": "markdown",
   "id": "5ac2a16b",
   "metadata": {},
   "source": [
    "# 14. How do you type a tuple value that only contains the integer 42?"
   ]
  },
  {
   "cell_type": "markdown",
   "id": "328ec169",
   "metadata": {},
   "source": [
    "Ans:- tuple1 = (42,)\n",
    " -> this is the tuple having a single integer 42. "
   ]
  },
  {
   "cell_type": "markdown",
   "id": "5cef0353",
   "metadata": {},
   "source": [
    "# 15. How do you get a list value's tuple form? How do you get a tuple value's list form?"
   ]
  },
  {
   "cell_type": "code",
   "execution_count": 40,
   "id": "ecc52763",
   "metadata": {},
   "outputs": [
    {
     "data": {
      "text/plain": [
       "(1, 2, 3)"
      ]
     },
     "execution_count": 40,
     "metadata": {},
     "output_type": "execute_result"
    }
   ],
   "source": [
    "# tuple form from list\n",
    "list1 = [1, 2, 3]\n",
    "tuple1 = tuple(list1)\n",
    "tuple1"
   ]
  },
  {
   "cell_type": "code",
   "execution_count": 42,
   "id": "8427dd85",
   "metadata": {},
   "outputs": [
    {
     "data": {
      "text/plain": [
       "['a', 'b', 'c']"
      ]
     },
     "execution_count": 42,
     "metadata": {},
     "output_type": "execute_result"
    }
   ],
   "source": [
    "# list form from tuple\n",
    "tuple1 = ('a','b','c')\n",
    "list1 = list(tuple1)\n",
    "list1"
   ]
  },
  {
   "cell_type": "markdown",
   "id": "2dcc7f78",
   "metadata": {},
   "source": [
    "# 16. Variables that \"contain\" list values are not necessarily lists themselves. Instead, what do they contain?\n"
   ]
  },
  {
   "cell_type": "markdown",
   "id": "07544f96",
   "metadata": {},
   "source": [
    "Those variables will be holding the memory address where the original list has been stored."
   ]
  },
  {
   "cell_type": "markdown",
   "id": "30a4b641",
   "metadata": {},
   "source": [
    "# 17. How do you distinguish between copy.copy() and copy.deepcopy()?"
   ]
  },
  {
   "cell_type": "markdown",
   "id": "6392ea4d",
   "metadata": {},
   "source": [
    "When we need new copy of the objects, we have 2 mothods:\n",
    "1. copy() : it copies the reference of the original object not exact elements( shallow copy)\n",
    "2. deepcopy() :  it copies even the original elments directly."
   ]
  },
  {
   "cell_type": "code",
   "execution_count": null,
   "id": "29f8b175",
   "metadata": {},
   "outputs": [],
   "source": []
  }
 ],
 "metadata": {
  "kernelspec": {
   "display_name": "Python 3 (ipykernel)",
   "language": "python",
   "name": "python3"
  },
  "language_info": {
   "codemirror_mode": {
    "name": "ipython",
    "version": 3
   },
   "file_extension": ".py",
   "mimetype": "text/x-python",
   "name": "python",
   "nbconvert_exporter": "python",
   "pygments_lexer": "ipython3",
   "version": "3.11.3"
  }
 },
 "nbformat": 4,
 "nbformat_minor": 5
}
