{
 "cells": [
  {
   "cell_type": "markdown",
   "id": "c54d248b",
   "metadata": {},
   "source": [
    "# Assignment - 4"
   ]
  },
  {
   "cell_type": "markdown",
   "id": "ff11994e",
   "metadata": {},
   "source": [
    "# 1. What does an empty dictionary's code look like?\n",
    "\n"
   ]
  },
  {
   "cell_type": "markdown",
   "id": "24d852c2",
   "metadata": {},
   "source": [
    "\n",
    "Ans:- dict1 = {}\n"
   ]
  },
  {
   "cell_type": "markdown",
   "id": "0265b9d1",
   "metadata": {},
   "source": [
    "# 2. What is the value of a dictionary value with the key 'foo' and the value 42?\n"
   ]
  },
  {
   "cell_type": "code",
   "execution_count": 3,
   "id": "698ebd89",
   "metadata": {},
   "outputs": [
    {
     "data": {
      "text/plain": [
       "42"
      ]
     },
     "execution_count": 3,
     "metadata": {},
     "output_type": "execute_result"
    }
   ],
   "source": [
    "dict1 = {'foo': 42}\n",
    "dict1['foo'] # 42 is the value of the disctory for 'foo' key"
   ]
  },
  {
   "cell_type": "markdown",
   "id": "f14682bf",
   "metadata": {},
   "source": [
    "# 3. What is the most significant distinction between a dictionary and a list?\n"
   ]
  },
  {
   "cell_type": "markdown",
   "id": "07ae271c",
   "metadata": {},
   "source": [
    "1. Lists are ordered and can contain duplicate values, elements stored as individuals.\n",
    "2. Dictionary is unordered, cannot contain duplicate keys, and elements are stored as key-value pairs"
   ]
  },
  {
   "cell_type": "markdown",
   "id": "360d7aa3",
   "metadata": {},
   "source": [
    "# 4. What happens if you try to access spam['foo'] if spam is {'bar': 100}?\n"
   ]
  },
  {
   "cell_type": "code",
   "execution_count": 6,
   "id": "e86dce57",
   "metadata": {},
   "outputs": [
    {
     "ename": "KeyError",
     "evalue": "'foo'",
     "output_type": "error",
     "traceback": [
      "\u001b[1;31m---------------------------------------------------------------------------\u001b[0m",
      "\u001b[1;31mKeyError\u001b[0m                                  Traceback (most recent call last)",
      "Cell \u001b[1;32mIn[6], line 2\u001b[0m\n\u001b[0;32m      1\u001b[0m spam \u001b[38;5;241m=\u001b[39m {\u001b[38;5;124m'\u001b[39m\u001b[38;5;124mbar\u001b[39m\u001b[38;5;124m'\u001b[39m: \u001b[38;5;241m100\u001b[39m} \n\u001b[1;32m----> 2\u001b[0m spam[\u001b[38;5;124m'\u001b[39m\u001b[38;5;124mfoo\u001b[39m\u001b[38;5;124m'\u001b[39m]\n",
      "\u001b[1;31mKeyError\u001b[0m: 'foo'"
     ]
    }
   ],
   "source": [
    "spam = {'bar': 100} \n",
    "spam['foo'] # we will get a keyerror as 'foo' key is not present in the dictionary so it couldn't fetch it."
   ]
  },
  {
   "cell_type": "markdown",
   "id": "b1a15112",
   "metadata": {},
   "source": [
    "# 5. If a dictionary is stored in spam, what is the difference between the expressions 'cat' in spam and 'cat' in spam.keys()?\n",
    "\n",
    "\n"
   ]
  },
  {
   "cell_type": "markdown",
   "id": "f190fba9",
   "metadata": {},
   "source": [
    "'cat' in spam : checks if 'cat' is present in the dictionary ( it defaultly checks keys)\n",
    "\n",
    "'cat' in spam.keys() : does same function, but here we are specifying that search is to be done in keys. \n"
   ]
  },
  {
   "cell_type": "markdown",
   "id": "75b5d57c",
   "metadata": {},
   "source": [
    "# 6. If a dictionary is stored in spam, what is the difference between the expressions 'cat' in spam and 'cat' in spam.values()?\n"
   ]
  },
  {
   "cell_type": "markdown",
   "id": "bc02b4d7",
   "metadata": {},
   "source": [
    "'cat' in spam : checks if 'cat' is present in the dictionary ( it defaultly checks keys)\n",
    "\n",
    "\n",
    "if it was 'cat' in spam.values(), 'cat' would have searched in the dictionary values."
   ]
  },
  {
   "cell_type": "markdown",
   "id": "6d07257b",
   "metadata": {},
   "source": [
    "# 7. What is a shortcut for the following code?\n",
    "if 'color' not in spam:\n",
    "\n",
    "spam['color'] = 'black'\n",
    "\n",
    "\n"
   ]
  },
  {
   "cell_type": "code",
   "execution_count": 10,
   "id": "01c581fc",
   "metadata": {},
   "outputs": [
    {
     "data": {
      "text/plain": [
       "'black'"
      ]
     },
     "execution_count": 10,
     "metadata": {},
     "output_type": "execute_result"
    }
   ],
   "source": [
    "spam.setdefault('color', 'black') # color is the key, black is the value\n"
   ]
  },
  {
   "cell_type": "markdown",
   "id": "12c53773",
   "metadata": {},
   "source": [
    "# 8. How do you \"pretty print\" dictionary values using which module and function?\n"
   ]
  },
  {
   "cell_type": "markdown",
   "id": "33f10196",
   "metadata": {},
   "source": [
    "We need to import pprint module and use pprint method or pformat for pretty font."
   ]
  },
  {
   "cell_type": "code",
   "execution_count": null,
   "id": "29f8b175",
   "metadata": {},
   "outputs": [],
   "source": []
  }
 ],
 "metadata": {
  "kernelspec": {
   "display_name": "Python 3 (ipykernel)",
   "language": "python",
   "name": "python3"
  },
  "language_info": {
   "codemirror_mode": {
    "name": "ipython",
    "version": 3
   },
   "file_extension": ".py",
   "mimetype": "text/x-python",
   "name": "python",
   "nbconvert_exporter": "python",
   "pygments_lexer": "ipython3",
   "version": "3.11.3"
  }
 },
 "nbformat": 4,
 "nbformat_minor": 5
}
