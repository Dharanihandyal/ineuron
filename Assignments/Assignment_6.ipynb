{
 "cells": [
  {
   "cell_type": "markdown",
   "id": "c54d248b",
   "metadata": {},
   "source": [
    "# Assignment - 6"
   ]
  },
  {
   "cell_type": "markdown",
   "id": "ff11994e",
   "metadata": {},
   "source": [
    "# Q.1. What are keywords in python? Using the keyword library, print all the python keywords.\n"
   ]
  },
  {
   "cell_type": "markdown",
   "id": "24d852c2",
   "metadata": {},
   "source": [
    "Keywords\n",
    "\n",
    "-- They are Reserved words having special meaning, Immutable, Built-in. We cannot use them as variables or functions."
   ]
  },
  {
   "cell_type": "code",
   "execution_count": 2,
   "id": "c2056b66",
   "metadata": {},
   "outputs": [
    {
     "name": "stdout",
     "output_type": "stream",
     "text": [
      "['False', 'None', 'True', 'and', 'as', 'assert', 'async', 'await', 'break', 'class', 'continue', 'def', 'del', 'elif', 'else', 'except', 'finally', 'for', 'from', 'global', 'if', 'import', 'in', 'is', 'lambda', 'nonlocal', 'not', 'or', 'pass', 'raise', 'return', 'try', 'while', 'with', 'yield']\n"
     ]
    }
   ],
   "source": [
    "import keyword\n",
    "print(keyword.kwlist)"
   ]
  },
  {
   "cell_type": "markdown",
   "id": "0265b9d1",
   "metadata": {},
   "source": [
    "# Q.2. What are the rules to create variables in python?\n"
   ]
  },
  {
   "cell_type": "markdown",
   "id": "0861dbd6",
   "metadata": {},
   "source": [
    "\n",
    "\n",
    "Ans:- \n",
    "\n",
    "1. Variables can start with alphabets or an underscore. but not with number and special character. ( in middel or last numbers can be used)\n",
    "\n",
    "2. No spaces included in variable names ( we can use \"_\" for clarity\n",
    "\n",
    "2. keywords or built-in function names cannot be used as variables."
   ]
  },
  {
   "cell_type": "markdown",
   "id": "f14682bf",
   "metadata": {},
   "source": [
    "# Q.3. What are the standards and conventions followed for the nomenclature of variables in python to improve code readability and maintainability?\n"
   ]
  },
  {
   "cell_type": "markdown",
   "id": "bb2fe70c",
   "metadata": {},
   "source": [
    "\n",
    "\n",
    "Ans:- \n",
    "\n",
    "Including rules, we have some naming conventions for the variables:\n",
    "\n",
    "1. Using lower case for the variable\n",
    "\n",
    "2. If names have two words naming them like \"firstSecond\" or \"first_second\" convention\n",
    "\n",
    "3. If any important info, or contant, using uppercase is usefull\n",
    "\n",
    "4. keeping variable name descriptive\n",
    "\n",
    "5. \"_\" and \"__\" for specific variable"
   ]
  },
  {
   "cell_type": "code",
   "execution_count": 32,
   "id": "f9ee8f67",
   "metadata": {},
   "outputs": [
    {
     "name": "stdout",
     "output_type": "stream",
     "text": [
      "(1, 2, 3, 4)\n",
      "('abc', 2, True, 40, 'male')\n"
     ]
    }
   ],
   "source": [
    "my_tuple = (1,2,3,4)\n",
    "print(my_tuple)\n",
    "\n",
    "tuple2 = (\"abc\", 2, True, 40, \"male\")\n",
    "print(tuple2)"
   ]
  },
  {
   "cell_type": "markdown",
   "id": "e8fb6d45",
   "metadata": {},
   "source": [
    "3. Dictionaries\n",
    "\n",
    "-- Unordered collection\n",
    "\n",
    "-- key value pairs - item stored in key and value format\n",
    "\n",
    "--Mutable\n",
    "\n",
    "--Adding elements in form of key-value pairs under \"{}\".\n",
    "\n",
    "--key value pairs are made up with \":\" between them for assigning value for the key.\n",
    "\n",
    "--Heterogeneous elements supported"
   ]
  },
  {
   "cell_type": "code",
   "execution_count": 14,
   "id": "b563bb12",
   "metadata": {},
   "outputs": [
    {
     "name": "stdout",
     "output_type": "stream",
     "text": [
      "{'Apple': 'Fruit', 'Delhi': 'Capital', 'year': 2023, 'southIndia': ['Andhrapradesh', 'Tamilnadu', 'Karnataka']}\n"
     ]
    }
   ],
   "source": [
    "dict = {\n",
    "  \"Apple\": \"Fruit\",\n",
    "  \"Delhi\": \"Capital\",\n",
    "  \"year\": 2023,\n",
    "  \"southIndia\": [\"Andhrapradesh\", \"Tamilnadu\", \"Karnataka\"]\n",
    "}\n",
    "print(dict)"
   ]
  },
  {
   "cell_type": "markdown",
   "id": "360d7aa3",
   "metadata": {},
   "source": [
    "# Q.4. What will happen if a keyword is used as a variable name?\n"
   ]
  },
  {
   "cell_type": "code",
   "execution_count": 4,
   "id": "99c22621",
   "metadata": {},
   "outputs": [
    {
     "ename": "SyntaxError",
     "evalue": "cannot assign to False (2429701826.py, line 1)",
     "output_type": "error",
     "traceback": [
      "\u001b[1;36m  Cell \u001b[1;32mIn[4], line 1\u001b[1;36m\u001b[0m\n\u001b[1;33m    False = 10\u001b[0m\n\u001b[1;37m    ^\u001b[0m\n\u001b[1;31mSyntaxError\u001b[0m\u001b[1;31m:\u001b[0m cannot assign to False\n"
     ]
    }
   ],
   "source": [
    "# we get syntax error\n",
    "\n",
    "False = 10\n",
    "print(if)"
   ]
  },
  {
   "cell_type": "markdown",
   "id": "b1a15112",
   "metadata": {},
   "source": [
    "# Q.5. For what purpose def keyword is used?\n"
   ]
  },
  {
   "cell_type": "markdown",
   "id": "0777bd43",
   "metadata": {},
   "source": [
    "We use \"def\" keyword to define a function. \n",
    "\n",
    "def myfirstfunction():\n",
    "    print(\"Today is Thursday\")"
   ]
  },
  {
   "cell_type": "markdown",
   "id": "75b5d57c",
   "metadata": {},
   "source": [
    "# Q.6. What is the operation of this special character ‘\\’?\n",
    "\n"
   ]
  },
  {
   "cell_type": "markdown",
   "id": "f5a0c9c9",
   "metadata": {},
   "source": [
    "\"\\\" is an escape sequence.\n",
    "\n",
    "operations: \n",
    "\n",
    "    1. \\n = to give new line\n",
    "    \n",
    "    2. \\t = giving tab\n",
    "    \n",
    "    3. \\\\ = giving two backslask for literal one backslash\n"
   ]
  },
  {
   "cell_type": "markdown",
   "id": "6d07257b",
   "metadata": {},
   "source": [
    "# Q.7. Give an example of the following conditions:\n",
    "(i) Homogeneous list\n",
    "\n",
    "(ii) Heterogeneous set\n",
    "\n",
    "(iii) Homogeneous tuple\n"
   ]
  },
  {
   "cell_type": "code",
   "execution_count": 6,
   "id": "0e3e6cde",
   "metadata": {},
   "outputs": [
    {
     "name": "stdout",
     "output_type": "stream",
     "text": [
      "(23, 34, 56, 78, 89)\n",
      "{True, 2, 'abc', 40, 'male'}\n",
      "('abc', 'True', 'male')\n"
     ]
    }
   ],
   "source": [
    "Homogeneous_list = (23,34,56,78,89)\n",
    "print(Homogeneous_list)\n",
    "\n",
    "Heterogeneous_set = {\"abc\", 2, True, 40, \"male\"}\n",
    "print(Heterogeneous_set)\n",
    "\n",
    "Homogeneous_tuple = (\"abc\", \"True\", \"male\")\n",
    "print(Homogeneous_tuple)"
   ]
  },
  {
   "cell_type": "markdown",
   "id": "12c53773",
   "metadata": {},
   "source": [
    "# Q.8. Explain the mutable and immutable data types with proper explanation & examples.\n",
    "\n"
   ]
  },
  {
   "cell_type": "markdown",
   "id": "8fe7e52f",
   "metadata": {},
   "source": [
    "Data types in Python\n",
    "\n",
    "Immutable:  whose values cannot be changed after they are created\n",
    "\n",
    "-> Integer, , Floats, Strings, Tuple.\n",
    "\n",
    "Mutable: whose values can be changed after they are created\n",
    "\n",
    "-> List, Dictionary, Set\n",
    "\n"
   ]
  },
  {
   "cell_type": "markdown",
   "id": "14a189f5",
   "metadata": {},
   "source": [
    "# Lists\n",
    "-- Ordered collection which is enclosed in square brackets.\n",
    "\n",
    "-- similar to arrays in other languages but with additional functionalities.\n",
    "\n",
    "-- Mutale.\n",
    "\n",
    "-- Created by placing elements inside \"[]\" brackets.\n",
    "\n",
    "-- Heterogeneous Elements: List can contain elements of different data types.\n",
    "\n",
    "-- Indexing and Slicing can be performed on lists to access or modify elements."
   ]
  },
  {
   "cell_type": "code",
   "execution_count": 10,
   "id": "d6836e40",
   "metadata": {},
   "outputs": [
    {
     "name": "stdout",
     "output_type": "stream",
     "text": [
      "['Apples', 1, ['List in list']]\n"
     ]
    }
   ],
   "source": [
    "fruits = [\"Apples\", 1, [\"List in list\"]]\n",
    "print(fruits)"
   ]
  },
  {
   "cell_type": "markdown",
   "id": "5c08a183",
   "metadata": {},
   "source": [
    "# Tuple\n",
    "-- Similar to list.\n",
    "\n",
    "-- Immutable\n",
    "\n",
    "-- enclosed in \"()\"\n",
    "\n",
    "-- Heterogeneous elements supported\n",
    "\n",
    "-- Indexing and Slicing can be performed to access data but cannot be modified."
   ]
  },
  {
   "cell_type": "code",
   "execution_count": 12,
   "id": "25205ef8",
   "metadata": {},
   "outputs": [
    {
     "name": "stdout",
     "output_type": "stream",
     "text": [
      "(1, 2, 3, 4)\n"
     ]
    }
   ],
   "source": [
    "my_tuple = (1,2,3,4)\n",
    "print(my_tuple)"
   ]
  },
  {
   "cell_type": "markdown",
   "id": "14961347",
   "metadata": {},
   "source": [
    "# Dictionaries\n",
    "-- Unordered collection\n",
    "\n",
    "-- key value pairs - item stored in key and value format\n",
    "\n",
    "--Mutable\n",
    "\n",
    "--Adding elements in form of key-value pairs under \"{}\".\n",
    "\n",
    "--key value pairs are made up with \":\" between them for assigning value for the key.\n",
    "\n",
    "--Heterogeneous elements supported"
   ]
  },
  {
   "cell_type": "code",
   "execution_count": 13,
   "id": "93c4f254",
   "metadata": {},
   "outputs": [],
   "source": [
    "my_dict = {'name': 'John', 'age': 30}"
   ]
  },
  {
   "cell_type": "markdown",
   "id": "238535d2",
   "metadata": {},
   "source": [
    "# set\n",
    "\n",
    "-- mutable\n",
    "\n",
    "-- an unordered collection of unique elements. \n",
    "\n",
    "-- defined by enclosing in curly braces {}. \n",
    "\n",
    "-- Sets are commonly used when you need to work with a collection of items where duplicates are not allowed"
   ]
  },
  {
   "cell_type": "code",
   "execution_count": 18,
   "id": "7add4594",
   "metadata": {},
   "outputs": [
    {
     "name": "stdout",
     "output_type": "stream",
     "text": [
      "{'apple', 'orange', 'banana', 'cherry'}\n",
      "{'apple', 'banana', 'pineapple', 'cherry', 'orange'}\n",
      "{'apple', 'banana', 'pineapple', 'orange'}\n"
     ]
    }
   ],
   "source": [
    "fruits = {\"apple\", \"banana\", \"cherry\"}\n",
    "fruits.add(\"orange\")\n",
    "\n",
    "print(fruits)\n",
    "\n",
    "fruits.add(\"pineapple\")\n",
    "print(fruits)\n",
    "\n",
    "fruits.remove(\"cherry\")\n",
    "print(fruits)"
   ]
  },
  {
   "cell_type": "code",
   "execution_count": 9,
   "id": "8219f72b",
   "metadata": {},
   "outputs": [
    {
     "name": "stdout",
     "output_type": "stream",
     "text": [
      "5\n",
      "3.14\n",
      "Hello\n"
     ]
    }
   ],
   "source": [
    "# Integer - whole numbers, without decimal point, they can be positive or negative\n",
    "\n",
    "x = 5\n",
    "print(x) \n",
    "\n",
    "# Floats - Real numbers and written in decimal points\n",
    "\n",
    "a = 3.14\n",
    "print(a) \n",
    "\n",
    "# Strings - Sequences of character data quoted by double quotes\n",
    "\n",
    "s = \"Hello\"\n",
    "print(s) "
   ]
  },
  {
   "cell_type": "markdown",
   "id": "d26dd862",
   "metadata": {},
   "source": [
    "# Q.9. Write a code to create the given structure using only for loop.\n",
    "\n",
    "\n",
    "\n"
   ]
  },
  {
   "cell_type": "markdown",
   "id": "666f220c",
   "metadata": {},
   "source": [
    "*\n",
    "\n",
    "***\n",
    "\n",
    "*****\n",
    "\n",
    "*******\n",
    "\n",
    "*********\n"
   ]
  },
  {
   "cell_type": "code",
   "execution_count": 27,
   "id": "63c4cea0",
   "metadata": {},
   "outputs": [
    {
     "name": "stdout",
     "output_type": "stream",
     "text": [
      "\n",
      "*\n",
      "***\n",
      "*****\n",
      "*******\n",
      "*********\n"
     ]
    }
   ],
   "source": [
    "rows = 6\n",
    "    \n",
    "for i in range(rows):\n",
    "    for k in range(2 * i - 1):\n",
    "        print(\"*\", end=\"\")\n",
    "    print()"
   ]
  },
  {
   "cell_type": "markdown",
   "id": "6e37c43d",
   "metadata": {},
   "source": [
    "# Q.10. Write a code to create the given structure using while loop.\n",
    "\n",
    "|||||||||\n",
    "\n",
    "|||||||\n",
    "\n",
    "|||||\n",
    "\n",
    "|||\n",
    "\n",
    "|"
   ]
  },
  {
   "cell_type": "code",
   "execution_count": 31,
   "id": "e1f7809d",
   "metadata": {},
   "outputs": [
    {
     "name": "stdout",
     "output_type": "stream",
     "text": [
      "|||||||||\n",
      "|||||||\n",
      "|||||\n",
      "|||\n",
      "|\n"
     ]
    }
   ],
   "source": [
    "n = 9 \n",
    "\n",
    "while n >= 1:\n",
    "    print(\"|\" * n)\n",
    "    n = n - 2"
   ]
  }
 ],
 "metadata": {
  "kernelspec": {
   "display_name": "Python 3 (ipykernel)",
   "language": "python",
   "name": "python3"
  },
  "language_info": {
   "codemirror_mode": {
    "name": "ipython",
    "version": 3
   },
   "file_extension": ".py",
   "mimetype": "text/x-python",
   "name": "python",
   "nbconvert_exporter": "python",
   "pygments_lexer": "ipython3",
   "version": "3.11.3"
  }
 },
 "nbformat": 4,
 "nbformat_minor": 5
}
