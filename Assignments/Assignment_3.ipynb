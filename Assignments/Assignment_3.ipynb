{
 "cells": [
  {
   "cell_type": "markdown",
   "id": "c54d248b",
   "metadata": {},
   "source": [
    "# Assignment - 3"
   ]
  },
  {
   "cell_type": "markdown",
   "id": "ff11994e",
   "metadata": {},
   "source": [
    "# 1. Why are functions advantageous to have in your programs?\n"
   ]
  },
  {
   "cell_type": "markdown",
   "id": "24d852c2",
   "metadata": {},
   "source": [
    "\n",
    "\n",
    "\n",
    "Ans:- \n",
    "\n",
    "Function is the block of code having some specified logic which is already written and kept. \n",
    "\n",
    "So using them in our programs reduces the effort of writing functions again and leads to shorter programs . It makes easy to read and understand. "
   ]
  },
  {
   "cell_type": "markdown",
   "id": "0265b9d1",
   "metadata": {},
   "source": [
    "# 2. When does the code in a function run: when it's specified or when it's called?"
   ]
  },
  {
   "cell_type": "markdown",
   "id": "0861dbd6",
   "metadata": {},
   "source": [
    "\n",
    "\n",
    "Ans:- Function runs when we call it. "
   ]
  },
  {
   "cell_type": "markdown",
   "id": "f14682bf",
   "metadata": {},
   "source": [
    "# 3.  What statement creates a function?"
   ]
  },
  {
   "cell_type": "markdown",
   "id": "bb2fe70c",
   "metadata": {},
   "source": [
    "\n",
    "\n",
    "Ans:- def statement creates the function and ending with the braces and colon."
   ]
  },
  {
   "cell_type": "markdown",
   "id": "360d7aa3",
   "metadata": {},
   "source": [
    "# 4 . What is the difference between a function and a function call?"
   ]
  },
  {
   "cell_type": "markdown",
   "id": "6949b21d",
   "metadata": {},
   "source": [
    "Ans:\n",
    "\n",
    "Function :- Function is the block of code having some logic. \n",
    "\n",
    "Function call :- It is like provoking the function which has already written. It calls the function so that function will execute.\n"
   ]
  },
  {
   "cell_type": "markdown",
   "id": "b1a15112",
   "metadata": {},
   "source": [
    "# 5. How many global scopes are there in a Python program? How many local scopes?\n"
   ]
  },
  {
   "cell_type": "markdown",
   "id": "0777bd43",
   "metadata": {},
   "source": [
    "Ans: \n",
    "\n",
    "Global scope will be single and which is used by all the functions and values will be constant across them. Local scopes will be many. We can have any amount of local scopes inside our functions."
   ]
  },
  {
   "cell_type": "markdown",
   "id": "75b5d57c",
   "metadata": {},
   "source": [
    "# 6. What happens to variables in a local scope when the function call returns?\n"
   ]
  },
  {
   "cell_type": "markdown",
   "id": "f4b27828",
   "metadata": {},
   "source": [
    "Ans: \n",
    "    When functions completes execution, the values of the localscope and variables will be destroyed."
   ]
  },
  {
   "cell_type": "markdown",
   "id": "6d07257b",
   "metadata": {},
   "source": [
    "# 7.What is the concept of a return value? Is it possible to have a return value in an expression?\n",
    "\n"
   ]
  },
  {
   "cell_type": "markdown",
   "id": "ac237c5c",
   "metadata": {},
   "source": [
    "Retrun is a statement which specifies what output we need in result. \n",
    "\n",
    "It is the end of the function and sends results to the calling function statement.\n",
    "\n",
    "We can use return statement to print the result of this defined function even outside the function.\n",
    "Yes, it is possible to have return value in an expression."
   ]
  },
  {
   "cell_type": "markdown",
   "id": "12c53773",
   "metadata": {},
   "source": [
    "# 8. If a function does not have a return statement, what is the return value of a call to that function?\n"
   ]
  },
  {
   "cell_type": "markdown",
   "id": "8efb800b",
   "metadata": {},
   "source": [
    "Ans :- It returns \"None\""
   ]
  },
  {
   "cell_type": "markdown",
   "id": "d26dd862",
   "metadata": {},
   "source": [
    "# 9.How do you make a function variable refer to the global variable?\n"
   ]
  },
  {
   "cell_type": "markdown",
   "id": "666f220c",
   "metadata": {},
   "source": [
    "Ans: By providing \"global\" keyword as the prefix of the function variable, it cane be refered to the global variable."
   ]
  },
  {
   "cell_type": "markdown",
   "id": "6e37c43d",
   "metadata": {},
   "source": [
    "# 10. What is the data type of None?\n"
   ]
  },
  {
   "cell_type": "markdown",
   "id": "353dbf00",
   "metadata": {},
   "source": [
    "Ans: NoneType"
   ]
  },
  {
   "cell_type": "markdown",
   "id": "ca2a9ebf",
   "metadata": {},
   "source": [
    "# 11. What does the sentence import areallyourpetsnamederic do?"
   ]
  },
  {
   "cell_type": "markdown",
   "id": "69a794a3",
   "metadata": {},
   "source": [
    "import areallyourpetsnamederic\n",
    "\n",
    "-- Import keyword is used to import the modules. But here there are 2 scenarios: \n",
    "\n",
    "1. If the specified module doesn't exist, it will throw an error = \"ModuleNotFoundError: No module named 'areallyourpetsnamederic'\"\n",
    "\n",
    "2. If specified module exists in the directory, Import statement will import the module (It might be available open source or user defined modules) \n"
   ]
  },
  {
   "cell_type": "markdown",
   "id": "b8197d05",
   "metadata": {},
   "source": [
    "# 12. If you had a bacon() feature in a spam module, what would you call it after importing spam?"
   ]
  },
  {
   "cell_type": "markdown",
   "id": "0423e67b",
   "metadata": {},
   "source": [
    "from spam import bacon\n",
    "\n",
    "#or\n",
    "\n",
    "import spam\n",
    "\n",
    "spam.bacon()"
   ]
  },
  {
   "cell_type": "markdown",
   "id": "b5c11715",
   "metadata": {},
   "source": [
    "# 13. What can you do to save a programme from crashing if it encounters an error?"
   ]
  },
  {
   "cell_type": "markdown",
   "id": "8fcb2ac8",
   "metadata": {},
   "source": [
    "Ans: Error Handling using try and except blocks. PRogram should try the code, if it meets with an error, it should specify error instead of crashing.\n",
    "\n"
   ]
  },
  {
   "cell_type": "markdown",
   "id": "5ac2a16b",
   "metadata": {},
   "source": [
    "# 14. What is the purpose of the try clause? What is the purpose of the except clause?"
   ]
  },
  {
   "cell_type": "markdown",
   "id": "328ec169",
   "metadata": {},
   "source": [
    "Ans:- try clause: There will be written a block of code which may or may not throw an error. If, it doesn't throw any error, output will be displayed. If it throws an error, except block will be executed."
   ]
  },
  {
   "cell_type": "code",
   "execution_count": null,
   "id": "078eb47e",
   "metadata": {},
   "outputs": [],
   "source": []
  }
 ],
 "metadata": {
  "kernelspec": {
   "display_name": "Python 3 (ipykernel)",
   "language": "python",
   "name": "python3"
  },
  "language_info": {
   "codemirror_mode": {
    "name": "ipython",
    "version": 3
   },
   "file_extension": ".py",
   "mimetype": "text/x-python",
   "name": "python",
   "nbconvert_exporter": "python",
   "pygments_lexer": "ipython3",
   "version": "3.11.3"
  }
 },
 "nbformat": 4,
 "nbformat_minor": 5
}
