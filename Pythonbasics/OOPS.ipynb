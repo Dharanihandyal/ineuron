{
 "cells": [
  {
   "cell_type": "markdown",
   "id": "ae1559ef",
   "metadata": {},
   "source": [
    "# Class --  which contain Object.\n",
    "\n",
    "Class - Blueprint of an object\n",
    "\n",
    "Object - Can be anything ( lists, string, dict etc)\n",
    "\n",
    "-- In programming, everything will be derived from the objects\n",
    "\n",
    "\n",
    "Ex: - \n",
    "\n",
    "House is a \"class\". And house contains properties called as \"Attributes\". And there are methods also (cooking)\n",
    "\n",
    "'---->land size\n",
    "\n",
    "'---->No of living rooms\n",
    "\n",
    "'---->size of kitchen\n",
    "\n",
    "'---->garden size\n",
    "\n",
    "'---->bathrooms size\n",
    "\n",
    "'----> Cooking ==> Kitchen\n",
    "\n",
    "-----------------------------------------------------------------------------------\n",
    "\n",
    "Bank Account (class)\n",
    "\n",
    "'---->account no\n",
    "\n",
    "'---->account holder name\n",
    "\n",
    "'---->balance\n",
    "\n",
    "'---->monile no \n",
    "\n",
    "and class can also include methods or functions:\n",
    "\n",
    "'---->deposit()\n",
    "\n",
    "'---->withdraw()\n"
   ]
  },
  {
   "cell_type": "code",
   "execution_count": 1,
   "id": "6f535215",
   "metadata": {},
   "outputs": [],
   "source": [
    "# Defining classes\n",
    "\n",
    "class Person:\n",
    "    pass"
   ]
  },
  {
   "cell_type": "code",
   "execution_count": 5,
   "id": "7f4107f0",
   "metadata": {},
   "outputs": [],
   "source": [
    "person1 = Person() # creating object/instance of a class"
   ]
  },
  {
   "cell_type": "code",
   "execution_count": 6,
   "id": "4d5009eb",
   "metadata": {},
   "outputs": [
    {
     "data": {
      "text/plain": [
       "<__main__.Person at 0x1ea7facb110>"
      ]
     },
     "execution_count": 6,
     "metadata": {},
     "output_type": "execute_result"
    }
   ],
   "source": [
    "person1 # the result shows that \"person1\" ia an onject from Person with Memory location."
   ]
  },
  {
   "cell_type": "code",
   "execution_count": 7,
   "id": "01293497",
   "metadata": {},
   "outputs": [],
   "source": [
    "# define an attribute/properties (name)\n",
    "\n",
    "person1.fname = \"Dharani\""
   ]
  },
  {
   "cell_type": "code",
   "execution_count": 8,
   "id": "9559d338",
   "metadata": {},
   "outputs": [
    {
     "data": {
      "text/plain": [
       "['__class__',\n",
       " '__delattr__',\n",
       " '__dict__',\n",
       " '__dir__',\n",
       " '__doc__',\n",
       " '__eq__',\n",
       " '__format__',\n",
       " '__ge__',\n",
       " '__getattribute__',\n",
       " '__getstate__',\n",
       " '__gt__',\n",
       " '__hash__',\n",
       " '__init__',\n",
       " '__init_subclass__',\n",
       " '__le__',\n",
       " '__lt__',\n",
       " '__module__',\n",
       " '__ne__',\n",
       " '__new__',\n",
       " '__reduce__',\n",
       " '__reduce_ex__',\n",
       " '__repr__',\n",
       " '__setattr__',\n",
       " '__sizeof__',\n",
       " '__str__',\n",
       " '__subclasshook__',\n",
       " '__weakref__',\n",
       " 'fname']"
      ]
     },
     "execution_count": 8,
     "metadata": {},
     "output_type": "execute_result"
    }
   ],
   "source": [
    "dir(person1)"
   ]
  },
  {
   "cell_type": "code",
   "execution_count": 9,
   "id": "e43982f3",
   "metadata": {},
   "outputs": [],
   "source": [
    "#proper class with constructor\n",
    "# default constructor will be \"__str__\",\n",
    "# if we want to overwrite it, we can define \"___init__\" constructor.\n",
    "\n",
    "\n",
    "class Person:\n",
    "    def __init__(self, name1, last_name1):# Constructor -> Initialization / assigining values to the properties happens because of this constructor\n",
    "        self.name = name1                 # self -> talks about current instance of the class.\n",
    "        self.last_name = last_name1       #self -> refers to this instance\n",
    "        \n",
    "    "
   ]
  },
  {
   "cell_type": "code",
   "execution_count": 10,
   "id": "3d3e299b",
   "metadata": {},
   "outputs": [],
   "source": [
    "person = Person(\"dharani\", \"handyal\")"
   ]
  },
  {
   "cell_type": "code",
   "execution_count": 11,
   "id": "c6f83e80",
   "metadata": {},
   "outputs": [
    {
     "name": "stdout",
     "output_type": "stream",
     "text": [
      "dharani\n"
     ]
    }
   ],
   "source": [
    "print(person.name)"
   ]
  },
  {
   "cell_type": "code",
   "execution_count": 12,
   "id": "0e5fc4e7",
   "metadata": {},
   "outputs": [],
   "source": [
    "person2 = Person(\"yatharth\", \"bansal\")"
   ]
  },
  {
   "cell_type": "code",
   "execution_count": 13,
   "id": "728e7fe1",
   "metadata": {},
   "outputs": [
    {
     "name": "stdout",
     "output_type": "stream",
     "text": [
      "yatharth\n"
     ]
    }
   ],
   "source": [
    "print(person2.name)"
   ]
  },
  {
   "cell_type": "code",
   "execution_count": 14,
   "id": "f7289e09",
   "metadata": {},
   "outputs": [],
   "source": [
    "class Person:\n",
    "    def __init__(self, name1, last_name1): #__init__ is the constructor where as __str__ is just used to display\n",
    "        self.name = name1                 \n",
    "        self.last_name = last_name1\n",
    "    def __str__(self):\n",
    "        return \"the name is {} and the last name is {}\".format(self.name,self.last_name)\n",
    "    \n",
    "    \n",
    "    #or \n",
    "    # return f\"the name is {self.name} and the last name is {self.last_name}\""
   ]
  },
  {
   "cell_type": "code",
   "execution_count": 15,
   "id": "798434b2",
   "metadata": {},
   "outputs": [
    {
     "name": "stdout",
     "output_type": "stream",
     "text": [
      "the name is Keerthana and the last name is Naik\n"
     ]
    }
   ],
   "source": [
    "person3 = Person(\"Keerthana\", \"Naik\")\n",
    "print(person3)"
   ]
  },
  {
   "cell_type": "code",
   "execution_count": 54,
   "id": "676fe752",
   "metadata": {},
   "outputs": [],
   "source": [
    "## craete a bank account class and info like acc num, acc holder name and balance as attributes.\n",
    "\n",
    "class Bank:\n",
    "    def __init__(self,acc_num,acc_holder, balance=0):\n",
    "        self.acc_num = acc_num\n",
    "        self.acc_holder = acc_holder\n",
    "        self.balance = balance\n",
    "        \n",
    "    def deposit(self,amount):\n",
    "        self.balance+=amount\n",
    "        \n",
    "    def withdrawl(self,withdrawl_amount):\n",
    "        if withdrawl_amount <= self.balance:\n",
    "            self.balance-= withdrawl_amount\n",
    "            print(f\"your updated balance is {self.balance}\")\n",
    "        else:\n",
    "            print(\"no enough balance\")"
   ]
  },
  {
   "cell_type": "code",
   "execution_count": 55,
   "id": "a3ff7324",
   "metadata": {},
   "outputs": [],
   "source": [
    "account1 = Bank(\"1234\",\"dharani\",0)"
   ]
  },
  {
   "cell_type": "code",
   "execution_count": 56,
   "id": "4d290731",
   "metadata": {},
   "outputs": [
    {
     "name": "stdout",
     "output_type": "stream",
     "text": [
      "0\n"
     ]
    }
   ],
   "source": [
    "print(account1.balance)"
   ]
  },
  {
   "cell_type": "code",
   "execution_count": 57,
   "id": "b99acf1e",
   "metadata": {},
   "outputs": [],
   "source": [
    "account1.deposit(1000)"
   ]
  },
  {
   "cell_type": "code",
   "execution_count": 58,
   "id": "4a0e00dc",
   "metadata": {},
   "outputs": [
    {
     "name": "stdout",
     "output_type": "stream",
     "text": [
      "1000\n"
     ]
    }
   ],
   "source": [
    "print(account1.balance)"
   ]
  },
  {
   "cell_type": "code",
   "execution_count": 59,
   "id": "8ae21a64",
   "metadata": {},
   "outputs": [
    {
     "data": {
      "text/plain": [
       "['__class__',\n",
       " '__delattr__',\n",
       " '__dict__',\n",
       " '__dir__',\n",
       " '__doc__',\n",
       " '__eq__',\n",
       " '__format__',\n",
       " '__ge__',\n",
       " '__getattribute__',\n",
       " '__getstate__',\n",
       " '__gt__',\n",
       " '__hash__',\n",
       " '__init__',\n",
       " '__init_subclass__',\n",
       " '__le__',\n",
       " '__lt__',\n",
       " '__module__',\n",
       " '__ne__',\n",
       " '__new__',\n",
       " '__reduce__',\n",
       " '__reduce_ex__',\n",
       " '__repr__',\n",
       " '__setattr__',\n",
       " '__sizeof__',\n",
       " '__str__',\n",
       " '__subclasshook__',\n",
       " '__weakref__',\n",
       " 'acc_holder',\n",
       " 'acc_num',\n",
       " 'balance',\n",
       " 'deposit',\n",
       " 'withdrawl']"
      ]
     },
     "execution_count": 59,
     "metadata": {},
     "output_type": "execute_result"
    }
   ],
   "source": [
    "dir(account1)"
   ]
  },
  {
   "cell_type": "code",
   "execution_count": 60,
   "id": "e1d6c6a7",
   "metadata": {},
   "outputs": [
    {
     "name": "stdout",
     "output_type": "stream",
     "text": [
      "your updated balance is 500\n"
     ]
    }
   ],
   "source": [
    "account1.withdrawl(500)"
   ]
  },
  {
   "cell_type": "code",
   "execution_count": 61,
   "id": "28f9794b",
   "metadata": {},
   "outputs": [
    {
     "name": "stdout",
     "output_type": "stream",
     "text": [
      "500\n"
     ]
    }
   ],
   "source": [
    "print(account1.balance)"
   ]
  },
  {
   "cell_type": "code",
   "execution_count": 62,
   "id": "9208cf93",
   "metadata": {},
   "outputs": [
    {
     "ename": "SyntaxError",
     "evalue": "expected ':' (4177967184.py, line 4)",
     "output_type": "error",
     "traceback": [
      "\u001b[1;36m  Cell \u001b[1;32mIn[62], line 4\u001b[1;36m\u001b[0m\n\u001b[1;33m    def add_task()\u001b[0m\n\u001b[1;37m                  ^\u001b[0m\n\u001b[1;31mSyntaxError\u001b[0m\u001b[1;31m:\u001b[0m expected ':'\n"
     ]
    }
   ],
   "source": [
    "# another example\n",
    "\n",
    "task = []\n",
    "def add_task()\n",
    "def remove_completed_task()\n",
    "def display_remaining_tasks()"
   ]
  },
  {
   "cell_type": "code",
   "execution_count": 72,
   "id": "0dd84026",
   "metadata": {},
   "outputs": [],
   "source": [
    "class ToDoList:\n",
    "    #constructor\n",
    "    def __init__(self,owner):\n",
    "        self.owner=owner\n",
    "        self.tasks=[]\n",
    "        \n",
    "    def add_task(self,task):\n",
    "        self.tasks.append(task)\n",
    "        \n",
    "    def completed_task(self,task):\n",
    "        if task in self.tasks:\n",
    "            self.tasks.remove(task)\n",
    "            print(f\"Task '{task}' completed\")\n",
    "        else:\n",
    "            print(\"Task not found\")\n",
    "        \n",
    "    def display_task(self):\n",
    "        print(f\"The ToDoTask of {self.owner}: \")\n",
    "        for task in self.tasks:\n",
    "            print(task)"
   ]
  },
  {
   "cell_type": "code",
   "execution_count": 73,
   "id": "a074d80c",
   "metadata": {},
   "outputs": [],
   "source": [
    "dharani = ToDoList(\"Dharani\")"
   ]
  },
  {
   "cell_type": "code",
   "execution_count": 74,
   "id": "b542f739",
   "metadata": {},
   "outputs": [
    {
     "data": {
      "text/plain": [
       "[]"
      ]
     },
     "execution_count": 74,
     "metadata": {},
     "output_type": "execute_result"
    }
   ],
   "source": [
    "dharani.tasks"
   ]
  },
  {
   "cell_type": "code",
   "execution_count": 75,
   "id": "7c346be4",
   "metadata": {},
   "outputs": [],
   "source": [
    "dharani.add_task(\"Study\")"
   ]
  },
  {
   "cell_type": "code",
   "execution_count": 76,
   "id": "fc9d3533",
   "metadata": {},
   "outputs": [
    {
     "name": "stdout",
     "output_type": "stream",
     "text": [
      "The ToDoTask of Dharani: \n",
      "Study\n"
     ]
    }
   ],
   "source": [
    "dharani.display_task()"
   ]
  },
  {
   "cell_type": "code",
   "execution_count": 77,
   "id": "a4a6eb23",
   "metadata": {},
   "outputs": [],
   "source": [
    "dharani.add_task(\"Call mom\")"
   ]
  },
  {
   "cell_type": "code",
   "execution_count": 78,
   "id": "3a5c51a3",
   "metadata": {},
   "outputs": [],
   "source": [
    "dharani.add_task(\"have lunch\")"
   ]
  },
  {
   "cell_type": "code",
   "execution_count": 79,
   "id": "caa0dd4a",
   "metadata": {},
   "outputs": [
    {
     "name": "stdout",
     "output_type": "stream",
     "text": [
      "The ToDoTask of Dharani: \n",
      "Study\n",
      "Call mom\n",
      "have lunch\n"
     ]
    }
   ],
   "source": [
    "dharani.display_task()"
   ]
  },
  {
   "cell_type": "code",
   "execution_count": 83,
   "id": "ff30c31b",
   "metadata": {},
   "outputs": [
    {
     "name": "stdout",
     "output_type": "stream",
     "text": [
      "Task 'Call mom' completed\n"
     ]
    }
   ],
   "source": [
    "dharani.completed_task(\"Call mom\")"
   ]
  },
  {
   "cell_type": "code",
   "execution_count": 84,
   "id": "39174ea2",
   "metadata": {},
   "outputs": [
    {
     "name": "stdout",
     "output_type": "stream",
     "text": [
      "The ToDoTask of Dharani: \n",
      "Study\n",
      "have lunch\n"
     ]
    }
   ],
   "source": [
    "dharani.display_task()"
   ]
  },
  {
   "cell_type": "code",
   "execution_count": 14,
   "id": "bb2d0790",
   "metadata": {},
   "outputs": [],
   "source": [
    "class Car:\n",
    "    #constructor\n",
    "    def __init__(self, brand,model,color):\n",
    "        self.brand = brand\n",
    "        self.model = model\n",
    "        self.color = color\n",
    "        print(f\"The Car is of {self.brand} brand and {self.model} model and having {self.color} color\")\n",
    "        \n",
    "    def strat_engine(self):\n",
    "        return \"{} {} Car is driving \".format(self.brand,self.model)\n",
    "    def stop_engine(self):\n",
    "        return \"{} Car is stopping \".format(self.brand)"
   ]
  },
  {
   "cell_type": "code",
   "execution_count": 15,
   "id": "c763d9ec",
   "metadata": {},
   "outputs": [
    {
     "name": "stdout",
     "output_type": "stream",
     "text": [
      "The Car is of bmv brand and SUV model and having Red color\n"
     ]
    }
   ],
   "source": [
    "car1 = Car(\"bmv\", \"SUV\",\"Red\")"
   ]
  },
  {
   "cell_type": "code",
   "execution_count": 16,
   "id": "4e9c9163",
   "metadata": {},
   "outputs": [
    {
     "data": {
      "text/plain": [
       "'bmv'"
      ]
     },
     "execution_count": 16,
     "metadata": {},
     "output_type": "execute_result"
    }
   ],
   "source": [
    "car1.brand"
   ]
  },
  {
   "cell_type": "code",
   "execution_count": 17,
   "id": "75c77123",
   "metadata": {},
   "outputs": [
    {
     "data": {
      "text/plain": [
       "'bmv SUV Car is driving '"
      ]
     },
     "execution_count": 17,
     "metadata": {},
     "output_type": "execute_result"
    }
   ],
   "source": [
    "car1.strat_engine()"
   ]
  },
  {
   "cell_type": "code",
   "execution_count": 38,
   "id": "fabe585d",
   "metadata": {},
   "outputs": [],
   "source": [
    "class mobile:\n",
    "    def __init__(self,brand,model,processor,price):\n",
    "        self.brand = brand\n",
    "        self.model = model\n",
    "        self.processor = processor\n",
    "        self.price = price\n",
    "        print(f\"the {self.brand} mobile is {self.model} model with {self.processor} processor\")\n",
    "    def calling(self,number):\n",
    "        print(f'call came from {number} number of {self.brand} phone')\n",
    "    def gaming(self):\n",
    "        return \"{} mobile is goof for playing games\".format(self.model)\n",
    "    def messaging(self,number, message):\n",
    "        print(f\"message came from {number} : {message} {self.processor} processor phone costs {self.price} INR\")"
   ]
  },
  {
   "cell_type": "code",
   "execution_count": 39,
   "id": "fc8b44d8",
   "metadata": {},
   "outputs": [
    {
     "name": "stdout",
     "output_type": "stream",
     "text": [
      "the oppo mobile is camera model with snapdragon processor\n"
     ]
    }
   ],
   "source": [
    "phone1 = mobile(\"oppo\",\"camera\",\"snapdragon\",\"10000\")"
   ]
  },
  {
   "cell_type": "code",
   "execution_count": 40,
   "id": "86fc41be",
   "metadata": {},
   "outputs": [
    {
     "name": "stdout",
     "output_type": "stream",
     "text": [
      "call came from 8904995 number of oppo phone\n",
      "message came from 3456789 : This snapdragon processor phone costs 10000 INR\n"
     ]
    },
    {
     "data": {
      "text/plain": [
       "'camera mobile is goof for playing games'"
      ]
     },
     "execution_count": 40,
     "metadata": {},
     "output_type": "execute_result"
    }
   ],
   "source": [
    "phone1.calling(\"8904995\")\n",
    "\n",
    "phone1.messaging(\"3456789\",\"This\")\n",
    "phone1.gaming()"
   ]
  },
  {
   "cell_type": "code",
   "execution_count": 41,
   "id": "336c1dac",
   "metadata": {},
   "outputs": [],
   "source": [
    "class laptop:\n",
    "    def __init__(self,brand,model,ram):\n",
    "        self.brand = brand\n",
    "        self.model = model\n",
    "        self.ram = ram\n",
    "        print(f\"the {self.brand} laptop is {self.model} model with {self.ram} ram size\")\n",
    "    def power_on(self,login_creds):\n",
    "        print(f'sign on with {login_creds} credentials')\n",
    "    def power_off(self):\n",
    "        return \"{} laptop has powered off\".format(self.model)\n",
    "    "
   ]
  },
  {
   "cell_type": "code",
   "execution_count": 42,
   "id": "4257091a",
   "metadata": {},
   "outputs": [
    {
     "name": "stdout",
     "output_type": "stream",
     "text": [
      "the asus laptop is notebook model with 16gb ram size\n",
      "sign on with shivam credentials\n"
     ]
    }
   ],
   "source": [
    "laptop1 = laptop(\"asus\",\"notebook\",\"16gb\")\n",
    "laptop1.power_on(\"shivam\")"
   ]
  },
  {
   "cell_type": "code",
   "execution_count": 44,
   "id": "c5ef0f69",
   "metadata": {},
   "outputs": [
    {
     "data": {
      "text/plain": [
       "['__class__',\n",
       " '__delattr__',\n",
       " '__dict__',\n",
       " '__dir__',\n",
       " '__doc__',\n",
       " '__eq__',\n",
       " '__format__',\n",
       " '__ge__',\n",
       " '__getattribute__',\n",
       " '__getstate__',\n",
       " '__gt__',\n",
       " '__hash__',\n",
       " '__init__',\n",
       " '__init_subclass__',\n",
       " '__le__',\n",
       " '__lt__',\n",
       " '__module__',\n",
       " '__ne__',\n",
       " '__new__',\n",
       " '__reduce__',\n",
       " '__reduce_ex__',\n",
       " '__repr__',\n",
       " '__setattr__',\n",
       " '__sizeof__',\n",
       " '__str__',\n",
       " '__subclasshook__',\n",
       " '__weakref__',\n",
       " 'brand',\n",
       " 'model',\n",
       " 'power_off',\n",
       " 'power_on',\n",
       " 'ram']"
      ]
     },
     "execution_count": 44,
     "metadata": {},
     "output_type": "execute_result"
    }
   ],
   "source": [
    "dir(laptop1)"
   ]
  },
  {
   "cell_type": "code",
   "execution_count": 45,
   "id": "d6eb3f0e",
   "metadata": {},
   "outputs": [
    {
     "ename": "SyntaxError",
     "evalue": "invalid syntax (3984142377.py, line 1)",
     "output_type": "error",
     "traceback": [
      "\u001b[1;36m  Cell \u001b[1;32mIn[45], line 1\u001b[1;36m\u001b[0m\n\u001b[1;33m    vlc media player\u001b[0m\n\u001b[1;37m        ^\u001b[0m\n\u001b[1;31mSyntaxError\u001b[0m\u001b[1;31m:\u001b[0m invalid syntax\n"
     ]
    }
   ],
   "source": [
    "vlc media player\n",
    "play()\n",
    "stop()\n",
    "overwrite __str__"
   ]
  },
  {
   "cell_type": "code",
   "execution_count": null,
   "id": "936a9625",
   "metadata": {},
   "outputs": [],
   "source": [
    "class laptop:\n",
    "    def __init__(self,brand,model,ram):\n",
    "        self.brand = brand\n",
    "        self.model = model\n",
    "        self.ram = ram\n",
    "        print(f\"the {self.brand} laptop is {self.model} model with {self.ram} ram size\")\n",
    "    def power_on(self,login_creds):\n",
    "        print(f'sign on with {login_creds} credentials')\n",
    "    def power_off(self):\n",
    "        return \"{} laptop has powered off\".format(self.model)\n",
    "    "
   ]
  }
 ],
 "metadata": {
  "kernelspec": {
   "display_name": "Python 3 (ipykernel)",
   "language": "python",
   "name": "python3"
  },
  "language_info": {
   "codemirror_mode": {
    "name": "ipython",
    "version": 3
   },
   "file_extension": ".py",
   "mimetype": "text/x-python",
   "name": "python",
   "nbconvert_exporter": "python",
   "pygments_lexer": "ipython3",
   "version": "3.11.3"
  }
 },
 "nbformat": 4,
 "nbformat_minor": 5
}
