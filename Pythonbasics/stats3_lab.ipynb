{
 "cells": [
  {
   "cell_type": "markdown",
   "id": "5db0c84b",
   "metadata": {},
   "source": [
    "# z - test, T test and Chi square test"
   ]
  },
  {
   "cell_type": "markdown",
   "id": "1e66f771",
   "metadata": {},
   "source": [
    "# Z test - when n > 30 samples"
   ]
  },
  {
   "cell_type": "code",
   "execution_count": 66,
   "id": "54478af4",
   "metadata": {},
   "outputs": [],
   "source": [
    "import numpy as np\n",
    "import scipy.stats as stats"
   ]
  },
  {
   "cell_type": "code",
   "execution_count": 67,
   "id": "660605c6",
   "metadata": {},
   "outputs": [],
   "source": [
    "sample_mean=110\n",
    "population_mean=100\n",
    "population_std=15\n",
    "sample_size=50\n",
    "alpha=0.05"
   ]
  },
  {
   "cell_type": "code",
   "execution_count": 68,
   "id": "bc716464",
   "metadata": {},
   "outputs": [
    {
     "data": {
      "text/plain": [
       "0.95"
      ]
     },
     "execution_count": 68,
     "metadata": {},
     "output_type": "execute_result"
    }
   ],
   "source": [
    "confidence_interval=1-0.05\n",
    "confidence_interval"
   ]
  },
  {
   "cell_type": "code",
   "execution_count": 69,
   "id": "352fc433",
   "metadata": {},
   "outputs": [],
   "source": [
    "z_score=(sample_mean-population_mean)/(population_std/np.sqrt(50))"
   ]
  },
  {
   "cell_type": "code",
   "execution_count": 70,
   "id": "fff195a0",
   "metadata": {},
   "outputs": [
    {
     "data": {
      "text/plain": [
       "4.714045207910317"
      ]
     },
     "execution_count": 70,
     "metadata": {},
     "output_type": "execute_result"
    }
   ],
   "source": [
    "z_score"
   ]
  },
  {
   "cell_type": "code",
   "execution_count": 71,
   "id": "e0b4841b",
   "metadata": {},
   "outputs": [],
   "source": [
    "z_critical = stats.norm.ppf(confidence_interval)"
   ]
  },
  {
   "cell_type": "code",
   "execution_count": 72,
   "id": "2728f5ab",
   "metadata": {},
   "outputs": [
    {
     "data": {
      "text/plain": [
       "1.6448536269514722"
      ]
     },
     "execution_count": 72,
     "metadata": {},
     "output_type": "execute_result"
    }
   ],
   "source": [
    "z_critical"
   ]
  },
  {
   "cell_type": "code",
   "execution_count": 73,
   "id": "7c9ac0c6",
   "metadata": {},
   "outputs": [
    {
     "name": "stdout",
     "output_type": "stream",
     "text": [
      "reject the null hypothesis\n"
     ]
    }
   ],
   "source": [
    "if z_score > z_critical:\n",
    "    print(\"reject the null hypothesis\")\n",
    "else:\n",
    "    print(\"fail to reject the null hypithesis\")"
   ]
  },
  {
   "cell_type": "code",
   "execution_count": 74,
   "id": "f7dcf5ba",
   "metadata": {},
   "outputs": [],
   "source": [
    "p_value=1-0.99999966"
   ]
  },
  {
   "cell_type": "code",
   "execution_count": 75,
   "id": "8393a0eb",
   "metadata": {},
   "outputs": [
    {
     "data": {
      "text/plain": [
       "3.400000000430836e-07"
      ]
     },
     "execution_count": 75,
     "metadata": {},
     "output_type": "execute_result"
    }
   ],
   "source": [
    "p_value"
   ]
  },
  {
   "cell_type": "code",
   "execution_count": 76,
   "id": "e07a6bbc",
   "metadata": {},
   "outputs": [
    {
     "name": "stdout",
     "output_type": "stream",
     "text": [
      "reject the null hypothesis\n"
     ]
    }
   ],
   "source": [
    "if p_value < alpha:\n",
    "    print(\"reject the null hypothesis\")\n",
    "else:\n",
    "    print(\"fail to reject the null hypithesis\")"
   ]
  },
  {
   "cell_type": "code",
   "execution_count": 77,
   "id": "05a2c54c",
   "metadata": {},
   "outputs": [],
   "source": [
    "from numpy .random import randn\n",
    "mydata=randn(500)"
   ]
  },
  {
   "cell_type": "code",
   "execution_count": 78,
   "id": "7f2e7bbe",
   "metadata": {},
   "outputs": [
    {
     "data": {
      "text/plain": [
       "array([-1.31722757e+00, -1.48143656e+00, -5.90308797e-01,  2.54213127e-01,\n",
       "       -8.73469051e-01, -1.48187956e-01, -1.05998985e+00, -3.26425587e-01,\n",
       "       -1.52578024e-01,  9.52244209e-01,  6.13437947e-01, -4.15677423e-01,\n",
       "       -9.35400352e-01,  3.84967786e-01, -8.78170532e-01, -1.67124095e+00,\n",
       "       -1.23607137e+00,  1.80324608e-01,  1.08225964e+00, -9.55263080e-01,\n",
       "       -4.18787041e-01,  6.20225265e-01,  2.83432152e-01, -1.79111181e+00,\n",
       "       -1.34468467e-01,  2.85386176e-01, -6.30436979e-01,  1.40150414e+00,\n",
       "        1.29454832e+00, -1.54422199e+00, -3.64653072e+00,  1.17735453e-01,\n",
       "        2.20559630e-01,  2.56611193e-01, -1.00379996e+00, -5.34542252e-01,\n",
       "        1.36520958e+00, -1.55394493e+00, -2.34360893e+00, -2.66166411e-01,\n",
       "        8.64469540e-01, -8.02054605e-02,  6.27643245e-01,  1.94147751e-01,\n",
       "        1.70006631e+00,  1.21526726e+00, -2.30202239e-01, -2.85544843e-01,\n",
       "       -1.20054255e+00,  1.16341286e+00, -6.82120671e-01, -1.41246260e+00,\n",
       "        4.26969145e-01, -2.84427567e-01,  7.45511893e-03,  1.16977237e+00,\n",
       "        1.59347269e+00,  7.41566076e-01, -7.73801200e-01,  2.89464078e-01,\n",
       "        5.03311197e-01,  2.02112813e+00, -1.22678875e-02, -1.69816475e+00,\n",
       "        3.24708232e-01, -4.81539255e-01,  1.85433593e+00,  2.35639726e-01,\n",
       "        5.72649059e-01,  9.97056783e-01, -4.97872686e-01, -2.58413045e-01,\n",
       "        1.98478913e+00,  4.35936927e-01,  1.33347560e+00, -9.51352391e-01,\n",
       "       -6.53138132e-01,  8.05769667e-01, -5.85497142e-01,  9.61954659e-01,\n",
       "       -7.72089865e-01,  9.55566172e-01, -5.98948878e-01, -7.11374220e-01,\n",
       "        1.40968655e+00, -8.01108685e-01, -1.12451241e-01, -2.73473304e-01,\n",
       "       -3.05368033e-01, -5.36587647e-01, -2.34571287e-02, -2.84056257e-01,\n",
       "       -8.00513185e-01,  2.25127682e+00,  1.24951545e+00,  1.39818418e+00,\n",
       "        2.42948279e+00,  5.48516250e-01,  4.41449819e-01,  7.81876276e-01,\n",
       "       -1.30331407e+00,  1.12756754e+00,  3.35499471e-02,  9.21888993e-01,\n",
       "       -4.71095250e-01, -3.72973218e-01,  6.54518809e-01,  4.85921602e-01,\n",
       "       -2.76565967e-01, -6.40923600e-01, -3.56749861e-01, -6.30032377e-01,\n",
       "       -1.33128755e+00, -4.00538654e-01, -4.02848215e-01, -2.09256976e+00,\n",
       "       -1.87837291e+00, -1.12447414e+00, -1.66570070e-01, -1.94972369e+00,\n",
       "       -7.98612750e-01, -8.77749583e-01,  1.48724550e-01,  1.73507565e+00,\n",
       "       -5.35473999e-02,  1.67853110e+00,  8.05281783e-01, -9.39366081e-01,\n",
       "       -1.76975695e+00,  9.27698884e-01, -3.86055129e-01, -3.21342957e-01,\n",
       "        5.52991398e-01, -1.89173999e+00, -3.87356738e-01, -1.50168787e+00,\n",
       "       -5.81054669e-01, -9.60579334e-01, -1.17633694e+00, -4.07995317e-01,\n",
       "        4.04270529e-01,  4.71522926e-01, -5.64765053e-01, -6.08170755e-01,\n",
       "        5.14212348e-01, -9.85829784e-01, -3.99637583e-01,  9.91224489e-01,\n",
       "       -7.98045615e-01,  7.77562335e-01,  8.79383538e-01, -7.70278869e-01,\n",
       "       -3.34843067e-01, -1.33565658e+00,  1.49875884e+00, -8.06588667e-01,\n",
       "        7.41998354e-01, -7.76936843e-02, -1.03894758e-01, -3.37739544e-01,\n",
       "        3.24480989e-01, -1.33960654e+00, -2.16333789e-01, -4.98751663e-01,\n",
       "        1.50609487e+00, -7.79861353e-01,  6.81853994e-01, -1.59247706e+00,\n",
       "        5.47658074e-01,  2.13553725e-01, -6.86294187e-01,  1.40636042e+00,\n",
       "       -1.02034401e-01,  2.00839332e+00,  5.32112567e-01,  7.08382223e-01,\n",
       "        3.21320478e-01, -1.54140718e+00, -7.52701348e-01, -1.37372733e+00,\n",
       "        4.73649483e-01, -5.24229841e-01,  8.25598352e-01,  7.39625848e-01,\n",
       "       -4.13288234e-01,  1.74248058e+00, -1.28090455e+00, -1.67786251e+00,\n",
       "       -5.46857882e-01, -9.91054279e-01, -1.07532467e+00,  9.57422603e-01,\n",
       "       -4.78476640e-01, -5.36525952e-01,  1.89595248e-01,  8.10101183e-01,\n",
       "        1.41447789e+00, -2.86537212e-01,  6.34295264e-01, -4.90617159e-01,\n",
       "        1.13120063e-01,  1.02312274e+00, -5.30619575e-01,  1.35191674e+00,\n",
       "       -2.16372648e-01,  9.26930670e-01,  1.54063228e+00,  8.28363643e-01,\n",
       "       -1.54742492e-01, -2.00349175e-01, -3.23086042e-01, -1.84119521e-02,\n",
       "       -2.29985829e-01, -9.91103200e-02,  1.75830425e+00,  4.94267628e-01,\n",
       "       -7.04188605e-01, -1.52600637e-01,  1.54929511e-01,  8.00960994e-01,\n",
       "        5.48435759e-01, -7.36533221e-01,  6.86726314e-01, -6.39223425e-01,\n",
       "       -2.65850005e-01,  6.12851690e-01,  5.38146778e-01, -5.33541712e-01,\n",
       "       -2.14530591e-01,  1.11372418e+00, -4.06688679e-01, -1.74490847e+00,\n",
       "       -2.00994532e-01,  1.22922644e+00, -3.82200093e-01,  2.27145265e-01,\n",
       "        1.27021025e-01,  2.05394237e+00, -1.22018064e+00, -9.81590689e-01,\n",
       "       -3.46720786e-01, -1.70450577e-01,  3.95066023e-01, -1.12276338e+00,\n",
       "       -1.21425157e+00, -9.45062064e-02,  1.92878109e+00, -9.82140008e-01,\n",
       "        1.09929795e-01, -5.27810986e-01, -1.56889922e-02, -6.97423356e-01,\n",
       "        1.19866261e+00,  7.45137804e-01, -2.93471447e+00,  3.58074304e-01,\n",
       "        1.00343423e-01,  4.36826507e-01, -1.66876983e+00, -1.10577250e+00,\n",
       "       -4.86760516e-01,  3.85388765e-01, -5.08750186e-01, -2.66774956e-01,\n",
       "        5.15953663e-01, -4.43033687e-01, -7.45935625e-01, -1.54154267e+00,\n",
       "       -1.47275005e+00,  1.64101104e-01,  9.05118357e-01,  1.37451482e+00,\n",
       "       -2.10041444e+00, -9.62810467e-01,  1.64365612e+00, -6.75150064e-02,\n",
       "       -7.67759796e-01, -2.31902489e-02,  2.57323293e-01, -3.02301984e-01,\n",
       "        2.61696865e-01,  5.02121978e-01, -1.55786901e+00, -1.91647871e+00,\n",
       "        6.63780971e-01, -9.62758810e-02,  8.36074090e-01, -1.09898216e-01,\n",
       "        9.99316298e-01,  6.13984976e-01, -1.91817196e+00,  9.42464949e-01,\n",
       "        9.35879036e-01, -1.31658243e+00, -2.27791252e-01,  1.76702383e+00,\n",
       "        1.74721982e+00, -5.50731893e-01,  1.94353245e-01,  3.56867784e-01,\n",
       "        1.10724077e+00,  1.26714192e+00, -4.92227473e-02,  1.36616065e+00,\n",
       "       -5.18368741e-01, -6.49390243e-01,  5.26607655e-02,  1.13182874e+00,\n",
       "        3.36101044e-01,  1.36463011e+00, -1.18713095e+00,  1.70126587e+00,\n",
       "        7.68733086e-01,  5.69767020e-01, -3.29678542e-03,  1.01596451e+00,\n",
       "       -1.19621961e+00,  9.49611415e-01, -1.05965342e+00, -1.50027984e+00,\n",
       "       -1.05054522e+00, -1.05002499e+00, -5.13779945e-01, -7.87381088e-01,\n",
       "       -3.78586075e-01,  1.94517503e-02,  7.42105409e-01,  8.25744752e-01,\n",
       "        6.38292542e-01,  2.33298561e-01, -4.69578597e-01, -1.36652224e+00,\n",
       "        1.00471590e-01,  5.52565438e-01, -5.89157895e-02,  4.19449459e-01,\n",
       "       -2.88905301e-01, -2.20138785e+00, -9.25780721e-01, -1.03493840e+00,\n",
       "       -9.61927071e-01, -1.20422099e-01, -1.04790533e+00,  1.43503153e+00,\n",
       "        1.25211805e-01,  2.83792125e-01,  1.63154030e+00, -5.27973661e-01,\n",
       "       -1.65781637e-01,  8.29242774e-01, -2.82352658e+00, -5.48272218e-01,\n",
       "       -1.10604545e+00, -1.13695837e+00,  1.96954904e-01,  3.12362793e-01,\n",
       "        8.86528116e-01, -1.48416690e+00, -8.85908558e-01,  2.10121034e+00,\n",
       "        1.48011527e+00,  2.12878756e-01,  1.17196800e+00,  2.43468917e-01,\n",
       "       -1.45446492e+00,  1.87383433e+00, -2.63519104e-01, -1.88468853e+00,\n",
       "        2.80243754e-01, -7.18664561e-01,  9.43661476e-01,  8.84131284e-02,\n",
       "        2.00137342e-01, -1.22966704e+00, -1.10768118e+00, -1.70430797e+00,\n",
       "        7.61351179e-01,  4.46143658e-01, -1.97626362e-01,  3.94066129e-01,\n",
       "       -9.18688198e-01,  2.84003456e+00, -6.70246499e-01, -1.44025263e-01,\n",
       "        1.68924190e-01, -3.96459536e-01,  3.89722482e-01,  6.73336426e-01,\n",
       "        2.91088270e-01,  2.09278038e-01, -9.10194169e-01, -6.64413627e-01,\n",
       "        3.26893839e-01, -2.16670354e+00,  8.92871332e-01,  2.15779347e-02,\n",
       "        3.33670482e-01,  4.13627038e-01, -1.58972002e+00, -5.26120974e-01,\n",
       "       -2.48347644e-01,  5.34227741e-01, -3.16324076e-01,  1.11206823e+00,\n",
       "        8.08430962e-01,  2.01794597e+00, -1.66703568e+00,  6.55070644e-01,\n",
       "        1.25927381e+00,  1.84558790e-01,  2.44121072e-01,  1.10075688e+00,\n",
       "       -7.10586524e-01,  4.31649119e-01, -3.29637718e-01, -5.71652623e-01,\n",
       "       -3.33044435e-01,  2.18986127e-01,  2.24598027e+00, -2.19261756e+00,\n",
       "        7.19638702e-01,  1.56526597e-01, -7.49451242e-01,  3.91394051e-01,\n",
       "       -2.85498079e-01,  1.16837686e-01, -1.12818031e-01, -4.02863143e-01,\n",
       "       -1.78764161e+00,  1.67348221e-01, -7.48384914e-01,  1.62809344e-01,\n",
       "       -8.58146729e-01,  1.05267091e-01,  1.46296208e+00, -7.56946710e-01,\n",
       "        2.44264512e-01, -1.75918686e+00, -6.37607195e-01,  2.22351226e+00,\n",
       "       -5.37614787e-01, -2.58264823e-01,  1.12554378e+00,  2.14891963e-01,\n",
       "        2.32148406e+00,  2.85016848e+00, -3.26103861e-01,  2.66112724e+00,\n",
       "       -3.70908258e-02, -6.72374285e-01, -4.27893965e-01,  6.88150626e-01,\n",
       "       -1.08306420e+00, -8.19264878e-01, -1.53792403e-01, -9.09517074e-01,\n",
       "        1.33670095e+00, -9.24695147e-02,  8.54541956e-02,  9.60662391e-01,\n",
       "       -1.16047550e+00,  2.17725931e+00, -1.33512659e+00,  1.68019739e+00,\n",
       "        1.68903964e+00, -1.11668198e-02, -5.30909248e-01,  1.74311529e+00,\n",
       "        1.41517429e+00,  9.99495416e-01,  7.94300635e-01, -1.38906207e+00,\n",
       "       -5.61504714e-01, -1.91202320e-01, -1.70802615e+00, -2.10111546e+00,\n",
       "       -1.26867487e-01,  7.37408415e-01,  1.23936136e+00, -1.32417246e+00,\n",
       "        1.48242804e+00, -6.90559938e-01,  1.19290164e-01, -9.85319090e-01,\n",
       "        9.47923358e-01,  9.62139846e-01,  2.60653581e-01,  3.60189593e-01,\n",
       "        9.64348638e-01, -2.97276875e-02, -8.46115350e-01, -7.57078393e-02,\n",
       "        8.31665319e-01,  6.03037814e-01,  9.78433069e-02, -1.54642143e+00,\n",
       "        4.91890714e-01, -2.71639089e-01, -7.54281269e-01,  8.21832640e-02])"
      ]
     },
     "execution_count": 78,
     "metadata": {},
     "output_type": "execute_result"
    }
   ],
   "source": [
    "mydata"
   ]
  },
  {
   "cell_type": "code",
   "execution_count": 79,
   "id": "509d16aa",
   "metadata": {},
   "outputs": [],
   "source": [
    "import seaborn as sns"
   ]
  },
  {
   "cell_type": "code",
   "execution_count": 80,
   "id": "ad288a8d",
   "metadata": {},
   "outputs": [
    {
     "name": "stderr",
     "output_type": "stream",
     "text": [
      "C:\\Users\\HDHARANI\\AppData\\Local\\Temp\\ipykernel_19072\\2553040580.py:1: UserWarning: \n",
      "\n",
      "`distplot` is a deprecated function and will be removed in seaborn v0.14.0.\n",
      "\n",
      "Please adapt your code to use either `displot` (a figure-level function with\n",
      "similar flexibility) or `histplot` (an axes-level function for histograms).\n",
      "\n",
      "For a guide to updating your code to use the new functions, please see\n",
      "https://gist.github.com/mwaskom/de44147ed2974457ad6372750bbe5751\n",
      "\n",
      "  sns.distplot(mydata)\n",
      "C:\\ProgramData\\anaconda3\\envs\\datasciencein\\Lib\\site-packages\\seaborn\\_oldcore.py:1498: FutureWarning: is_categorical_dtype is deprecated and will be removed in a future version. Use isinstance(dtype, CategoricalDtype) instead\n",
      "  if pd.api.types.is_categorical_dtype(vector):\n",
      "C:\\ProgramData\\anaconda3\\envs\\datasciencein\\Lib\\site-packages\\seaborn\\_oldcore.py:1119: FutureWarning: use_inf_as_na option is deprecated and will be removed in a future version. Convert inf values to NaN before operating instead.\n",
      "  with pd.option_context('mode.use_inf_as_na', True):\n"
     ]
    },
    {
     "data": {
      "text/plain": [
       "<Axes: ylabel='Density'>"
      ]
     },
     "execution_count": 80,
     "metadata": {},
     "output_type": "execute_result"
    },
    {
     "data": {
      "image/png": "[encoded data removed]",
      "text/plain": [
       "<Figure size 640x480 with 1 Axes>"
      ]
     },
     "metadata": {},
     "output_type": "display_data"
    }
   ],
   "source": [
    "sns.distplot(mydata)"
   ]
  },
  {
   "cell_type": "code",
   "execution_count": 81,
   "id": "d53703ad",
   "metadata": {},
   "outputs": [
    {
     "data": {
      "text/plain": [
       "NormaltestResult(statistic=0.18963627853889092, pvalue=0.9095383287333454)"
      ]
     },
     "execution_count": 81,
     "metadata": {},
     "output_type": "execute_result"
    }
   ],
   "source": [
    "from scipy import stats\n",
    "stats.normaltest(mydata)"
   ]
  },
  {
   "cell_type": "code",
   "execution_count": 82,
   "id": "61713301",
   "metadata": {},
   "outputs": [],
   "source": [
    "sample_mean_iq=110\n",
    "alpha=0.05\n",
    "CI=0.95\n"
   ]
  },
  {
   "cell_type": "code",
   "execution_count": 83,
   "id": "e7181e56",
   "metadata": {},
   "outputs": [],
   "source": [
    "mean_population=100\n",
    "population_std=15"
   ]
  },
  {
   "cell_type": "code",
   "execution_count": 84,
   "id": "cff77418",
   "metadata": {},
   "outputs": [],
   "source": [
    "data=population_std*randn(50)+sample_mean_iq"
   ]
  },
  {
   "cell_type": "code",
   "execution_count": 85,
   "id": "80929eb9",
   "metadata": {},
   "outputs": [
    {
     "data": {
      "text/plain": [
       "array([121.94795188, 114.41617104,  98.19302449,  99.16693176,\n",
       "       120.33024317, 128.68673423, 116.80429583, 109.84636563,\n",
       "       122.47807215,  82.21227782,  98.532739  ,  95.66717172,\n",
       "       114.50234935,  84.3236786 , 120.75478421, 113.36545148,\n",
       "        97.34586843, 122.17788329, 127.52310069, 112.59003348,\n",
       "       116.33251332, 121.98991064, 133.08311316, 126.7698848 ,\n",
       "       116.71720406, 107.67801207, 117.68661946,  99.37384454,\n",
       "       109.94393421, 113.0328853 ,  99.54401224,  86.23218843,\n",
       "       108.22667777,  92.9736841 , 105.30535454, 109.84578499,\n",
       "       120.58988688, 104.94235974,  84.49504223, 149.33772648,\n",
       "       106.16038602, 132.4440249 , 108.69902874,  99.13690381,\n",
       "       121.00155126, 108.13591492, 104.25741477, 123.46807102,\n",
       "        80.29981751, 118.41904846])"
      ]
     },
     "execution_count": 85,
     "metadata": {},
     "output_type": "execute_result"
    }
   ],
   "source": [
    "data"
   ]
  },
  {
   "cell_type": "code",
   "execution_count": 86,
   "id": "f589391f",
   "metadata": {},
   "outputs": [
    {
     "data": {
      "text/plain": [
       "110.5397585724696"
      ]
     },
     "execution_count": 86,
     "metadata": {},
     "output_type": "execute_result"
    }
   ],
   "source": [
    "np.mean(data)"
   ]
  },
  {
   "cell_type": "code",
   "execution_count": 87,
   "id": "707e09d0",
   "metadata": {},
   "outputs": [
    {
     "data": {
      "text/plain": [
       "14.202033277018826"
      ]
     },
     "execution_count": 87,
     "metadata": {},
     "output_type": "execute_result"
    }
   ],
   "source": [
    "np.std(data)"
   ]
  },
  {
   "cell_type": "code",
   "execution_count": 88,
   "id": "d210555b",
   "metadata": {},
   "outputs": [],
   "source": [
    "null_hypo=mean_population"
   ]
  },
  {
   "cell_type": "code",
   "execution_count": 89,
   "id": "b0054ebc",
   "metadata": {},
   "outputs": [
    {
     "data": {
      "text/plain": [
       "(5.1949117825735796, 1.0240847011249938e-07)"
      ]
     },
     "execution_count": 89,
     "metadata": {},
     "output_type": "execute_result"
    }
   ],
   "source": [
    "from statsmodels.stats.weightstats import ztest\n",
    "ztest(data,value=null_hypo,alternative=\"larger\")"
   ]
  },
  {
   "cell_type": "code",
   "execution_count": 90,
   "id": "32213481",
   "metadata": {},
   "outputs": [
    {
     "name": "stdout",
     "output_type": "stream",
     "text": [
      "reject the null hypothesis\n"
     ]
    }
   ],
   "source": [
    "if p_value < alpha:\n",
    "    print(\"reject the null hypothesis\")\n",
    "else:\n",
    "    print(\"fail to reject the null hypithesis\")"
   ]
  },
  {
   "cell_type": "markdown",
   "id": "71727d73",
   "metadata": {},
   "source": [
    "# T test - when we have limited samples (n<30)  \n",
    "population std will be missing, we will compare sample mean = population mean\n",
    "1. one sample t test ( with respect to one independent sample)\n",
    "\n",
    "2. two- sample test (with respect to two independent sample)\n",
    "\n",
    "3. paried t test ( two sample from same population at on a different time inteval)"
   ]
  },
  {
   "cell_type": "code",
   "execution_count": 91,
   "id": "4b426092",
   "metadata": {},
   "outputs": [],
   "source": [
    "my_cricket_score=[22,38,19,15,48,11,10,49,47,38,10,25,46,10,21,24,29,36,25,25]"
   ]
  },
  {
   "cell_type": "code",
   "execution_count": 102,
   "id": "f0c93718",
   "metadata": {},
   "outputs": [],
   "source": [
    "first_Sample_mean=np.mean(my_cricket_score)"
   ]
  },
  {
   "cell_type": "markdown",
   "id": "5de2d4cb",
   "metadata": {},
   "source": [
    "-- null_hypo=sample mean should be is equal to the population mean"
   ]
  },
  {
   "cell_type": "code",
   "execution_count": 93,
   "id": "c47ac4aa",
   "metadata": {},
   "outputs": [
    {
     "ename": "TypeError",
     "evalue": "'tuple' object is not callable",
     "output_type": "error",
     "traceback": [
      "\u001b[1;31m---------------------------------------------------------------------------\u001b[0m",
      "\u001b[1;31mTypeError\u001b[0m                                 Traceback (most recent call last)",
      "Cell \u001b[1;32mIn[93], line 2\u001b[0m\n\u001b[0;32m      1\u001b[0m \u001b[38;5;28;01mimport\u001b[39;00m \u001b[38;5;21;01mscipy\u001b[39;00m\n\u001b[1;32m----> 2\u001b[0m result \u001b[38;5;241m=\u001b[39m scipy\u001b[38;5;241m.\u001b[39mstats\u001b[38;5;241m.\u001b[39mttest_1samp(my_cricket_score, \u001b[38;5;241m15\u001b[39m)\n",
      "\u001b[1;31mTypeError\u001b[0m: 'tuple' object is not callable"
     ]
    }
   ],
   "source": [
    "import scipy\n",
    "result = scipy.stats.ttest_1samp(my_cricket_score, 15)"
   ]
  },
  {
   "cell_type": "code",
   "execution_count": 143,
   "id": "9cb2c4ca",
   "metadata": {},
   "outputs": [
    {
     "ename": "TypeError",
     "evalue": "'tuple' object is not callable",
     "output_type": "error",
     "traceback": [
      "\u001b[1;31m---------------------------------------------------------------------------\u001b[0m",
      "\u001b[1;31mTypeError\u001b[0m                                 Traceback (most recent call last)",
      "Cell \u001b[1;32mIn[143], line 1\u001b[0m\n\u001b[1;32m----> 1\u001b[0m scipy\u001b[38;5;241m.\u001b[39mstats\u001b[38;5;241m.\u001b[39mttest_1samp(my_cricket_score,\u001b[38;5;241m27.4\u001b[39m)\n",
      "\u001b[1;31mTypeError\u001b[0m: 'tuple' object is not callable"
     ]
    }
   ],
   "source": [
    "scipy.stats.ttest_1samp(my_cricket_score,27.4)"
   ]
  },
  {
   "cell_type": "code",
   "execution_count": 95,
   "id": "9801bd77",
   "metadata": {},
   "outputs": [
    {
     "ename": "NameError",
     "evalue": "name 'result' is not defined",
     "output_type": "error",
     "traceback": [
      "\u001b[1;31m---------------------------------------------------------------------------\u001b[0m",
      "\u001b[1;31mNameError\u001b[0m                                 Traceback (most recent call last)",
      "Cell \u001b[1;32mIn[95], line 1\u001b[0m\n\u001b[1;32m----> 1\u001b[0m result\n",
      "\u001b[1;31mNameError\u001b[0m: name 'result' is not defined"
     ]
    }
   ],
   "source": [
    "result"
   ]
  },
  {
   "cell_type": "code",
   "execution_count": 96,
   "id": "fea2107a",
   "metadata": {},
   "outputs": [
    {
     "ename": "NameError",
     "evalue": "name 'result' is not defined",
     "output_type": "error",
     "traceback": [
      "\u001b[1;31m---------------------------------------------------------------------------\u001b[0m",
      "\u001b[1;31mNameError\u001b[0m                                 Traceback (most recent call last)",
      "Cell \u001b[1;32mIn[96], line 1\u001b[0m\n\u001b[1;32m----> 1\u001b[0m result[\u001b[38;5;241m1\u001b[39m]\n",
      "\u001b[1;31mNameError\u001b[0m: name 'result' is not defined"
     ]
    }
   ],
   "source": [
    "result[1]"
   ]
  },
  {
   "cell_type": "code",
   "execution_count": 97,
   "id": "248bfa71",
   "metadata": {},
   "outputs": [
    {
     "data": {
      "text/plain": [
       "False"
      ]
     },
     "execution_count": 97,
     "metadata": {},
     "output_type": "execute_result"
    }
   ],
   "source": [
    "p_value<=0.05\n",
    "p_value>0.05"
   ]
  },
  {
   "cell_type": "code",
   "execution_count": 142,
   "id": "5d6d7814",
   "metadata": {},
   "outputs": [
    {
     "ename": "TypeError",
     "evalue": "'tuple' object is not callable",
     "output_type": "error",
     "traceback": [
      "\u001b[1;31m---------------------------------------------------------------------------\u001b[0m",
      "\u001b[1;31mTypeError\u001b[0m                                 Traceback (most recent call last)",
      "Cell \u001b[1;32mIn[142], line 2\u001b[0m\n\u001b[0;32m      1\u001b[0m \u001b[38;5;66;03m#scipy.stats.ttest_1samp(my_cricket_score,26)\u001b[39;00m\n\u001b[1;32m----> 2\u001b[0m t_stats,pvalue\u001b[38;5;241m=\u001b[39mscipy\u001b[38;5;241m.\u001b[39mstats\u001b[38;5;241m.\u001b[39mttest_1samp(my_cricket_score,\u001b[38;5;241m26\u001b[39m)\n",
      "\u001b[1;31mTypeError\u001b[0m: 'tuple' object is not callable"
     ]
    }
   ],
   "source": [
    "#scipy.stats.ttest_1samp(my_cricket_score,26)\n",
    "t_stats,pvalue=scipy.stats.ttest_1samp(my_cricket_score,26)"
   ]
  },
  {
   "cell_type": "code",
   "execution_count": 99,
   "id": "e154c112",
   "metadata": {},
   "outputs": [
    {
     "ename": "NameError",
     "evalue": "name 'result' is not defined",
     "output_type": "error",
     "traceback": [
      "\u001b[1;31m---------------------------------------------------------------------------\u001b[0m",
      "\u001b[1;31mNameError\u001b[0m                                 Traceback (most recent call last)",
      "Cell \u001b[1;32mIn[99], line 1\u001b[0m\n\u001b[1;32m----> 1\u001b[0m p_value\u001b[38;5;241m=\u001b[39mresult[\u001b[38;5;241m1\u001b[39m]\n",
      "\u001b[1;31mNameError\u001b[0m: name 'result' is not defined"
     ]
    }
   ],
   "source": [
    "p_value=result[1]"
   ]
  },
  {
   "cell_type": "code",
   "execution_count": 100,
   "id": "61c8a6fc",
   "metadata": {},
   "outputs": [
    {
     "name": "stdout",
     "output_type": "stream",
     "text": [
      "reject the null hypothesis\n"
     ]
    }
   ],
   "source": [
    "if p_value <=0.05:\n",
    "    print(\"reject the null hypothesis\")\n",
    "else:\n",
    "    print(\"fail to reject the null hypithesis\")"
   ]
  },
  {
   "cell_type": "markdown",
   "id": "3c7c3755",
   "metadata": {},
   "source": [
    "two sample t test"
   ]
  },
  {
   "cell_type": "code",
   "execution_count": 107,
   "id": "5c42ecc8",
   "metadata": {},
   "outputs": [],
   "source": [
    "my_cricket_score=[22,38,19,15,48,11,10,49,47,38,10,25,46,10,21,24,29,36,25,25]\n",
    "virat_score = [10,25,65,10,21,24,29,36,25,25,22,38,45,15,48,11,10,49,47,38]"
   ]
  },
  {
   "cell_type": "code",
   "execution_count": 108,
   "id": "830436af",
   "metadata": {},
   "outputs": [
    {
     "data": {
      "text/plain": [
       "27.4"
      ]
     },
     "execution_count": 108,
     "metadata": {},
     "output_type": "execute_result"
    }
   ],
   "source": [
    "first_Sample_mean"
   ]
  },
  {
   "cell_type": "code",
   "execution_count": 109,
   "id": "0c6f754c",
   "metadata": {},
   "outputs": [],
   "source": [
    "second_Sample_mean=np.mean(virat_score)"
   ]
  },
  {
   "cell_type": "code",
   "execution_count": 110,
   "id": "70fdc669",
   "metadata": {},
   "outputs": [
    {
     "data": {
      "text/plain": [
       "29.65"
      ]
     },
     "execution_count": 110,
     "metadata": {},
     "output_type": "execute_result"
    }
   ],
   "source": [
    "second_Sample_mean"
   ]
  },
  {
   "cell_type": "code",
   "execution_count": null,
   "id": "953fc205",
   "metadata": {},
   "outputs": [],
   "source": [
    "null_hypo = both means should be equal"
   ]
  },
  {
   "cell_type": "code",
   "execution_count": 111,
   "id": "6f02be5c",
   "metadata": {},
   "outputs": [],
   "source": [
    "t_stats,pvalue=scipy.stats.ttest_ind(my_cricket_score,virat_score)"
   ]
  },
  {
   "cell_type": "code",
   "execution_count": 112,
   "id": "5a96cc8f",
   "metadata": {},
   "outputs": [
    {
     "data": {
      "text/plain": [
       "0.6277856821393624"
      ]
     },
     "execution_count": 112,
     "metadata": {},
     "output_type": "execute_result"
    }
   ],
   "source": [
    "pvalue"
   ]
  },
  {
   "cell_type": "code",
   "execution_count": 113,
   "id": "09becb5e",
   "metadata": {},
   "outputs": [
    {
     "name": "stdout",
     "output_type": "stream",
     "text": [
      "fail to reject the null hypithesis\n"
     ]
    }
   ],
   "source": [
    "if pvalue <=0.05:\n",
    "    print(\"reject the null hypothesis\")\n",
    "else:\n",
    "    print(\"fail to reject the null hypithesis\")"
   ]
  },
  {
   "cell_type": "markdown",
   "id": "6cfa2d49",
   "metadata": {},
   "source": [
    "Paired sample t test\n",
    "-- same 2 randome sample from same populattion but two different time inetrval\n"
   ]
  },
  {
   "cell_type": "code",
   "execution_count": 120,
   "id": "3a20641d",
   "metadata": {},
   "outputs": [],
   "source": [
    "import random\n",
    "population=[]\n",
    "for i in range(1,51):\n",
    "    population.append(random.randint(10,80))"
   ]
  },
  {
   "cell_type": "code",
   "execution_count": 121,
   "id": "47263c77",
   "metadata": {},
   "outputs": [
    {
     "data": {
      "text/plain": [
       "50"
      ]
     },
     "execution_count": 121,
     "metadata": {},
     "output_type": "execute_result"
    }
   ],
   "source": [
    "len(population)"
   ]
  },
  {
   "cell_type": "code",
   "execution_count": 124,
   "id": "a0a9483a",
   "metadata": {},
   "outputs": [],
   "source": [
    "my_cricket_Score_from_first_innnings=np.random.choice(population,size=20)"
   ]
  },
  {
   "cell_type": "code",
   "execution_count": 125,
   "id": "a627e452",
   "metadata": {},
   "outputs": [],
   "source": [
    "my_cricket_Score_from_second_innnings=np.random.choice(population,size=20)"
   ]
  },
  {
   "cell_type": "code",
   "execution_count": 126,
   "id": "43db987e",
   "metadata": {},
   "outputs": [
    {
     "name": "stdout",
     "output_type": "stream",
     "text": [
      "[50 19 80 60 35 15 29 15 10 76 28 28 60 44 24 61 79 60 24 80]\n",
      "[76 28 44 60 50 42 42 76 79 17 24 28 50 68 24 60 44 23 15 18]\n"
     ]
    }
   ],
   "source": [
    "print(my_cricket_Score_from_first_innnings)\n",
    "print(my_cricket_Score_from_second_innnings)"
   ]
  },
  {
   "cell_type": "code",
   "execution_count": 134,
   "id": "370c276f",
   "metadata": {},
   "outputs": [],
   "source": [
    "my_cricket_Score_from_first_innnings=[20, 19,30,10, 55 ,15 ,9, 15, 10, 26 ,28, 28, 30, 44 ,24, 61, 79, 60, 24, 80]"
   ]
  },
  {
   "cell_type": "code",
   "execution_count": 135,
   "id": "190a984b",
   "metadata": {},
   "outputs": [
    {
     "data": {
      "text/plain": [
       "33.35"
      ]
     },
     "execution_count": 135,
     "metadata": {},
     "output_type": "execute_result"
    }
   ],
   "source": [
    "np.mean(my_cricket_Score_from_first_innnings)"
   ]
  },
  {
   "cell_type": "code",
   "execution_count": 136,
   "id": "970c08fb",
   "metadata": {},
   "outputs": [
    {
     "data": {
      "text/plain": [
       "43.4"
      ]
     },
     "execution_count": 136,
     "metadata": {},
     "output_type": "execute_result"
    }
   ],
   "source": [
    "np.mean(my_cricket_Score_from_second_innnings)"
   ]
  },
  {
   "cell_type": "code",
   "execution_count": 137,
   "id": "d0ba1f3b",
   "metadata": {},
   "outputs": [],
   "source": [
    "t_stats,pvalue=scipy.stats.ttest_rel(my_cricket_Score_from_first_innnings,my_cricket_Score_from_second_innnings)"
   ]
  },
  {
   "cell_type": "code",
   "execution_count": 138,
   "id": "390e1673",
   "metadata": {},
   "outputs": [
    {
     "data": {
      "text/plain": [
       "0.20038536319176517"
      ]
     },
     "execution_count": 138,
     "metadata": {},
     "output_type": "execute_result"
    }
   ],
   "source": [
    "pvalue"
   ]
  },
  {
   "cell_type": "code",
   "execution_count": 139,
   "id": "55e5e76a",
   "metadata": {},
   "outputs": [
    {
     "name": "stdout",
     "output_type": "stream",
     "text": [
      "fail to reject the null hypithesis\n"
     ]
    }
   ],
   "source": [
    "if pvalue <=0.05:\n",
    "    print(\"reject the null hypothesis\")\n",
    "else:\n",
    "    print(\"fail to reject the null hypithesis\")"
   ]
  },
  {
   "cell_type": "markdown",
   "id": "0bc7a6aa",
   "metadata": {},
   "source": [
    "# Exercise"
   ]
  },
  {
   "cell_type": "code",
   "execution_count": null,
   "id": "365c9580",
   "metadata": {},
   "outputs": [],
   "source": [
    "H0==mu=45 ()"
   ]
  },
  {
   "cell_type": "code",
   "execution_count": null,
   "id": "cce98362",
   "metadata": {},
   "outputs": [],
   "source": [
    "h1==mu != 45 ()"
   ]
  },
  {
   "cell_type": "code",
   "execution_count": 144,
   "id": "8d93a54f",
   "metadata": {},
   "outputs": [],
   "source": [
    "n=25\n",
    "pop_mean=45\n",
    "sample_mean=75\n",
    "sample_std=25"
   ]
  },
  {
   "cell_type": "code",
   "execution_count": 147,
   "id": "beebf443",
   "metadata": {},
   "outputs": [],
   "source": [
    "t_stats=(sample_mean-pop_mean)/(sample_std/np.sqrt(n))"
   ]
  },
  {
   "cell_type": "code",
   "execution_count": 154,
   "id": "acf66126",
   "metadata": {},
   "outputs": [
    {
     "data": {
      "text/plain": [
       "6.0"
      ]
     },
     "execution_count": 154,
     "metadata": {},
     "output_type": "execute_result"
    }
   ],
   "source": [
    "t_stats"
   ]
  },
  {
   "cell_type": "code",
   "execution_count": 148,
   "id": "b2ba458e",
   "metadata": {},
   "outputs": [],
   "source": [
    "df=n-1"
   ]
  },
  {
   "cell_type": "code",
   "execution_count": 149,
   "id": "b368e817",
   "metadata": {},
   "outputs": [
    {
     "data": {
      "text/plain": [
       "24"
      ]
     },
     "execution_count": 149,
     "metadata": {},
     "output_type": "execute_result"
    }
   ],
   "source": [
    "df"
   ]
  },
  {
   "cell_type": "code",
   "execution_count": 150,
   "id": "68ca9c79",
   "metadata": {},
   "outputs": [],
   "source": [
    "alpha=0.05"
   ]
  },
  {
   "cell_type": "code",
   "execution_count": 151,
   "id": "b31952ad",
   "metadata": {},
   "outputs": [],
   "source": [
    "CI=0.95"
   ]
  },
  {
   "cell_type": "code",
   "execution_count": 153,
   "id": "43507865",
   "metadata": {},
   "outputs": [],
   "source": [
    "critical_value=stats.t.ppf(CI,df)"
   ]
  },
  {
   "cell_type": "code",
   "execution_count": 155,
   "id": "bd35d99b",
   "metadata": {},
   "outputs": [
    {
     "data": {
      "text/plain": [
       "1.7108820799094275"
      ]
     },
     "execution_count": 155,
     "metadata": {},
     "output_type": "execute_result"
    }
   ],
   "source": [
    "critical_value"
   ]
  },
  {
   "cell_type": "code",
   "execution_count": 156,
   "id": "bc02c5d2",
   "metadata": {},
   "outputs": [
    {
     "name": "stdout",
     "output_type": "stream",
     "text": [
      "t_stats 6.0\n",
      "critical value 1.7108820799094275\n"
     ]
    }
   ],
   "source": [
    "print(\"t_stats\",t_stats)\n",
    "print(\"critical value\",critical_value)"
   ]
  },
  {
   "cell_type": "code",
   "execution_count": 157,
   "id": "3c4fd29f",
   "metadata": {},
   "outputs": [],
   "source": [
    "\n",
    "# if t_stats greater than critical value, reject the null hypothesis"
   ]
  },
  {
   "cell_type": "code",
   "execution_count": 159,
   "id": "02f0e00f",
   "metadata": {},
   "outputs": [],
   "source": [
    "pvalue=1-stats.t.cdf(t_stats,df)"
   ]
  },
  {
   "cell_type": "code",
   "execution_count": 160,
   "id": "24bee2cb",
   "metadata": {},
   "outputs": [
    {
     "data": {
      "text/plain": [
       "1.703654035845048e-06"
      ]
     },
     "execution_count": 160,
     "metadata": {},
     "output_type": "execute_result"
    }
   ],
   "source": [
    "pvalue"
   ]
  },
  {
   "cell_type": "code",
   "execution_count": 161,
   "id": "ee02a1d3",
   "metadata": {},
   "outputs": [
    {
     "name": "stdout",
     "output_type": "stream",
     "text": [
      "reject the null hypothesis\n"
     ]
    }
   ],
   "source": [
    "if pvalue <=0.05:\n",
    "    print(\"reject the null hypothesis\")\n",
    "else:\n",
    "    print(\"fail to reject the null hypithesis\")"
   ]
  },
  {
   "cell_type": "markdown",
   "id": "0374e620",
   "metadata": {},
   "source": [
    "# chi square test"
   ]
  },
  {
   "cell_type": "code",
   "execution_count": 1,
   "id": "bc08b7c6",
   "metadata": {},
   "outputs": [
    {
     "ename": "NameError",
     "evalue": "name 'dataset_table' is not defined",
     "output_type": "error",
     "traceback": [
      "\u001b[1;31m---------------------------------------------------------------------------\u001b[0m",
      "\u001b[1;31mNameError\u001b[0m                                 Traceback (most recent call last)",
      "Cell \u001b[1;32mIn[1], line 2\u001b[0m\n\u001b[0;32m      1\u001b[0m \u001b[38;5;28;01mimport\u001b[39;00m \u001b[38;5;21;01mpandas\u001b[39;00m \u001b[38;5;28;01mas\u001b[39;00m \u001b[38;5;21;01mpd\u001b[39;00m\n\u001b[1;32m----> 2\u001b[0m dataset_table\n",
      "\u001b[1;31mNameError\u001b[0m: name 'dataset_table' is not defined"
     ]
    }
   ],
   "source": [
    "import pandas as pd\n",
    "dataset_table"
   ]
  },
  {
   "cell_type": "code",
   "execution_count": null,
   "id": "683f2ebc",
   "metadata": {},
   "outputs": [],
   "source": [
    "dataset_table"
   ]
  },
  {
   "cell_type": "code",
   "execution_count": null,
   "id": "1b23e9f6",
   "metadata": {},
   "outputs": [],
   "source": [
    "dataset_array = dataset_table.values"
   ]
  },
  {
   "cell_type": "code",
   "execution_count": null,
   "id": "091b9984",
   "metadata": {},
   "outputs": [],
   "source": [
    "dataset_array"
   ]
  },
  {
   "cell_type": "code",
   "execution_count": null,
   "id": "5678b55d",
   "metadata": {},
   "outputs": [],
   "source": [
    "observed_value=dataset_array"
   ]
  },
  {
   "cell_type": "code",
   "execution_count": null,
   "id": "32e44e8b",
   "metadata": {},
   "outputs": [],
   "source": [
    "import scipy.stats as stats"
   ]
  },
  {
   "cell_type": "code",
   "execution_count": null,
   "id": "f5b8e94a",
   "metadata": {},
   "outputs": [],
   "source": [
    "stats_test,p,dof,Expected_Value=stats.chi2_contingency(dataset_array)"
   ]
  },
  {
   "cell_type": "code",
   "execution_count": null,
   "id": "77be8c3b",
   "metadata": {},
   "outputs": [],
   "source": [
    "Expected_Value"
   ]
  },
  {
   "cell_type": "code",
   "execution_count": null,
   "id": "e370b2d9",
   "metadata": {},
   "outputs": [],
   "source": [
    "no_of_col=dataset_table.iloc[0:2,0]\n"
   ]
  },
  {
   "cell_type": "code",
   "execution_count": null,
   "id": "70a350d2",
   "metadata": {},
   "outputs": [],
   "source": [
    "len(no_of_col)"
   ]
  },
  {
   "cell_type": "code",
   "execution_count": null,
   "id": "c96aa811",
   "metadata": {},
   "outputs": [],
   "source": [
    "no_of_row=dataset_table.iloc[0,0:2]\n"
   ]
  },
  {
   "cell_type": "code",
   "execution_count": null,
   "id": "8ba3cbb5",
   "metadata": {},
   "outputs": [],
   "source": [
    "len(no_of_row)"
   ]
  },
  {
   "cell_type": "code",
   "execution_count": null,
   "id": "faf84954",
   "metadata": {},
   "outputs": [],
   "source": [
    "dof=(len(no_of_col)-1)*(len(no_of_row)-1)"
   ]
  },
  {
   "cell_type": "code",
   "execution_count": null,
   "id": "869234fb",
   "metadata": {},
   "outputs": [],
   "source": [
    "dof"
   ]
  },
  {
   "cell_type": "markdown",
   "id": "c6d4fd68",
   "metadata": {},
   "source": [
    "# chi square formula"
   ]
  },
  {
   "cell_type": "code",
   "execution_count": null,
   "id": "f3015c47",
   "metadata": {},
   "outputs": [],
   "source": [
    "from scipy.stats import chi2\n",
    "sum([(o-e)**2/e])"
   ]
  }
 ],
 "metadata": {
  "kernelspec": {
   "display_name": "Python 3 (ipykernel)",
   "language": "python",
   "name": "python3"
  },
  "language_info": {
   "codemirror_mode": {
    "name": "ipython",
    "version": 3
   },
   "file_extension": ".py",
   "mimetype": "text/x-python",
   "name": "python",
   "nbconvert_exporter": "python",
   "pygments_lexer": "ipython3",
   "version": "3.11.3"
  }
 },
 "nbformat": 4,
 "nbformat_minor": 5
}
