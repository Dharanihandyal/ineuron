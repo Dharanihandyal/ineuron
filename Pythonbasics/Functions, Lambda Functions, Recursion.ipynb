{
 "cells": [
  {
   "cell_type": "markdown",
   "id": "44b5e2d7",
   "metadata": {},
   "source": [
    "# Functions"
   ]
  },
  {
   "cell_type": "code",
   "execution_count": 2,
   "id": "a4d8c092",
   "metadata": {},
   "outputs": [
    {
     "name": "stdout",
     "output_type": "stream",
     "text": [
      "Today is Thursday\n"
     ]
    }
   ],
   "source": [
    "def myfirstfunction():\n",
    "    print(\"Today is Thursday\")\n",
    "    \n",
    "#calling\n",
    "myfirstfunction()"
   ]
  },
  {
   "cell_type": "code",
   "execution_count": 3,
   "id": "14d72369",
   "metadata": {},
   "outputs": [
    {
     "name": "stdout",
     "output_type": "stream",
     "text": [
      "stark is a good student\n"
     ]
    }
   ],
   "source": [
    "#passing arguements/parameters\n",
    "def mysecondfunction(name):     # name is a arguement which we will pass later\n",
    "    print(name + \"is a good student\")\n",
    "    \n",
    "mysecondfunction(\"stark \")    # passing the arguement here."
   ]
  },
  {
   "cell_type": "code",
   "execution_count": 9,
   "id": "b023c36c",
   "metadata": {},
   "outputs": [
    {
     "name": "stdout",
     "output_type": "stream",
     "text": [
      "dharani handyal my full name\n"
     ]
    }
   ],
   "source": [
    "def demo(fname, lname): # multiple parameters\n",
    "    print(fname +\" \"+ lname+\" \" + \"my full name\")\n",
    "    \n",
    "demo(\"dharani\", \"handyal\")"
   ]
  },
  {
   "cell_type": "code",
   "execution_count": 12,
   "id": "fddc6005",
   "metadata": {},
   "outputs": [
    {
     "name": "stdout",
     "output_type": "stream",
     "text": [
      "dharani  my full name\n"
     ]
    }
   ],
   "source": [
    "def demo(fname, lname = \"\"): # run a function without parameter value by specifying \"\".\n",
    "    print(fname +\" \"+ lname+\" \" + \"my full name\")\n",
    "    \n",
    "demo(\"dharani\")"
   ]
  },
  {
   "cell_type": "markdown",
   "id": "dd7f53b5",
   "metadata": {},
   "source": [
    "# Return"
   ]
  },
  {
   "cell_type": "code",
   "execution_count": 10,
   "id": "89bd98c3",
   "metadata": {},
   "outputs": [
    {
     "name": "stdout",
     "output_type": "stream",
     "text": [
      "The sum of two number is: 8\n"
     ]
    }
   ],
   "source": [
    "def add_num(num1, num2):\n",
    "    sum = num1 + num2\n",
    "    return sum \n",
    "#return\n",
    "# specifies what output we need.\n",
    "# We can use to print the result of this defined function even outside the function.\n",
    "    \n",
    "result = add_num(5, 3)\n",
    "print(\"The sum of two number is:\", result)"
   ]
  },
  {
   "cell_type": "code",
   "execution_count": 13,
   "id": "dd74ffd5",
   "metadata": {},
   "outputs": [
    {
     "name": "stdout",
     "output_type": "stream",
     "text": [
      "Enter the first number:3\n",
      "Enter the second number:4\n",
      "Sum of the 2 numbers: 7\n",
      "difference of the 2 numbers: -1\n",
      "product of the 2 numbers: 12\n",
      "division of the 2 numbers: 0.75\n"
     ]
    },
    {
     "data": {
      "text/plain": [
       "(7, -1, 12, 0.75)"
      ]
     },
     "execution_count": 13,
     "metadata": {},
     "output_type": "execute_result"
    }
   ],
   "source": [
    "def calculator():\n",
    "    num1 = int(input(\"Enter the first number:\"))\n",
    "    num2 = int(input(\"Enter the second number:\"))\n",
    "    \n",
    "    sum = num1 + num2\n",
    "    print(\"Sum of the 2 numbers:\", sum)\n",
    "    \n",
    "    sub = num1 - num2\n",
    "    print(\"difference of the 2 numbers:\", sub)\n",
    "    \n",
    "    mul = num1 * num2\n",
    "    print(\"product of the 2 numbers:\", mul)\n",
    "    \n",
    "    div = num1 / num2\n",
    "    print(\"division of the 2 numbers:\", div)\n",
    "    \n",
    "    return sum, sub, mul, div\n",
    "    \n",
    "calculator()"
   ]
  },
  {
   "cell_type": "code",
   "execution_count": 19,
   "id": "38cc2175",
   "metadata": {},
   "outputs": [
    {
     "name": "stdout",
     "output_type": "stream",
     "text": [
      "Enter the first number:3\n",
      "Enter the second number:4\n",
      "Sum of the 2 numbers: 7\n",
      "difference of the 2 numbers: -1\n",
      "product of the 2 numbers: 12\n",
      "quotient of the 2 numbers: 0.75\n"
     ]
    }
   ],
   "source": [
    "def calculator2():\n",
    "    num1 = int(input(\"Enter the first number:\"))\n",
    "    num2 = int(input(\"Enter the second number:\"))\n",
    "    \n",
    "    sum = num1 + num2\n",
    "    \n",
    "    sub = num1 - num2\n",
    "    \n",
    "    mul = num1 * num2\n",
    "   \n",
    "    div = num1 / num2\n",
    "    \n",
    "    return {\n",
    "        \"sum\" : sum,\n",
    "        \"sub\" : sub,\n",
    "        \"product\" : mul,\n",
    "        \"quotient\" : div,\n",
    "    }\n",
    "    \n",
    "# \"{}\" - used in return function because we have multiple results to print.\n",
    "    \n",
    "cal_result = calculator2()\n",
    "print(\"Sum of the 2 numbers:\", cal_result[\"sum\"])\n",
    "print(\"difference of the 2 numbers:\", cal_result[\"sub\"])\n",
    "print(\"product of the 2 numbers:\", cal_result[\"product\"])\n",
    "print(\"quotient of the 2 numbers:\", cal_result[\"quotient\"])"
   ]
  },
  {
   "cell_type": "markdown",
   "id": "1f3fd925",
   "metadata": {},
   "source": [
    "# Use of built-in function in user defined"
   ]
  },
  {
   "cell_type": "code",
   "execution_count": 27,
   "id": "7f2f7dc1",
   "metadata": {},
   "outputs": [
    {
     "name": "stdout",
     "output_type": "stream",
     "text": [
      "Enter your fname:dfghjk\n",
      "Enter your lname:sdfghjk\n",
      "student name is: Dfghjk Sdfghjk\n"
     ]
    },
    {
     "data": {
      "text/plain": [
       "('Dfghjk', 'Sdfghjk')"
      ]
     },
     "execution_count": 27,
     "metadata": {},
     "output_type": "execute_result"
    }
   ],
   "source": [
    "# built - in function can be used in user defined.\n",
    "def format_name():\n",
    "    fname = input(\"Enter your fname:\")\n",
    "    lname = input(\"Enter your lname:\")\n",
    "    \n",
    "    format_fname = fname.capitalize()\n",
    "    format_lname = lname.capitalize()\n",
    "\n",
    "    # use print function to print result\n",
    "    print(\"student name is:\", format_fname, format_lname)\n",
    "    \n",
    "    # or use return to return results\n",
    "    return format_fname, format_lname\n",
    "\n",
    "format_name()"
   ]
  },
  {
   "cell_type": "markdown",
   "id": "2c02019d",
   "metadata": {},
   "source": [
    "# Loops in user defined function"
   ]
  },
  {
   "cell_type": "code",
   "execution_count": 33,
   "id": "73ef955e",
   "metadata": {},
   "outputs": [
    {
     "name": "stdout",
     "output_type": "stream",
     "text": [
      "Enter the number:40\n",
      "even number upto 40 are [2, 4, 6, 8, 10, 12, 14, 16, 18, 20, 22, 24, 26, 28, 30, 32, 34, 36, 38, 40]\n"
     ]
    }
   ],
   "source": [
    "#print even numbers till 8 \n",
    "def print_even_numbers():\n",
    "    num = int(input(\"Enter the number:\"))\n",
    "    even_numbers = []\n",
    "    for n in range(1, num+1): # (num + 1) used because in range function it will print from 1st umber to the 2nd number, but excludes that, so to include last number, we used (n +1).\n",
    "        if  n % 2 == 0:\n",
    "            even_numbers.append(n)\n",
    "    print(\"even number upto\", n, \"are\", even_numbers)\n",
    "            \n",
    "print_even_numbers()"
   ]
  },
  {
   "cell_type": "markdown",
   "id": "e7807442",
   "metadata": {},
   "source": [
    "# Lambda"
   ]
  },
  {
   "cell_type": "code",
   "execution_count": null,
   "id": "71f405c7",
   "metadata": {},
   "outputs": [],
   "source": [
    "# anonymus function\n",
    "# Generallybused when we need single use functions\n",
    "# disadvantages : \n",
    "# 1. Cannot be used for complex operations\n",
    "# 2. They are not reading friendly\n",
    "\n",
    "#add\n",
    "add = lambda x, y: x +y\n",
    "print(add(6, 4))\n",
    "add2 = lambda x, y, z: x + y + z\n",
    "print(add2(6, 4, 1))\n",
    "\n",
    "\n",
    "#sqaure\n",
    "square = lambda x: x **2\n",
    "print(square(2))\n",
    "\n",
    "#concat 2 strings\n",
    "concat_str = lambda x, y: x + y\n",
    "print(concat_str(\"Good\", \"Morning\"))\n",
    "\n",
    "# even or odd\n",
    "even_or_odd = lambda x: 'even' if x % 2 == 0 else 'odd'\n",
    "print(even_or_odd(11))\n",
    "\n",
    "# max number\n",
    "max_num = lambda x, y: 'x is larger' if x > y else 'y is larger'\n",
    "max_num2 = lambda x, y: x if x > y else y # to display int value of the largest\n",
    "print(max_num(10, 20))\n",
    "print(max_num2(10, 20)) \n",
    "\n",
    "# take input\n",
    "take = lambda : input(\"give input:\")\n",
    "print(take())\n",
    "\n"
   ]
  },
  {
   "cell_type": "markdown",
   "id": "0a02922e",
   "metadata": {},
   "source": [
    "# Lambda with user inputs"
   ]
  },
  {
   "cell_type": "code",
   "execution_count": 58,
   "id": "d9b1912b",
   "metadata": {},
   "outputs": [
    {
     "name": "stdout",
     "output_type": "stream",
     "text": [
      "enter 1st num2\n",
      "enter 2st num2\n",
      "4\n",
      "enter the number:2\n",
      "enter the number:4\n",
      "product of 2 numbers: 8\n"
     ]
    }
   ],
   "source": [
    "# addition by user input\n",
    "addition = lambda : int(input(\"enter 1st num\")) + int(input(\"enter 2st num\"))\n",
    "print(addition())\n",
    "\n",
    "# multiplication\n",
    "mul = lambda x, y: x * y\n",
    "x = int(input(\"enter the number:\"))\n",
    "y = int(input(\"enter the number:\"))\n",
    "print(\"product of 2 numbers:\", mul(x, y)) \n",
    "\n"
   ]
  },
  {
   "cell_type": "markdown",
   "id": "9a07dde9",
   "metadata": {},
   "source": [
    "# lamba with list"
   ]
  },
  {
   "cell_type": "code",
   "execution_count": null,
   "id": "b1ddb168",
   "metadata": {},
   "outputs": [],
   "source": [
    "# square of all the elements in a list\n",
    "my_list = lambda x: [i ** 2 for i in x]\n",
    "print(my_list([2, 3, 5, 6]))"
   ]
  },
  {
   "cell_type": "markdown",
   "id": "02cd96c9",
   "metadata": {},
   "source": [
    "# lamba with functions"
   ]
  },
  {
   "cell_type": "code",
   "execution_count": 61,
   "id": "3e8b5442",
   "metadata": {},
   "outputs": [
    {
     "name": "stdout",
     "output_type": "stream",
     "text": [
      "{'name': 'laptop', 'price': 40000}\n",
      "{'name': 'iphone', 'price': 30000}\n",
      "{'name': 'oppo', 'price': 20000}\n",
      "{'name': 'earbuds', 'price': 10000}\n"
     ]
    }
   ],
   "source": [
    "# sorted()\n",
    "products = [{\"name\":\"oppo\", \"price\": 20000},\n",
    "           {\"name\":\"earbuds\", \"price\": 10000},\n",
    "           {\"name\":\"iphone\", \"price\": 30000},\n",
    "           {\"name\":\"laptop\", \"price\": 40000}]\n",
    "\n",
    "#sorted products by price\n",
    "sorted_products = sorted(products, key = lambda x: x[\"price\"], reverse = True)\n",
    "\n",
    "for products in sorted_products:\n",
    "    print(products)"
   ]
  },
  {
   "cell_type": "markdown",
   "id": "f9f8bc2e",
   "metadata": {},
   "source": [
    "# Recursion\n",
    "\n",
    "* functon which call itself"
   ]
  },
  {
   "cell_type": "code",
   "execution_count": 64,
   "id": "c92a4c1e",
   "metadata": {},
   "outputs": [
    {
     "name": "stdout",
     "output_type": "stream",
     "text": [
      "15\n"
     ]
    }
   ],
   "source": [
    "def recursion_sum(n):\n",
    "    if n == 1:\n",
    "        return 1\n",
    "    else:\n",
    "        return n + recursion_sum(n-1)\n",
    "    \n",
    "print(recursion_sum(5)) # 5 + 4 + 3 + 2 + 1 = 15"
   ]
  },
  {
   "cell_type": "code",
   "execution_count": 75,
   "id": "5a87ae82",
   "metadata": {},
   "outputs": [
    {
     "name": "stdout",
     "output_type": "stream",
     "text": [
      "55\n"
     ]
    }
   ],
   "source": [
    "# to print a pattern (fibonacci)\n",
    "# 0, 1, 1, 2, 3, 5, 8, 13, 21, 34, 55...\n",
    "\n",
    "# 0 + 1 = 1\n",
    "# 1 + 1 = 2\n",
    "# 1 + 2 = 3\n",
    "# 2 + 3 = 5\n",
    "# 3 + 5 = 8\n",
    "# 5 + 8 = 13\n",
    "\n",
    "\n",
    "def fibonacci(n):\n",
    "    if n <= 1:\n",
    "        return n\n",
    "    else:\n",
    "        return fibonacci(n - 1) + fibonacci(n - 2)\n",
    "print(fibonacci(10)) # displays 8th indexed number in the fibonacci series\n"
   ]
  },
  {
   "cell_type": "code",
   "execution_count": 85,
   "id": "3cc458ae",
   "metadata": {},
   "outputs": [
    {
     "name": "stdout",
     "output_type": "stream",
     "text": [
      "0\n",
      "1\n",
      "1\n",
      "2\n",
      "3\n"
     ]
    },
    {
     "data": {
      "text/plain": [
       "[0, 1, 1]"
      ]
     },
     "execution_count": 85,
     "metadata": {},
     "output_type": "execute_result"
    }
   ],
   "source": [
    "# print fibonacci numbers\n",
    "def print_fibonacci(n):\n",
    "    a, b = 0, 1\n",
    "    for i in range(n):\n",
    "        print(a)\n",
    "        a, b = b, a + b\n",
    "print_fibonacci(5)\n",
    "\n",
    "def fibonacci_with_recursion(n):\n",
    "    if n <= 0:\n",
    "        return []\n",
    "    elif n == 1:\n",
    "        return [0]\n",
    "    elif n == 2:\n",
    "        return [0, 1]\n",
    "    else:\n",
    "        fib_series = fibonacci_with_recursion(n - 1)\n",
    "        fib_series.append(fib_series[-1] + fib_series[-2])\n",
    "        \n",
    "        return fib_series\n",
    "    \n",
    "fibonacci_with_recursion(3)"
   ]
  },
  {
   "cell_type": "code",
   "execution_count": null,
   "id": "6c35cf3c",
   "metadata": {},
   "outputs": [],
   "source": []
  }
 ],
 "metadata": {
  "kernelspec": {
   "display_name": "Python 3 (ipykernel)",
   "language": "python",
   "name": "python3"
  },
  "language_info": {
   "codemirror_mode": {
    "name": "ipython",
    "version": 3
   },
   "file_extension": ".py",
   "mimetype": "text/x-python",
   "name": "python",
   "nbconvert_exporter": "python",
   "pygments_lexer": "ipython3",
   "version": "3.11.3"
  }
 },
 "nbformat": 4,
 "nbformat_minor": 5
}
