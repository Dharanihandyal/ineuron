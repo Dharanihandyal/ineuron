{
 "cells": [
  {
   "cell_type": "code",
   "execution_count": 6,
   "id": "8dbee90e",
   "metadata": {},
   "outputs": [],
   "source": [
    "class Person:\n",
    "    def __init__(self,name):\n",
    "        self.name = name\n",
    "    def display_info(self):\n",
    "        print (f\"Name is {self.name}\")\n",
    "    "
   ]
  },
  {
   "cell_type": "code",
   "execution_count": 7,
   "id": "7383d55a",
   "metadata": {},
   "outputs": [
    {
     "name": "stdout",
     "output_type": "stream",
     "text": [
      "Name is krish\n"
     ]
    }
   ],
   "source": [
    "person = Person(\"krish\")\n",
    "person.display_info()"
   ]
  },
  {
   "cell_type": "code",
   "execution_count": 10,
   "id": "53d4e3ae",
   "metadata": {},
   "outputs": [],
   "source": [
    "class Student(Person):\n",
    "    def __init__(self,name,grade):\n",
    "        super().__init__(name)\n",
    "        self.grade=grade\n",
    "    def display_info(self):\n",
    "        super().display_info()\n",
    "        print(f\"grade is {self.grade}\")"
   ]
  },
  {
   "cell_type": "code",
   "execution_count": 12,
   "id": "8420e2b6",
   "metadata": {},
   "outputs": [
    {
     "name": "stdout",
     "output_type": "stream",
     "text": [
      "Name is krish\n",
      "grade is A\n"
     ]
    }
   ],
   "source": [
    "student1=Student(\"krish\",\"A\")\n",
    "student1.display_info()"
   ]
  },
  {
   "cell_type": "code",
   "execution_count": 14,
   "id": "5eb24f2a",
   "metadata": {},
   "outputs": [],
   "source": [
    "class Teacher(Person):\n",
    "    def __init__(self,name,subject):\n",
    "        super().__init__(name)\n",
    "        self.subject=subject\n",
    "    def display_info(self):\n",
    "        super().display_info()\n",
    "        print(f\"subject is {self.subject}\")"
   ]
  },
  {
   "cell_type": "code",
   "execution_count": 15,
   "id": "6e3bfd77",
   "metadata": {},
   "outputs": [
    {
     "name": "stdout",
     "output_type": "stream",
     "text": [
      "Name is Naik\n",
      "subject is Anotomy\n"
     ]
    }
   ],
   "source": [
    "teacher1=Teacher(\"Naik\",\"Anotomy\")\n",
    "teacher1.display_info()"
   ]
  },
  {
   "cell_type": "code",
   "execution_count": 49,
   "id": "429c2acc",
   "metadata": {},
   "outputs": [],
   "source": [
    "class Vehicle():\n",
    "    def __init__(self,brand):\n",
    "        self.brand=brand\n",
    "    def start(self):\n",
    "        print(f\"{self.brand} model has started\")\n",
    "    "
   ]
  },
  {
   "cell_type": "code",
   "execution_count": 71,
   "id": "f03eb695",
   "metadata": {},
   "outputs": [],
   "source": [
    "class Bicycle(Vehicle):\n",
    "    def __init__(self,model,brand):\n",
    "        super().__init__(brand)\n",
    "        self.model=model\n",
    "    def start(self):\n",
    "        super().start()\n",
    "        print(f\"{self.model} mpdel of {self.brand} runs on pedals\")\n",
    "    "
   ]
  },
  {
   "cell_type": "code",
   "execution_count": 86,
   "id": "bf3246d6",
   "metadata": {},
   "outputs": [],
   "source": [
    "class Car(Vehicle):\n",
    "    def __init__(self,model,brand):\n",
    "        super().__init__(brand)\n",
    "        self.model=model\n",
    "    def start(self):\n",
    "        super().start()\n",
    "        print(f\" {self.brand} is a automatic car\")\n",
    "    "
   ]
  },
  {
   "cell_type": "code",
   "execution_count": 87,
   "id": "b422a220",
   "metadata": {},
   "outputs": [
    {
     "name": "stdout",
     "output_type": "stream",
     "text": [
      "honda model has started\n"
     ]
    }
   ],
   "source": [
    "vehicle1 = Vehicle(\"honda\")\n",
    "vehicle1.start()"
   ]
  },
  {
   "cell_type": "code",
   "execution_count": 88,
   "id": "ec0e3d1c",
   "metadata": {},
   "outputs": [
    {
     "name": "stdout",
     "output_type": "stream",
     "text": [
      "honda model has started\n",
      "Gear mpdel of honda runs on pedals\n"
     ]
    }
   ],
   "source": [
    "bicycle1=Bicycle(\"Gear\",\"honda\")\n",
    "bicycle1.start()"
   ]
  },
  {
   "cell_type": "code",
   "execution_count": 89,
   "id": "32192fef",
   "metadata": {},
   "outputs": [
    {
     "name": "stdout",
     "output_type": "stream",
     "text": [
      "5 seater model has started\n",
      " 5 seater is a automatic car\n"
     ]
    }
   ],
   "source": [
    "car1=Car(\"honda\", \"5 seater\")\n",
    "car1.start()"
   ]
  },
  {
   "cell_type": "code",
   "execution_count": 100,
   "id": "df636cc3",
   "metadata": {},
   "outputs": [],
   "source": [
    "class Animal():\n",
    "    def __init__(self,name):\n",
    "        self.name=name\n",
    "    def sound(self):\n",
    "        print(f\"{self.name} is an name of an Animal\")"
   ]
  },
  {
   "cell_type": "code",
   "execution_count": 101,
   "id": "35af91e2",
   "metadata": {},
   "outputs": [],
   "source": [
    "class cat(Animal):\n",
    "    def __init__(self,name):\n",
    "        super().__init__(name)\n",
    "    def sound(self):\n",
    "        super().sound()\n",
    "        print(f\"{self.name} sound meow meow\")"
   ]
  },
  {
   "cell_type": "code",
   "execution_count": 102,
   "id": "03acfba9",
   "metadata": {},
   "outputs": [],
   "source": [
    "class dog(Animal):\n",
    "    def __init__(self,name):\n",
    "        super().__init__(name)\n",
    "    def sound(self):\n",
    "        super().sound()\n",
    "        print(f\"{self.name} sound bow bow\")"
   ]
  },
  {
   "cell_type": "code",
   "execution_count": 103,
   "id": "500e3a0d",
   "metadata": {},
   "outputs": [
    {
     "name": "stdout",
     "output_type": "stream",
     "text": [
      "juhi is an name of an Animal\n",
      "juhi sound meow meow\n"
     ]
    }
   ],
   "source": [
    "cat1=cat(\"juhi\")\n",
    "cat1.sound()"
   ]
  },
  {
   "cell_type": "code",
   "execution_count": 104,
   "id": "7102f2a4",
   "metadata": {},
   "outputs": [
    {
     "name": "stdout",
     "output_type": "stream",
     "text": [
      "shakshi is an name of an Animal\n",
      "shakshi sound bow bow\n"
     ]
    }
   ],
   "source": [
    "dog1=dog(\"shakshi\")\n",
    "dog1.sound()"
   ]
  },
  {
   "cell_type": "markdown",
   "id": "de9a7e8f",
   "metadata": {},
   "source": [
    "# Encapsulation"
   ]
  },
  {
   "cell_type": "markdown",
   "id": "4c7b7d09",
   "metadata": {},
   "source": [
    "#access modifiers\n",
    "* public, private and protected\n",
    "1. Public: \n",
    "    easily accessibble from any part of the program. (All data embers and member functions of a class are public by defaut)\n",
    "    "
   ]
  },
  {
   "cell_type": "code",
   "execution_count": 105,
   "id": "c3228db4",
   "metadata": {},
   "outputs": [],
   "source": [
    "class Person:\n",
    "    def __init__(self,fname,lname):\n",
    "        self.fname = fname\n",
    "        self.lname = lname\n",
    "    def display(self):\n",
    "        print(f\"the fname is {self.fname} and lame is {self.lname}\")"
   ]
  },
  {
   "cell_type": "code",
   "execution_count": 108,
   "id": "5dbcc6d2",
   "metadata": {},
   "outputs": [
    {
     "data": {
      "text/plain": [
       "['__class__',\n",
       " '__delattr__',\n",
       " '__dict__',\n",
       " '__dir__',\n",
       " '__doc__',\n",
       " '__eq__',\n",
       " '__format__',\n",
       " '__ge__',\n",
       " '__getattribute__',\n",
       " '__getstate__',\n",
       " '__gt__',\n",
       " '__hash__',\n",
       " '__init__',\n",
       " '__init_subclass__',\n",
       " '__le__',\n",
       " '__lt__',\n",
       " '__module__',\n",
       " '__ne__',\n",
       " '__new__',\n",
       " '__reduce__',\n",
       " '__reduce_ex__',\n",
       " '__repr__',\n",
       " '__setattr__',\n",
       " '__sizeof__',\n",
       " '__str__',\n",
       " '__subclasshook__',\n",
       " '__weakref__',\n",
       " 'display',\n",
       " 'fname',\n",
       " 'lname']"
      ]
     },
     "execution_count": 108,
     "metadata": {},
     "output_type": "execute_result"
    }
   ],
   "source": [
    "person1=Person(\"dharani\",\"Bansal\")\n",
    "dir(person1)"
   ]
  },
  {
   "cell_type": "markdown",
   "id": "edda280d",
   "metadata": {},
   "source": [
    "Protected access modifier: \n",
    "    Any functions, variables or methods, can be access inside the class or only from derived class. "
   ]
  },
  {
   "cell_type": "code",
   "execution_count": 111,
   "id": "07588a91",
   "metadata": {},
   "outputs": [],
   "source": [
    "class Student(Person):\n",
    "    def __init__(self,name,roll):\n",
    "        self._name=name\n",
    "        self._roll=roll\n",
    "    def _display_info(self):\n",
    "        print(f\"name and roll number is {self._name} and {self._roll}\")"
   ]
  },
  {
   "cell_type": "code",
   "execution_count": 112,
   "id": "839f6f90",
   "metadata": {},
   "outputs": [
    {
     "data": {
      "text/plain": [
       "['__class__',\n",
       " '__delattr__',\n",
       " '__dict__',\n",
       " '__dir__',\n",
       " '__doc__',\n",
       " '__eq__',\n",
       " '__format__',\n",
       " '__ge__',\n",
       " '__getattribute__',\n",
       " '__getstate__',\n",
       " '__gt__',\n",
       " '__hash__',\n",
       " '__init__',\n",
       " '__init_subclass__',\n",
       " '__le__',\n",
       " '__lt__',\n",
       " '__module__',\n",
       " '__ne__',\n",
       " '__new__',\n",
       " '__reduce__',\n",
       " '__reduce_ex__',\n",
       " '__repr__',\n",
       " '__setattr__',\n",
       " '__sizeof__',\n",
       " '__str__',\n",
       " '__subclasshook__',\n",
       " '__weakref__',\n",
       " '_display_info',\n",
       " '_name',\n",
       " '_roll',\n",
       " 'display']"
      ]
     },
     "execution_count": 112,
     "metadata": {},
     "output_type": "execute_result"
    }
   ],
   "source": [
    "student1 = Student(\"vbjj\",\"67\")\n",
    "dir(student1)"
   ]
  },
  {
   "cell_type": "code",
   "execution_count": 119,
   "id": "8b65cf25",
   "metadata": {},
   "outputs": [],
   "source": [
    "class Genius(Student):\n",
    "    def __init__(self,name,roll):\n",
    "        super().__init__(name,roll)\n",
    "    def displaydetails(self):\n",
    "        print(f\"Name is {self._name}\")\n",
    "        self._display_info()"
   ]
  },
  {
   "cell_type": "code",
   "execution_count": 120,
   "id": "f4c4d292",
   "metadata": {},
   "outputs": [
    {
     "name": "stdout",
     "output_type": "stream",
     "text": [
      "Name is krish\n",
      "name and roll number is krish and 123\n"
     ]
    }
   ],
   "source": [
    "genius=Genius(\"krish\",123)\n",
    "genius.displaydetails()"
   ]
  },
  {
   "cell_type": "code",
   "execution_count": 177,
   "id": "5dff4bfb",
   "metadata": {},
   "outputs": [],
   "source": [
    "#private\n",
    "\n",
    "class Student(Person):\n",
    "    def __init__(self,name,roll):\n",
    "        self.__name=name\n",
    "        self.__roll=roll\n",
    "    def __display_info(self):\n",
    "        print(f\"name and roll number is {self.__name} and {self.__roll}\")\n",
    "    def display(self):\n",
    "        self.__display_info()"
   ]
  },
  {
   "cell_type": "code",
   "execution_count": 178,
   "id": "6823e577",
   "metadata": {},
   "outputs": [
    {
     "name": "stdout",
     "output_type": "stream",
     "text": [
      "name and roll number is sdfghjk and 4567\n",
      "name and roll number is krishi and 4567\n"
     ]
    }
   ],
   "source": [
    "student1=Student(\"sdfghjk\",4567)\n",
    "student1.display()\n",
    "dir(student1)\n",
    "student1._Student__name = \"krishi\" #updating values\n",
    "student1.display()\n"
   ]
  },
  {
   "cell_type": "code",
   "execution_count": 182,
   "id": "93afcd9b",
   "metadata": {},
   "outputs": [],
   "source": [
    "class Genius(Student):\n",
    "    def __init__(self,name,roll,subject):\n",
    "        super().__init__(name,roll)\n",
    "        self.subject=subject\n",
    "    def __display(self):\n",
    "        print(f\"name and roll number is {self.__name} and {self.__roll}\")\n",
    "    def display(self):\n",
    "        self.__display()  \n",
    "        return \"success\""
   ]
  },
  {
   "cell_type": "code",
   "execution_count": 183,
   "id": "e1293861",
   "metadata": {},
   "outputs": [],
   "source": [
    "genius1=Genius(\"oiuyt\",4567,\"AI\")\n"
   ]
  },
  {
   "cell_type": "code",
   "execution_count": 184,
   "id": "84853e86",
   "metadata": {},
   "outputs": [
    {
     "ename": "AttributeError",
     "evalue": "'Genius' object has no attribute 'fname'",
     "output_type": "error",
     "traceback": [
      "\u001b[1;31m---------------------------------------------------------------------------\u001b[0m",
      "\u001b[1;31mAttributeError\u001b[0m                            Traceback (most recent call last)",
      "Cell \u001b[1;32mIn[184], line 2\u001b[0m\n\u001b[0;32m      1\u001b[0m \u001b[38;5;28mdir\u001b[39m(genius1)\n\u001b[1;32m----> 2\u001b[0m genius\u001b[38;5;241m.\u001b[39mdisplay()\n",
      "Cell \u001b[1;32mIn[105], line 6\u001b[0m, in \u001b[0;36mPerson.display\u001b[1;34m(self)\u001b[0m\n\u001b[0;32m      5\u001b[0m \u001b[38;5;28;01mdef\u001b[39;00m \u001b[38;5;21mdisplay\u001b[39m(\u001b[38;5;28mself\u001b[39m):\n\u001b[1;32m----> 6\u001b[0m     \u001b[38;5;28mprint\u001b[39m(\u001b[38;5;124mf\u001b[39m\u001b[38;5;124m\"\u001b[39m\u001b[38;5;124mthe fname is \u001b[39m\u001b[38;5;132;01m{\u001b[39;00m\u001b[38;5;28mself\u001b[39m\u001b[38;5;241m.\u001b[39mfname\u001b[38;5;132;01m}\u001b[39;00m\u001b[38;5;124m and lame is \u001b[39m\u001b[38;5;132;01m{\u001b[39;00m\u001b[38;5;28mself\u001b[39m\u001b[38;5;241m.\u001b[39mlname\u001b[38;5;132;01m}\u001b[39;00m\u001b[38;5;124m\"\u001b[39m)\n",
      "\u001b[1;31mAttributeError\u001b[0m: 'Genius' object has no attribute 'fname'"
     ]
    }
   ],
   "source": [
    "dir(genius1)\n",
    "genius.display()"
   ]
  },
  {
   "cell_type": "markdown",
   "id": "c0c2e53f",
   "metadata": {},
   "source": [
    "# Polymorphism"
   ]
  },
  {
   "cell_type": "markdown",
   "id": "1c18b6b8",
   "metadata": {},
   "source": [
    "Polymorphisim\n",
    "--multiple forms -- Methods with same name but different definitions-- same method, different function"
   ]
  },
  {
   "cell_type": "code",
   "execution_count": 206,
   "id": "5452cc3e",
   "metadata": {},
   "outputs": [],
   "source": [
    "class Animal:\n",
    "    def __init__(self,name):\n",
    "        self.name=name\n",
    "    def make_sound(self):\n",
    "        return \" im super class\"\n",
    "    \n",
    "class dog(Animal):\n",
    "    def make_sound(self):\n",
    "        super().make_sound()\n",
    "        return \"bow bow\"\n",
    "    \n",
    "class cat(Animal):\n",
    "    def make_sound(self):\n",
    "        super().make_sound()\n",
    "        return \"meow meow\""
   ]
  },
  {
   "cell_type": "code",
   "execution_count": 207,
   "id": "05a6d2a3",
   "metadata": {},
   "outputs": [
    {
     "data": {
      "text/plain": [
       "'meow meow'"
      ]
     },
     "execution_count": 207,
     "metadata": {},
     "output_type": "execute_result"
    }
   ],
   "source": [
    "cat1 = cat('tom')\n",
    "cat1.make_sound()"
   ]
  },
  {
   "cell_type": "code",
   "execution_count": null,
   "id": "a50c7d16",
   "metadata": {},
   "outputs": [],
   "source": []
  }
 ],
 "metadata": {
  "kernelspec": {
   "display_name": "Python 3 (ipykernel)",
   "language": "python",
   "name": "python3"
  },
  "language_info": {
   "codemirror_mode": {
    "name": "ipython",
    "version": 3
   },
   "file_extension": ".py",
   "mimetype": "text/x-python",
   "name": "python",
   "nbconvert_exporter": "python",
   "pygments_lexer": "ipython3",
   "version": "3.11.3"
  }
 },
 "nbformat": 4,
 "nbformat_minor": 5
}
