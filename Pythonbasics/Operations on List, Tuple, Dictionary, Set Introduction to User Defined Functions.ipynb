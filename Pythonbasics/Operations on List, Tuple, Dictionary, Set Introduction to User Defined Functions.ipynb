{
 "cells": [
  {
   "cell_type": "markdown",
   "id": "c0f564b1",
   "metadata": {},
   "source": [
    "# string operation"
   ]
  },
  {
   "cell_type": "code",
   "execution_count": 1,
   "id": "0d75dbd9",
   "metadata": {},
   "outputs": [
    {
     "name": "stdout",
     "output_type": "stream",
     "text": [
      "a\n"
     ]
    }
   ],
   "source": [
    "name = \"dharani\"\n",
    "print(name[2])"
   ]
  },
  {
   "cell_type": "code",
   "execution_count": 2,
   "id": "6e406840",
   "metadata": {},
   "outputs": [
    {
     "name": "stdout",
     "output_type": "stream",
     "text": [
      "d\n",
      "h\n",
      "a\n",
      "r\n",
      "u\n"
     ]
    }
   ],
   "source": [
    "for i in \"dharu\":\n",
    "    print(i)"
   ]
  },
  {
   "cell_type": "code",
   "execution_count": 4,
   "id": "ce891ab6",
   "metadata": {},
   "outputs": [
    {
     "name": "stdout",
     "output_type": "stream",
     "text": [
      "13\n"
     ]
    }
   ],
   "source": [
    "pan = \"edxx87678edcx\"\n",
    "print(len(pan))"
   ]
  },
  {
   "cell_type": "code",
   "execution_count": 12,
   "id": "6d041449",
   "metadata": {},
   "outputs": [
    {
     "name": "stdout",
     "output_type": "stream",
     "text": [
      "True\n",
      "False\n",
      "yes\n"
     ]
    }
   ],
   "source": [
    "hello = \" what are u doing?\"\n",
    "print(\"what\" in hello)\n",
    "print(\"not\" in hello)\n",
    "\n",
    "#if \"on\" in hello:\n",
    "if \"on\" not in hello:\n",
    "    print(\"yes\")\n",
    "else:\n",
    "    print(\"no\")"
   ]
  },
  {
   "cell_type": "code",
   "execution_count": 24,
   "id": "9ff30961",
   "metadata": {},
   "outputs": [
    {
     "name": "stdout",
     "output_type": "stream",
     "text": [
      " what are \n",
      " htae\n",
      " \n",
      " what are \n",
      " what are u doing?\n",
      "g?\n",
      " u doi\n"
     ]
    }
   ],
   "source": [
    "#slicing\n",
    "print(hello[0:10])\n",
    "print(hello[0:10:2])\n",
    "print(hello[0])\n",
    "print(hello[:10]) # even if we don't specify start, it will consider it from start.\n",
    "print(hello[0:]) # same for end also\n",
    "print(hello[-2:]) # fetch elemts in reverse\n",
    "print(hello[-9:-3])"
   ]
  },
  {
   "cell_type": "code",
   "execution_count": 51,
   "id": "63700d4e",
   "metadata": {},
   "outputs": [
    {
     "name": "stdout",
     "output_type": "stream",
     "text": [
      " WHAT ARE U DOING?\n",
      " what are u doing?\n",
      " Vhat are u doing?\n",
      "['', 'what', 'are', 'u', 'doing?']\n",
      "dharani handyal\n"
     ]
    }
   ],
   "source": [
    "# upper, lower, replace, split, concat\n",
    "print(hello.upper())\n",
    "print(hello.lower())\n",
    "print(hello.replace('w', 'V'))\n",
    "print(hello.split(\" \"))\n",
    "\n",
    "##########################\n",
    "#concat\n",
    "n1 = \"dharani\"\n",
    "n2 = \"handyal\"\n",
    "name = n1 + \" \" + n2\n",
    "print(name)\n",
    "\n"
   ]
  },
  {
   "cell_type": "markdown",
   "id": "5f4da195",
   "metadata": {},
   "source": [
    "# LIST operation"
   ]
  },
  {
   "cell_type": "code",
   "execution_count": 78,
   "id": "a5ca913e",
   "metadata": {},
   "outputs": [
    {
     "name": "stdout",
     "output_type": "stream",
     "text": [
      "['apples', 'banana', 'cherries']\n",
      "['apples', 'mango', 'cherries']\n",
      "['apples', 'mango', 'pineapple', 'cherries']\n",
      "['roshan', 'begam', 'ananth', 'kishore']\n",
      "['roshan', 'begam', 'ananth', 'kishore', 'karan']\n",
      "['apples', 'mango', 'pineapple', 'cherries', 'roshan', 'begam', 'ananth', 'kishore', 'karan']\n",
      "['apples', 'mango', 'pineapple', 'cherries', 'roshan', 'begam', 'kishore', 'karan']\n",
      "['apples', 'pineapple', 'cherries', 'roshan', 'begam', 'kishore', 'karan']\n",
      "['apples', 'pineapple', 'roshan', 'begam', 'kishore', 'karan']\n",
      "apples\n",
      "pineapple\n",
      "roshan\n",
      "begam\n",
      "kishore\n",
      "karan\n",
      "0\n",
      "1\n",
      "2\n",
      "3\n",
      "4\n",
      "5\n",
      "apples\n",
      "pineapple\n",
      "roshan\n",
      "begam\n",
      "kishore\n",
      "karan\n",
      "['pineapple', 'roshan', 'begam', 'karan']\n",
      "['Apples']\n",
      "['Apples', 'begam', 'karan', 'kishore', 'pineapple', 'roshan']\n",
      "['roshan', 'pineapple', 'kishore', 'karan', 'begam', 'Apples']\n",
      "['Apples', 'pineapple', 'roshan', 'begam', 'kishore', 'karan']\n"
     ]
    }
   ],
   "source": [
    "#insert, append, extend, remove, pop(works for index), del, for loop, comprehension function, sort, copy\n",
    "\n",
    "list1 = [\"apples\", \"banana\", \"cherries\"]\n",
    "print(list1)\n",
    "\n",
    "list1[1] = \"mango\"\n",
    "print(list1)\n",
    "\n",
    "list1[1:2] = [\"mango\" , \"pineapple\"]\n",
    "print(list1)\n",
    "\n",
    "list2  = [\"roshan\", \"begam\", \"kishore\"]\n",
    "list2.insert(2, \"ananth\")\n",
    "print(list2)\n",
    "\n",
    "list2.append(\"karan\")\n",
    "print(list2)\n",
    "\n",
    "list1.extend(list2)\n",
    "print(list1)\n",
    "\n",
    "list1.remove(\"ananth\")\n",
    "print(list1)\n",
    "\n",
    "list1.pop(1)\n",
    "print(list1)\n",
    "\n",
    "del list1[2]\n",
    "print(list1)\n",
    "\n",
    "list1 = ['apples', 'pineapple', 'roshan', 'begam', 'kishore', 'karan']\n",
    "\n",
    "#to print items\n",
    "for i in list1:\n",
    "    print(i)\n",
    "#to print index by using range funtion\n",
    "for i in range(len(list1)):\n",
    "    print(i)\n",
    "#print elements with range function\n",
    "for i in range(len(list1)):\n",
    "    print(list1[i])\n",
    "    \n",
    "list1 = ['Apples', 'pineapple', 'roshan', 'begam', 'kishore', 'karan']\n",
    "newlist = []\n",
    "for i in list1:\n",
    "    if 'a' in i:\n",
    "        newlist.append(i)\n",
    "print(newlist)\n",
    "\n",
    "#comprehension function - create new list from existing lists on conditions.\n",
    "newlist2 = [i for i in list1 if 'A' in i]\n",
    "print(newlist2)\n",
    "\n",
    "#sort\n",
    "list1 = ['Apples', 'pineapple', 'roshan', 'begam', 'kishore', 'karan']\n",
    "list1.sort()\n",
    "print(list1)\n",
    "\n",
    "#reverse sort\n",
    "list1 = ['Apples', 'pineapple', 'roshan', 'begam', 'kishore', 'karan']\n",
    "list1.sort(reverse = True)\n",
    "print(list1)\n",
    "\n",
    "#copy\n",
    "list1 = ['Apples', 'pineapple', 'roshan', 'begam', 'kishore', 'karan']\n",
    "list3 = list1.copy()\n",
    "print(list3)"
   ]
  },
  {
   "cell_type": "markdown",
   "id": "5aea26d9",
   "metadata": {},
   "source": [
    "# TUPLE operations"
   ]
  },
  {
   "cell_type": "code",
   "execution_count": 86,
   "id": "d1b89cd1",
   "metadata": {},
   "outputs": [
    {
     "name": "stdout",
     "output_type": "stream",
     "text": [
      "Australia\n",
      "---------------------\n",
      "India\n",
      "Australia\n",
      "America\n",
      "('India', 'Australia', 'America', '1', 'two', 'THREE')\n"
     ]
    }
   ],
   "source": [
    "#for loop, concat\n",
    "\n",
    "tuple1 = ('India', 'Australia', 'America')\n",
    "print(tuple1[1])\n",
    "print('---------------------')\n",
    "for i in tuple1:\n",
    "    print(i)\n",
    "    \n",
    "tup2 = ('1', 'two', 'THREE')\n",
    "tup3 = tuple1 + tup2\n",
    "print(tup3)"
   ]
  },
  {
   "cell_type": "markdown",
   "id": "bfb2aee4",
   "metadata": {},
   "source": [
    "# SET operations"
   ]
  },
  {
   "cell_type": "code",
   "execution_count": 115,
   "id": "61bc5200",
   "metadata": {},
   "outputs": [
    {
     "name": "stdout",
     "output_type": "stream",
     "text": [
      "{'germany', 'us', 'uk'}\n",
      "3\n",
      "{'germany', 'us', 'uk'}\n",
      "{49, 50, 34, 'us', 'germany', 'uk'}\n",
      "{49, 50, 34, 'us', 'germany', 'uk'}\n",
      "{'jackf'}\n",
      "{'jackf'}\n",
      "{'rohit', 'sachin', 'gangooli', 'tendulkar', 'virat'}\n",
      "{'rohit', 'sachin', 'gangooli', 'tendulkar', 'virat'}\n",
      "sachin\n",
      "gangooli\n",
      "UV\n"
     ]
    }
   ],
   "source": [
    "#sets are un-ordered, so no index present.\n",
    "# no duplicate elements should be there.\n",
    "# elements cannot be changed, but inserting and removing elements can be performed.\n",
    "\n",
    "set1 = {\"uk\", \"us\", \"germany\"}  \n",
    "print(set1)\n",
    "print(len(set1))\n",
    "type(set1) #check data type of the variable\n",
    "\n",
    "#set constructor\n",
    "\n",
    "set2 = set((\"uk\", \"us\", \"germany\"))\n",
    "print(set2)\n",
    "\n",
    "# union function\n",
    "set1 = {\"uk\", \"us\", \"germany\"} \n",
    "set3 = {50, 49, 34} \n",
    "\n",
    "set4 = set3.union(set1) # new set will be created\n",
    "print(set4)\n",
    "\n",
    "# update function\n",
    "set1.update(set3) #updates the existing set\n",
    "print(set1)\n",
    "\n",
    "#intersection_update - updates existing set\n",
    "set1 = {\"pieapple\", \"jackf\", \"guava\"} \n",
    "set2 = {\"orange\", \"melon\", \"jackf\", \"apple\"} \n",
    "\n",
    "set1.intersection_update(set2)\n",
    "print(set1)\n",
    "\n",
    "#intersection -  create new set\n",
    "set1 = {\"pieapple\", \"jackf\", \"guava\"} \n",
    "set2 = {\"orange\", \"melon\", \"jackf\", \"apple\"} \n",
    "\n",
    "set3 = set1.intersection(set2)\n",
    "print(set3)\n",
    "\n",
    "#symmetric_diffrence_update -- updates existing set with removing duplicate elements. (UV should be in one team , not in both, so he's removed)\n",
    "\n",
    "team1 = {\"sachin\", \"UV\", \"gangooli\"} \n",
    "team2 = {\"tendulkar\", \"virat\", \"UV\", \"rohit\"} \n",
    "\n",
    "team1.symmetric_difference_update(team2)\n",
    "print(team1)\n",
    "\n",
    "#symmetric_diffrence -- created new set with removing duplicate elements. (UV should be in one team , not in both, so he's removed)\n",
    "\n",
    "team1 = {\"sachin\", \"UV\", \"gangooli\"} \n",
    "team2 = {\"tendulkar\", \"virat\", \"UV\", \"rohit\"} \n",
    "\n",
    "team3 = team1.symmetric_difference(team2)\n",
    "print(team3)\n",
    "\n",
    "#for loop\n",
    "team1 = {\"sachin\", \"UV\", \"gangooli\"} \n",
    "for i in team1:\n",
    "    print(i)"
   ]
  },
  {
   "cell_type": "markdown",
   "id": "711ee82e",
   "metadata": {},
   "source": [
    "# DICTIONARY operations"
   ]
  },
  {
   "cell_type": "code",
   "execution_count": 23,
   "id": "56ed96be",
   "metadata": {},
   "outputs": [
    {
     "name": "stdout",
     "output_type": "stream",
     "text": [
      "{'name': 'alice', 'age': 24, 'place': 'India'}\n",
      "alice\n",
      "3\n",
      "<class 'dict'>\n",
      "dict_keys(['name', 'age', 'place'])\n",
      "name\n",
      "age\n",
      "place\n",
      "{'name': 'Merry', 'age': 24, 'place': 'India'}\n",
      "{'name': 'Merry', 'age': 24, 'place': 'Columbia', 'roll number': 18}\n",
      "{'name': 'Merry', 'age': 24, 'place': 'Columbia', 'roll number': 18, 'grade': 'A'}\n",
      "{'name': 'Merry', 'place': 'Columbia', 'roll number': 18, 'grade': 'A'}\n",
      "{'name': 'Merry', 'place': 'Columbia', 'roll number': 18}\n",
      "{}\n",
      "name\n",
      "age\n",
      "place\n",
      "alice\n",
      "24\n",
      "India\n",
      "{'name': 'alice', 'age': 24, 'place': 'India'}\n",
      "{'d1': {'name': 'alice', 'age': 24}, 'd3': {'place': 'India'}}\n",
      "{'place': 'India'}\n"
     ]
    }
   ],
   "source": [
    "d1 = {\"name\" : \"alice\", \"age\" : 24, \"place\" : \"Mexico\", \"place\" : \"India\"}\n",
    "print(d1)\n",
    "\n",
    "# dictionaries are ordered or unordered? -- python 3.7 and above, dict is oredered, older versions - unordered.\n",
    "# disctionary doesn't allow duplicate keys values\n",
    "# key valye structure.\n",
    "# mutable\n",
    "# multplie data types \n",
    "\n",
    "print(d1[\"name\"])\n",
    "print(len(d1))\n",
    "print(type((d1)))\n",
    "\n",
    "keys = d1.keys()\n",
    "print(keys)\n",
    "for k in keys:\n",
    "    print(k)\n",
    "    \n",
    "# dictionary constructor\n",
    "\n",
    "#d2 = dict(name = \"john\", age = 27)\n",
    "#print(d2)\n",
    "\n",
    "#update dictionary\n",
    "d1[\"name\"] = \"Merry\"\n",
    "print(d1)\n",
    "d1[\"roll number\"] = 18 #adding one more key value pair\n",
    "\n",
    "# update with update keyword\n",
    "d1.update({\"place\" : \"Columbia\"})\n",
    "print(d1)\n",
    "\n",
    "# update with one more key value \n",
    "d1.update({\"grade\" : \"A\"})\n",
    "print(d1)\n",
    "\n",
    "# pop function\n",
    "d1.pop(\"age\")\n",
    "print(d1)\n",
    "\n",
    "# delfunction\n",
    "del d1[\"grade\"]\n",
    "print(d1)\n",
    "\n",
    "#we can even delete whole dictionary\n",
    "\n",
    "#del d1 -- which delete whole dictionary\n",
    "\n",
    "# clear function\n",
    "\n",
    "d1.clear()\n",
    "print(d1)  # emptys the whole dictionary. \n",
    "\n",
    "# for loop -  to print keys\n",
    "d1 = {\"name\" : \"alice\", \"age\" : 24, \"place\" : \"Mexico\", \"place\" : \"India\"}\n",
    "for i in d1:\n",
    "    print(i)\n",
    "    \n",
    "# for loop -  to print values\n",
    "d1 = {\"name\" : \"alice\", \"age\" : 24, \"place\" : \"Mexico\", \"place\" : \"India\"}\n",
    "for i in d1.values():\n",
    "    print(i)\n",
    "    \n",
    "#copy function\n",
    "d2 = d1.copy()\n",
    "print(d2)\n",
    "\n",
    "#nested dictionary\n",
    "dict1 = {\"d1\" : {\"name\" : \"alice\", \"age\" : 24}, \"d3\" : {\"place\" : \"Mexico\", \"place\" : \"India\"}}\n",
    "print(dict1)\n",
    "print(dict1[\"d3\"])"
   ]
  },
  {
   "cell_type": "markdown",
   "id": "0702326d",
   "metadata": {},
   "source": [
    "# Functions"
   ]
  },
  {
   "cell_type": "code",
   "execution_count": 24,
   "id": "81f0432e",
   "metadata": {},
   "outputs": [
    {
     "name": "stdout",
     "output_type": "stream",
     "text": [
      "Today is Thursday\n"
     ]
    }
   ],
   "source": [
    "def myfirstfunction():\n",
    "    print(\"Today is Thursday\")\n",
    "    \n",
    "#calling\n",
    "myfirstfunction()"
   ]
  },
  {
   "cell_type": "code",
   "execution_count": 28,
   "id": "6f10bbff",
   "metadata": {},
   "outputs": [
    {
     "name": "stdout",
     "output_type": "stream",
     "text": [
      "stark is a good student\n"
     ]
    }
   ],
   "source": [
    "#passing arguements/parameters\n",
    "def mysecondfunction(name):     # name is a arguement which we will pass later\n",
    "    print(name + \"is a good student\")\n",
    "    \n",
    "mysecondfunction(\"stark \")    # passing the arguement here."
   ]
  },
  {
   "cell_type": "code",
   "execution_count": null,
   "id": "aee7be33",
   "metadata": {},
   "outputs": [],
   "source": []
  }
 ],
 "metadata": {
  "kernelspec": {
   "display_name": "Python 3 (ipykernel)",
   "language": "python",
   "name": "python3"
  },
  "language_info": {
   "codemirror_mode": {
    "name": "ipython",
    "version": 3
   },
   "file_extension": ".py",
   "mimetype": "text/x-python",
   "name": "python",
   "nbconvert_exporter": "python",
   "pygments_lexer": "ipython3",
   "version": "3.11.3"
  }
 },
 "nbformat": 4,
 "nbformat_minor": 5
}
