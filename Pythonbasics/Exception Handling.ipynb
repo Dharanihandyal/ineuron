{
 "cells": [
  {
   "cell_type": "markdown",
   "id": "e0763c81",
   "metadata": {},
   "source": [
    "# Exception Handling"
   ]
  },
  {
   "cell_type": "code",
   "execution_count": 3,
   "id": "d18e81ff",
   "metadata": {},
   "outputs": [
    {
     "name": "stdout",
     "output_type": "stream",
     "text": [
      "There is no X\n"
     ]
    }
   ],
   "source": [
    "try: # this code can throw error\n",
    "    print(x) # if this exception happens, perform except statement\n",
    "except:\n",
    "    print(\"There is no X\") # after try, except block will be executexd."
   ]
  },
  {
   "cell_type": "code",
   "execution_count": 5,
   "id": "bee291cb",
   "metadata": {},
   "outputs": [
    {
     "name": "stdout",
     "output_type": "stream",
     "text": [
      "10\n",
      "no error\n"
     ]
    }
   ],
   "source": [
    "x= 10\n",
    "try:\n",
    "    print(x)\n",
    "except:\n",
    "    print(\"there is no x\")\n",
    "else:\n",
    "    print(\"no error\")"
   ]
  },
  {
   "cell_type": "code",
   "execution_count": 10,
   "id": "4a1d4f6f",
   "metadata": {},
   "outputs": [
    {
     "name": "stdout",
     "output_type": "stream",
     "text": [
      "there is no y\n",
      "try and except are executed\n"
     ]
    }
   ],
   "source": [
    "# finally block\n",
    "# finally bloclk will execute on any condition.\n",
    "\n",
    "try:\n",
    "    print(y)\n",
    "except:\n",
    "    print(\"there is no y\")\n",
    "finally:\n",
    "    print(\"try and except are executed\")"
   ]
  },
  {
   "cell_type": "code",
   "execution_count": 15,
   "id": "dd46ce34",
   "metadata": {},
   "outputs": [
    {
     "ename": "Exception",
     "evalue": "There is a issue... X is below 30",
     "output_type": "error",
     "traceback": [
      "\u001b[1;31m---------------------------------------------------------------------------\u001b[0m",
      "\u001b[1;31mException\u001b[0m                                 Traceback (most recent call last)",
      "Cell \u001b[1;32mIn[15], line 6\u001b[0m\n\u001b[0;32m      4\u001b[0m x \u001b[38;5;241m=\u001b[39m \u001b[38;5;241m20\u001b[39m\n\u001b[0;32m      5\u001b[0m \u001b[38;5;28;01mif\u001b[39;00m x \u001b[38;5;241m<\u001b[39m \u001b[38;5;241m30\u001b[39m:\n\u001b[1;32m----> 6\u001b[0m     \u001b[38;5;28;01mraise\u001b[39;00m \u001b[38;5;167;01mException\u001b[39;00m(\u001b[38;5;124m\"\u001b[39m\u001b[38;5;124mThere is a issue... X is below 30\u001b[39m\u001b[38;5;124m\"\u001b[39m)\n",
      "\u001b[1;31mException\u001b[0m: There is a issue... X is below 30"
     ]
    }
   ],
   "source": [
    "# Raise exception\n",
    "# we can raise our own exception\n",
    "\n",
    "x = 20\n",
    "if x < 30:\n",
    "    raise Exception(\"There is a issue... X is below 30\")"
   ]
  },
  {
   "cell_type": "markdown",
   "id": "2a4db67f",
   "metadata": {},
   "source": [
    "# ZeroDivisionError, ValueError, Index Error, Key Error, file not found error, I/O error, ImportError, MemoryError, OverflowError, syntaxError and TypeError"
   ]
  },
  {
   "cell_type": "code",
   "execution_count": 20,
   "id": "229f0077",
   "metadata": {},
   "outputs": [
    {
     "name": "stdout",
     "output_type": "stream",
     "text": [
      "Enter num1:3\n",
      "Enter num2:0\n",
      "zero division not possible\n"
     ]
    }
   ],
   "source": [
    "# ZeroDivisionError\n",
    "try:\n",
    "    n = int(input(\"Enter num1:\"))\n",
    "    n2 = int(input(\"Enter num2:\"))\n",
    "\n",
    "    result  = n / n2\n",
    "    print(\"results:\", result)\n",
    "except ZeroDivisionError:\n",
    "    print(\"zero division not possible\")"
   ]
  },
  {
   "cell_type": "code",
   "execution_count": 54,
   "id": "4904a95d",
   "metadata": {},
   "outputs": [
    {
     "name": "stdout",
     "output_type": "stream",
     "text": [
      "Enter num1:\n",
      "only integer input expected\n"
     ]
    }
   ],
   "source": [
    "# multiple exceptions can also be operated at once\n",
    "try:\n",
    "    n = int(input(\"Enter num1:\"))\n",
    "    n2 = int(input(\"Enter num2:\"))\n",
    "\n",
    "    result  = n / n2\n",
    "    print(\"results:\", result)\n",
    "except ZeroDivisionError:\n",
    "    print(\"zero division not possible\")\n",
    "except ValueError:\n",
    "    print(\"only integer input expected\")"
   ]
  },
  {
   "cell_type": "code",
   "execution_count": 55,
   "id": "6b01c98d",
   "metadata": {},
   "outputs": [
    {
     "name": "stdout",
     "output_type": "stream",
     "text": [
      "Data type mismatch\n"
     ]
    }
   ],
   "source": [
    "# Type error (datatype mismatch)\n",
    "\n",
    "try:\n",
    "    x = \"10\"\n",
    "    y = 20\n",
    "    z = x + y\n",
    "    print(z)\n",
    "except:\n",
    "    print(\"Data type mismatch\")"
   ]
  },
  {
   "cell_type": "code",
   "execution_count": 56,
   "id": "510c1bab",
   "metadata": {},
   "outputs": [
    {
     "name": "stdout",
     "output_type": "stream",
     "text": [
      "Wrong Index\n"
     ]
    }
   ],
   "source": [
    "# Index Error\n",
    "try:\n",
    "    list1 = [1, 2, 3, 4]\n",
    "    print(list1[4])\n",
    "except: \n",
    "    print(\"Wrong Index\")"
   ]
  },
  {
   "cell_type": "code",
   "execution_count": 57,
   "id": "656632f7",
   "metadata": {},
   "outputs": [
    {
     "name": "stdout",
     "output_type": "stream",
     "text": [
      "key not found\n"
     ]
    }
   ],
   "source": [
    "# key Error\n",
    "\n",
    "try:\n",
    "    dict1 = {\"name\": \"keeru\", \"agr\" : 20}\n",
    "    print(dict1[\"place\"])\n",
    "except:\n",
    "    print(\"key not found\")"
   ]
  },
  {
   "cell_type": "code",
   "execution_count": 58,
   "id": "a992b6f1",
   "metadata": {},
   "outputs": [],
   "source": [
    "# file not found\n",
    "try:\n",
    "    file_loc = \"my_file.text\"\n",
    "    with open(file_loc, \"r\") as file:\n",
    "        contents = file.read()\n",
    "except:\n",
    "    print(\"File not found\")"
   ]
  },
  {
   "cell_type": "code",
   "execution_count": 59,
   "id": "10252a17",
   "metadata": {},
   "outputs": [
    {
     "name": "stdout",
     "output_type": "stream",
     "text": [
      "File not found\n"
     ]
    }
   ],
   "source": [
    "# I/O error\n",
    "try:\n",
    "    file_loc = \"my_file.text\" # for any file, we need to specify read and write only options in the file's property.\n",
    "    with open(file_loc, \"w\") as file: # if file is read only, it cannot be written \n",
    "        contents = file.read()\n",
    "except:\n",
    "    print(\"File not found\")"
   ]
  },
  {
   "cell_type": "code",
   "execution_count": 60,
   "id": "0adc24e2",
   "metadata": {},
   "outputs": [],
   "source": [
    "# importerror\n",
    "try:\n",
    "    import math\n",
    "except ImportError:\n",
    "    print(\"library missing\")\n"
   ]
  },
  {
   "cell_type": "code",
   "execution_count": 43,
   "id": "8efa31e1",
   "metadata": {},
   "outputs": [
    {
     "name": "stdout",
     "output_type": "stream",
     "text": [
      "memory insufficient\n"
     ]
    }
   ],
   "source": [
    "# MemoryError - when we have insufficient memory\n",
    "try:\n",
    "    big_list = [1] * (10 ** 12) # a big list\n",
    "except MemoryError:\n",
    "    print(\"memory insufficient\")"
   ]
  },
  {
   "cell_type": "code",
   "execution_count": 46,
   "id": "57c74ce6",
   "metadata": {},
   "outputs": [
    {
     "ename": "ValueError",
     "evalue": "Exceeds the limit (4300 digits) for integer string conversion; use sys.set_int_max_str_digits() to increase the limit",
     "output_type": "error",
     "traceback": [
      "\u001b[1;31m---------------------------------------------------------------------------\u001b[0m",
      "\u001b[1;31mValueError\u001b[0m                                Traceback (most recent call last)",
      "Cell \u001b[1;32mIn[46], line 7\u001b[0m\n\u001b[0;32m      5\u001b[0m     \u001b[38;5;28mprint\u001b[39m(\u001b[38;5;124m\"\u001b[39m\u001b[38;5;124mtoo big calulation\u001b[39m\u001b[38;5;124m\"\u001b[39m)\n\u001b[0;32m      6\u001b[0m \u001b[38;5;28;01melse\u001b[39;00m:\n\u001b[1;32m----> 7\u001b[0m     \u001b[38;5;28mprint\u001b[39m(result)\n",
      "\u001b[1;31mValueError\u001b[0m: Exceeds the limit (4300 digits) for integer string conversion; use sys.set_int_max_str_digits() to increase the limit"
     ]
    }
   ],
   "source": [
    "# OverflowError\n",
    "try:\n",
    "    result = 50000 ** 1000\n",
    "except OverflowError:\n",
    "    print(\"too big calulation\")\n",
    "else:\n",
    "    print(result)"
   ]
  },
  {
   "cell_type": "code",
   "execution_count": 48,
   "id": "462fc63c",
   "metadata": {},
   "outputs": [
    {
     "name": "stdout",
     "output_type": "stream",
     "text": [
      "5.0\n",
      "25.0\n",
      "15625.0\n",
      "5.960464477539062e+16\n",
      "7.52316384526264e+83\n",
      "Overflow error happened\n",
      "(34, 'Result too large'), <class 'OverflowError'>\n"
     ]
    }
   ],
   "source": [
    "# OverflowError\n",
    "j = 5.0\n",
    "\n",
    "try:\n",
    "    for i in range(1, 1000):\n",
    "        j = j**i\n",
    "        print(j)\n",
    "except OverflowError as e:\n",
    "    print(\"Overflow error happened\")\n",
    "    print(f\"{e}, {e.__class__}\")"
   ]
  },
  {
   "cell_type": "code",
   "execution_count": 53,
   "id": "ca94a2f0",
   "metadata": {},
   "outputs": [
    {
     "ename": "SyntaxError",
     "evalue": "'(' was never closed (3312458421.py, line 3)",
     "output_type": "error",
     "traceback": [
      "\u001b[1;36m  Cell \u001b[1;32mIn[53], line 3\u001b[1;36m\u001b[0m\n\u001b[1;33m    print(\"john age is\"\u001b[0m\n\u001b[1;37m         ^\u001b[0m\n\u001b[1;31mSyntaxError\u001b[0m\u001b[1;31m:\u001b[0m '(' was never closed\n"
     ]
    }
   ],
   "source": [
    "# syntax error\n",
    "try:\n",
    "    print(\"john age is\"\n",
    "except SyntaxError:\n",
    "    print (\"check the syntax\")"
   ]
  },
  {
   "cell_type": "code",
   "execution_count": null,
   "id": "7c9c6a02",
   "metadata": {},
   "outputs": [],
   "source": []
  }
 ],
 "metadata": {
  "kernelspec": {
   "display_name": "Python 3 (ipykernel)",
   "language": "python",
   "name": "python3"
  },
  "language_info": {
   "codemirror_mode": {
    "name": "ipython",
    "version": 3
   },
   "file_extension": ".py",
   "mimetype": "text/x-python",
   "name": "python",
   "nbconvert_exporter": "python",
   "pygments_lexer": "ipython3",
   "version": "3.11.3"
  }
 },
 "nbformat": 4,
 "nbformat_minor": 5
}
