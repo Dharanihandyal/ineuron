{
 "cells": [
  {
   "cell_type": "markdown",
   "id": "d9090ce2",
   "metadata": {},
   "source": [
    "Class Variables\n",
    "\n",
    "In Python, class variables are variables that are shared by all instances of a class. They are defined within the class, but outside of any methods or constructors. Class variables are associated with the class itself rather than with specific instances of the class.\n",
    "\n"
   ]
  },
  {
   "cell_type": "markdown",
   "id": "eab39873",
   "metadata": {},
   "source": [
    "Class Methods\n",
    "\n",
    "In Python, a class method is a special type of method that is bound to the class rather than an instance of the class. It is defined using the @classmethod decorator, followed by a function definition within the class. Class methods have access to the class itself as the first parameter, conventionally named cls, instead of the instance (self) that is used in regular methods."
   ]
  },
  {
   "cell_type": "markdown",
   "id": "de5b2f49",
   "metadata": {},
   "source": [
    "# Static Methods\n",
    "In Python, a static method is a method that belongs to a class but doesn't have access to the class itself (via self) or its instances. Static methods are defined using the @staticmethod decorator and are typically used when a method doesn't require access to instance-specific data or class-specific data.\n",
    "\n",
    "Static methods are often used when you have a utility function or a method that doesn't depend on the state of a specific instance or the class itself. They are self-contained and don't have access to instance variables or class variables unless they are explicitly passed as arguments.\n",
    "\n",
    "It's important to note that static methods don't have the ability to modify the state of the instance or the class. They are independent of any specific instance and can be called without creating an instance of the class.\n",
    "\n"
   ]
  },
  {
   "cell_type": "code",
   "execution_count": 76,
   "id": "389d0e46",
   "metadata": {},
   "outputs": [],
   "source": [
    "class Employee:\n",
    "    company_name = \"ineuron\"  #class variable\n",
    "    \n",
    "    def __init__(self,fname,lname):\n",
    "        self.fname=fname  #instance variable/attribute\n",
    "        self.lname=lname\n",
    "        \n",
    "    ## class method\n",
    "    @classmethod  #decorator\n",
    "    def change_company(cls,company_name):\n",
    "        cls.company_name=company_name\n",
    "        "
   ]
  },
  {
   "cell_type": "code",
   "execution_count": 84,
   "id": "faaa970b",
   "metadata": {},
   "outputs": [
    {
     "data": {
      "text/plain": [
       "'krish'"
      ]
     },
     "execution_count": 84,
     "metadata": {},
     "output_type": "execute_result"
    }
   ],
   "source": [
    "person1=Employee(\"krish\",\"naik\")\n",
    "person1.fname\n"
   ]
  },
  {
   "cell_type": "code",
   "execution_count": 85,
   "id": "e772a38f",
   "metadata": {},
   "outputs": [
    {
     "data": {
      "text/plain": [
       "'krish_classes'"
      ]
     },
     "execution_count": 85,
     "metadata": {},
     "output_type": "execute_result"
    }
   ],
   "source": [
    "person1.company_name"
   ]
  },
  {
   "cell_type": "code",
   "execution_count": 86,
   "id": "d9d55bca",
   "metadata": {},
   "outputs": [],
   "source": [
    "Employee.change_company(\"krish_classes\")"
   ]
  },
  {
   "cell_type": "code",
   "execution_count": 87,
   "id": "50673cfb",
   "metadata": {},
   "outputs": [],
   "source": [
    "#person1.company_name = \"PWskills\""
   ]
  },
  {
   "cell_type": "code",
   "execution_count": 88,
   "id": "b91eb109",
   "metadata": {},
   "outputs": [
    {
     "data": {
      "text/plain": [
       "'krish_classes'"
      ]
     },
     "execution_count": 88,
     "metadata": {},
     "output_type": "execute_result"
    }
   ],
   "source": [
    "person1.company_name"
   ]
  },
  {
   "cell_type": "code",
   "execution_count": 90,
   "id": "371358f9",
   "metadata": {},
   "outputs": [
    {
     "data": {
      "text/plain": [
       "'krish_classes'"
      ]
     },
     "execution_count": 90,
     "metadata": {},
     "output_type": "execute_result"
    }
   ],
   "source": [
    "Employee.company_name"
   ]
  },
  {
   "cell_type": "code",
   "execution_count": null,
   "id": "ef0449a4",
   "metadata": {},
   "outputs": [],
   "source": []
  },
  {
   "cell_type": "code",
   "execution_count": null,
   "id": "118cefbc",
   "metadata": {},
   "outputs": [],
   "source": []
  },
  {
   "cell_type": "code",
   "execution_count": 43,
   "id": "5a7d4f8b",
   "metadata": {},
   "outputs": [],
   "source": [
    "class Car:\n",
    "    base_price=100000 #class variable\n",
    "    \n",
    "    def __init__(self,model,brand):\n",
    "        self.model=model\n",
    "        self.brand=brand\n",
    "        \n",
    "    def display_price(self):\n",
    "        print(f\"The base price is {self.base_price}\")\n",
    "        \n",
    "    @classmethod\n",
    "    def update_base_price(cls,inflation):\n",
    "        cls.base_price=cls.base_price+(cls.base_price*(inflation/100))\n",
    "        \n",
    "#     @staticmethod\n",
    "#     def check_year(year):\n",
    "#         if year == 2024:\n",
    "#             return True\n",
    "#         else:\n",
    "#             return False\n",
    "        \n",
    "    @staticmethod\n",
    "    def display_base_price():\n",
    "        print(Car.base_price)"
   ]
  },
  {
   "cell_type": "code",
   "execution_count": 44,
   "id": "83c5460c",
   "metadata": {},
   "outputs": [
    {
     "name": "stdout",
     "output_type": "stream",
     "text": [
      "The base price is 100000\n"
     ]
    }
   ],
   "source": [
    "car1=Car(\"BMW\",\"EV\")\n",
    "car1.display_price()"
   ]
  },
  {
   "cell_type": "code",
   "execution_count": 45,
   "id": "5eb474e4",
   "metadata": {},
   "outputs": [
    {
     "data": {
      "text/plain": [
       "100000"
      ]
     },
     "execution_count": 45,
     "metadata": {},
     "output_type": "execute_result"
    }
   ],
   "source": [
    "# in year 2023\n",
    "Car.base_price"
   ]
  },
  {
   "cell_type": "code",
   "execution_count": 46,
   "id": "76f5fcbc",
   "metadata": {},
   "outputs": [],
   "source": [
    "Car.update_base_price(10)"
   ]
  },
  {
   "cell_type": "code",
   "execution_count": 47,
   "id": "12342349",
   "metadata": {},
   "outputs": [
    {
     "data": {
      "text/plain": [
       "110000.0"
      ]
     },
     "execution_count": 47,
     "metadata": {},
     "output_type": "execute_result"
    }
   ],
   "source": [
    "# in year 2024\n",
    "Car.base_price"
   ]
  },
  {
   "cell_type": "code",
   "execution_count": 41,
   "id": "d8472d0a",
   "metadata": {},
   "outputs": [
    {
     "name": "stdout",
     "output_type": "stream",
     "text": [
      "The base price is 110000.0\n"
     ]
    }
   ],
   "source": [
    "car1.display_price()"
   ]
  },
  {
   "cell_type": "code",
   "execution_count": 49,
   "id": "edbf941c",
   "metadata": {},
   "outputs": [
    {
     "name": "stdout",
     "output_type": "stream",
     "text": [
      "110000.0\n"
     ]
    }
   ],
   "source": [
    "#Car.check_year(2024)\n",
    "Car.display_base_price()"
   ]
  },
  {
   "cell_type": "markdown",
   "id": "4a934bd7",
   "metadata": {},
   "source": [
    "# Data class"
   ]
  },
  {
   "cell_type": "code",
   "execution_count": 50,
   "id": "af324bc9",
   "metadata": {},
   "outputs": [],
   "source": [
    "from dataclasses import dataclass\n",
    "@dataclass\n",
    "class Person:\n",
    "    fname:str\n",
    "    lname:str"
   ]
  },
  {
   "cell_type": "code",
   "execution_count": 51,
   "id": "4f22d294",
   "metadata": {},
   "outputs": [
    {
     "data": {
      "text/plain": [
       "'dfg'"
      ]
     },
     "execution_count": 51,
     "metadata": {},
     "output_type": "execute_result"
    }
   ],
   "source": [
    "person=Person(\"dfg\",\"fgh\")\n",
    "person.fname"
   ]
  },
  {
   "cell_type": "markdown",
   "id": "ed159f9f",
   "metadata": {},
   "source": [
    "# inside logic of decorator\n",
    "\n",
    "what is decorator? - Passing function as an argument. "
   ]
  },
  {
   "cell_type": "code",
   "execution_count": 78,
   "id": "0f107ff0",
   "metadata": {},
   "outputs": [],
   "source": [
    "def hello_decorator(func):\n",
    "    def inner(a,b):\n",
    "        print(\"before execution\")\n",
    "        value=func(a,b)\n",
    "        print(\"after function\")\n",
    "        return value\n",
    "    return inner"
   ]
  },
  {
   "cell_type": "code",
   "execution_count": 79,
   "id": "b561ebc5",
   "metadata": {},
   "outputs": [],
   "source": [
    "def sum_2_num(a,b):\n",
    "    print('inside this function')\n",
    "    return a + b"
   ]
  },
  {
   "cell_type": "code",
   "execution_count": 80,
   "id": "b3160d3b",
   "metadata": {},
   "outputs": [
    {
     "name": "stdout",
     "output_type": "stream",
     "text": [
      "inside this function\n"
     ]
    },
    {
     "data": {
      "text/plain": [
       "30"
      ]
     },
     "execution_count": 80,
     "metadata": {},
     "output_type": "execute_result"
    }
   ],
   "source": [
    "sum_2_num(10,20)"
   ]
  },
  {
   "cell_type": "code",
   "execution_count": 81,
   "id": "1ef09be4",
   "metadata": {},
   "outputs": [],
   "source": [
    "@hello_decorator\n",
    "def sum_2_num(a,b):\n",
    "    print('inside this function')\n",
    "    return a + b"
   ]
  },
  {
   "cell_type": "code",
   "execution_count": 82,
   "id": "50c80058",
   "metadata": {},
   "outputs": [
    {
     "name": "stdout",
     "output_type": "stream",
     "text": [
      "before execution\n",
      "inside this function\n",
      "after function\n"
     ]
    },
    {
     "data": {
      "text/plain": [
       "30"
      ]
     },
     "execution_count": 82,
     "metadata": {},
     "output_type": "execute_result"
    }
   ],
   "source": [
    "sum_2_num(10,20)"
   ]
  },
  {
   "cell_type": "code",
   "execution_count": 1,
   "id": "8fa96b5e",
   "metadata": {},
   "outputs": [],
   "source": [
    "# syntax of decorator\n",
    "\n",
    "def func1():\n",
    "    def func2():\n",
    "        return\n",
    "    return\n"
   ]
  },
  {
   "cell_type": "code",
   "execution_count": 2,
   "id": "7dc44ac8",
   "metadata": {},
   "outputs": [],
   "source": [
    "def create_add(x):\n",
    "    def add(y):\n",
    "        print (x+y)\n",
    "    return add\n",
    "        "
   ]
  },
  {
   "cell_type": "code",
   "execution_count": 6,
   "id": "41a23507",
   "metadata": {},
   "outputs": [],
   "source": [
    "var=create_add(10)"
   ]
  },
  {
   "cell_type": "code",
   "execution_count": 7,
   "id": "ec6b5853",
   "metadata": {},
   "outputs": [
    {
     "name": "stdout",
     "output_type": "stream",
     "text": [
      "30\n"
     ]
    }
   ],
   "source": [
    "var(20)"
   ]
  },
  {
   "cell_type": "code",
   "execution_count": 17,
   "id": "ca32f0b0",
   "metadata": {},
   "outputs": [
    {
     "data": {
      "text/plain": [
       "1691518078.1486113"
      ]
     },
     "execution_count": 17,
     "metadata": {},
     "output_type": "execute_result"
    }
   ],
   "source": [
    "import time\n",
    "time.time()"
   ]
  },
  {
   "cell_type": "code",
   "execution_count": 27,
   "id": "2ff019e5",
   "metadata": {},
   "outputs": [],
   "source": [
    "# another example\n",
    "import time\n",
    "def calculate_time(func):\n",
    "    def inner(num):\n",
    "        begin=time.time()\n",
    "        func(num)\n",
    "        end=time.time()\n",
    "        print(\"total time taken\",end-begin)\n",
    "    return inner"
   ]
  },
  {
   "cell_type": "code",
   "execution_count": 32,
   "id": "4622dad6",
   "metadata": {},
   "outputs": [],
   "source": [
    "import math\n",
    "@calculate_time\n",
    "def factorial(num):\n",
    "    time.sleep(2)\n",
    "    print(math.factorial(num))\n"
   ]
  },
  {
   "cell_type": "code",
   "execution_count": 34,
   "id": "71dfdc47",
   "metadata": {},
   "outputs": [
    {
     "name": "stdout",
     "output_type": "stream",
     "text": [
      "961446671503512660926865558697259548455355905059659464369444714048531715130254590603314961882364451384985595980362059157503710042865532928000000000000000000000000\n",
      "total time taken 2.0006871223449707\n"
     ]
    }
   ],
   "source": [
    "factorial(102)"
   ]
  },
  {
   "cell_type": "markdown",
   "id": "a8fb87fc",
   "metadata": {},
   "source": [
    "# Encapsulation and abstraction"
   ]
  },
  {
   "cell_type": "code",
   "execution_count": 39,
   "id": "27820495",
   "metadata": {},
   "outputs": [],
   "source": [
    "class emp:\n",
    "    def __init__(self):\n",
    "        self.age=25\n",
    "        self.name=\"sunny\"\n",
    "        self.salary=15000.0\n",
    "        print(\"object initialized\")"
   ]
  },
  {
   "cell_type": "code",
   "execution_count": 41,
   "id": "8525e1b5",
   "metadata": {},
   "outputs": [
    {
     "name": "stdout",
     "output_type": "stream",
     "text": [
      "object initialized\n"
     ]
    }
   ],
   "source": [
    "e=emp()"
   ]
  },
  {
   "cell_type": "code",
   "execution_count": 42,
   "id": "c775c03e",
   "metadata": {},
   "outputs": [
    {
     "data": {
      "text/plain": [
       "25"
      ]
     },
     "execution_count": 42,
     "metadata": {},
     "output_type": "execute_result"
    }
   ],
   "source": [
    "e.age"
   ]
  },
  {
   "cell_type": "code",
   "execution_count": 43,
   "id": "400e6185",
   "metadata": {},
   "outputs": [],
   "source": [
    "# format specifier or access modifier\n",
    "# private \n",
    "# public\n",
    "# protected "
   ]
  },
  {
   "cell_type": "code",
   "execution_count": 64,
   "id": "36f09159",
   "metadata": {},
   "outputs": [],
   "source": [
    "class emp:\n",
    "    def __init__(self):\n",
    "        self.age=25\n",
    "        self.name=\"sunny\"\n",
    "        self.__salary=15000.0\n",
    "        print(\"object initialized\")\n",
    "    def show(self):\n",
    "        print(\"age\", self.age, \"self.name\", \"salary\",self.__salary)"
   ]
  },
  {
   "cell_type": "code",
   "execution_count": 65,
   "id": "1a56404d",
   "metadata": {},
   "outputs": [
    {
     "name": "stdout",
     "output_type": "stream",
     "text": [
      "object initialized\n"
     ]
    }
   ],
   "source": [
    "sunny=emp()"
   ]
  },
  {
   "cell_type": "code",
   "execution_count": 66,
   "id": "57b847a2",
   "metadata": {},
   "outputs": [
    {
     "data": {
      "text/plain": [
       "25"
      ]
     },
     "execution_count": 66,
     "metadata": {},
     "output_type": "execute_result"
    }
   ],
   "source": [
    "sunny.age"
   ]
  },
  {
   "cell_type": "code",
   "execution_count": 67,
   "id": "29867771",
   "metadata": {},
   "outputs": [
    {
     "ename": "AttributeError",
     "evalue": "'emp' object has no attribute 'salary'",
     "output_type": "error",
     "traceback": [
      "\u001b[1;31m---------------------------------------------------------------------------\u001b[0m",
      "\u001b[1;31mAttributeError\u001b[0m                            Traceback (most recent call last)",
      "Cell \u001b[1;32mIn[67], line 1\u001b[0m\n\u001b[1;32m----> 1\u001b[0m sunny\u001b[38;5;241m.\u001b[39msalary\n",
      "\u001b[1;31mAttributeError\u001b[0m: 'emp' object has no attribute 'salary'"
     ]
    }
   ],
   "source": [
    "sunny.salary"
   ]
  },
  {
   "cell_type": "code",
   "execution_count": 68,
   "id": "433b870b",
   "metadata": {},
   "outputs": [
    {
     "name": "stdout",
     "output_type": "stream",
     "text": [
      "age 25 self.name salary 15000.0\n"
     ]
    }
   ],
   "source": [
    "sunny.show()"
   ]
  },
  {
   "cell_type": "markdown",
   "id": "4536828f",
   "metadata": {},
   "source": [
    "# why python is not a fuly oop?\n",
    "\n",
    "-- because it is not fully secured. \n",
    "\n",
    "-- when we secure a variable inside a class, it can still be accessed outside the class. \n",
    "\n",
    "-- it only masks the variable/method name by adding prefix of it's class name. "
   ]
  },
  {
   "cell_type": "code",
   "execution_count": 74,
   "id": "60d51722",
   "metadata": {},
   "outputs": [
    {
     "ename": "AttributeError",
     "evalue": "'emp' object has no attribute '__salary'",
     "output_type": "error",
     "traceback": [
      "\u001b[1;31m---------------------------------------------------------------------------\u001b[0m",
      "\u001b[1;31mAttributeError\u001b[0m                            Traceback (most recent call last)",
      "Cell \u001b[1;32mIn[74], line 1\u001b[0m\n\u001b[1;32m----> 1\u001b[0m sunny\u001b[38;5;241m.\u001b[39m__salary\n",
      "\u001b[1;31mAttributeError\u001b[0m: 'emp' object has no attribute '__salary'"
     ]
    }
   ],
   "source": [
    "sunny.__salary\n",
    "# directly not accessable"
   ]
  },
  {
   "cell_type": "code",
   "execution_count": 75,
   "id": "b3bd0e94",
   "metadata": {},
   "outputs": [
    {
     "data": {
      "text/plain": [
       "15000.0"
      ]
     },
     "execution_count": 75,
     "metadata": {},
     "output_type": "execute_result"
    }
   ],
   "source": [
    "sunny._emp__salary # secured variable can still be accessed. "
   ]
  },
  {
   "cell_type": "markdown",
   "id": "12f3c07a",
   "metadata": {},
   "source": [
    "Setting attribute methods"
   ]
  },
  {
   "cell_type": "code",
   "execution_count": 77,
   "id": "629ee74d",
   "metadata": {},
   "outputs": [],
   "source": [
    "class data:\n",
    "    pass"
   ]
  },
  {
   "cell_type": "code",
   "execution_count": 78,
   "id": "baafbcb5",
   "metadata": {},
   "outputs": [],
   "source": [
    "d=data()"
   ]
  },
  {
   "cell_type": "code",
   "execution_count": 79,
   "id": "358949f7",
   "metadata": {},
   "outputs": [],
   "source": [
    "d.id=10"
   ]
  },
  {
   "cell_type": "code",
   "execution_count": 80,
   "id": "ebd0b760",
   "metadata": {},
   "outputs": [
    {
     "data": {
      "text/plain": [
       "10"
      ]
     },
     "execution_count": 80,
     "metadata": {},
     "output_type": "execute_result"
    }
   ],
   "source": [
    "d.id"
   ]
  },
  {
   "cell_type": "code",
   "execution_count": 82,
   "id": "5d359f5f",
   "metadata": {},
   "outputs": [],
   "source": [
    "setattr(d,\"id\",20)"
   ]
  },
  {
   "cell_type": "code",
   "execution_count": 83,
   "id": "3e9af7d2",
   "metadata": {},
   "outputs": [
    {
     "data": {
      "text/plain": [
       "20"
      ]
     },
     "execution_count": 83,
     "metadata": {},
     "output_type": "execute_result"
    }
   ],
   "source": [
    "d.id"
   ]
  },
  {
   "cell_type": "code",
   "execution_count": 86,
   "id": "79de4cb0",
   "metadata": {},
   "outputs": [
    {
     "name": "stdout",
     "output_type": "stream",
     "text": [
      "enter attribute name:\n",
      "Name\n",
      "enter attribute value:\n",
      "dharani\n",
      "attribute value: dharani\n"
     ]
    }
   ],
   "source": [
    "attr_name=input(\"enter attribute name:\\n\")\n",
    "attr_value=input(\"enter attribute value:\\n\")\n",
    "setattr(d,attr_name,attr_value)\n",
    "print(\"attribute value:\",getattr(d,attr_name))"
   ]
  },
  {
   "cell_type": "code",
   "execution_count": 101,
   "id": "2a32b8f1",
   "metadata": {},
   "outputs": [],
   "source": [
    "# delete an object\n",
    "\n",
    "class test:\n",
    "    def __init__(self):\n",
    "        print(\"obj created\")\n",
    "    def __del__(self):\n",
    "        print(\"obj deleted\")"
   ]
  },
  {
   "cell_type": "code",
   "execution_count": 102,
   "id": "2196e331",
   "metadata": {},
   "outputs": [
    {
     "name": "stdout",
     "output_type": "stream",
     "text": [
      "obj created\n"
     ]
    }
   ],
   "source": [
    "obj=test()"
   ]
  },
  {
   "cell_type": "code",
   "execution_count": 103,
   "id": "03f40818",
   "metadata": {},
   "outputs": [
    {
     "name": "stdout",
     "output_type": "stream",
     "text": [
      "obj deleted\n"
     ]
    }
   ],
   "source": [
    "del obj"
   ]
  },
  {
   "cell_type": "code",
   "execution_count": 104,
   "id": "eee8e110",
   "metadata": {},
   "outputs": [],
   "source": [
    "class test:\n",
    "    def __init__(self):\n",
    "        print(\"obj created\")\n",
    "    def __del__(self):\n",
    "        print(\"obj deleted\")"
   ]
  },
  {
   "cell_type": "code",
   "execution_count": 106,
   "id": "5a3d32ad",
   "metadata": {},
   "outputs": [
    {
     "name": "stdout",
     "output_type": "stream",
     "text": [
      "obj created\n",
      "obj deleted\n"
     ]
    }
   ],
   "source": [
    "obj=test()"
   ]
  },
  {
   "cell_type": "markdown",
   "id": "9e507bf2",
   "metadata": {},
   "source": [
    "# Abstract class \n",
    "\n",
    "-- hiding backend functionality and dealing with front functionality\n",
    "\n",
    "two types of class methods:\n",
    "\n",
    "1. Concrete methods = instance method, class method and static methods etc\n",
    "2. abstract class= @abstractmethod\n",
    "\n",
    "* we need to inherit it from abc module and atleast one method should be an abstract class in class if that class wants to be called as abstract class."
   ]
  },
  {
   "cell_type": "code",
   "execution_count": 107,
   "id": "5fbcfcf0",
   "metadata": {},
   "outputs": [],
   "source": [
    "from abc import ABC, abstractmethod\n",
    "class test1(ABC):\n",
    "    @abstractmethod\n",
    "    def demo():\n",
    "        pass\n",
    "class test2(test1):\n",
    "    def demo2():\n",
    "        pass"
   ]
  },
  {
   "cell_type": "code",
   "execution_count": 115,
   "id": "adb10525",
   "metadata": {},
   "outputs": [],
   "source": [
    "from abc import ABC, abstractmethod\n",
    "class bankapp(ABC):\n",
    "    def databse(self):\n",
    "        pass\n",
    "    @abstractmethod\n",
    "    def security(self):\n",
    "        pass"
   ]
  },
  {
   "cell_type": "code",
   "execution_count": 116,
   "id": "5a386cf8",
   "metadata": {},
   "outputs": [],
   "source": [
    "class mobileapp(bankapp):\n",
    "    def mobile_login(self):\n",
    "        print(\"logged in the mobile\")"
   ]
  },
  {
   "cell_type": "code",
   "execution_count": 118,
   "id": "cae34365",
   "metadata": {},
   "outputs": [
    {
     "ename": "TypeError",
     "evalue": "Can't instantiate abstract class mobileapp with abstract method security",
     "output_type": "error",
     "traceback": [
      "\u001b[1;31m---------------------------------------------------------------------------\u001b[0m",
      "\u001b[1;31mTypeError\u001b[0m                                 Traceback (most recent call last)",
      "Cell \u001b[1;32mIn[118], line 1\u001b[0m\n\u001b[1;32m----> 1\u001b[0m oobj\u001b[38;5;241m=\u001b[39mmobileapp()\n",
      "\u001b[1;31mTypeError\u001b[0m: Can't instantiate abstract class mobileapp with abstract method security"
     ]
    }
   ],
   "source": [
    "oobj=mobileapp() # this cannot be created because of constraint(apply abstract method for obj to create.until and unless, it won't create)"
   ]
  },
  {
   "cell_type": "markdown",
   "id": "03d6b6fa",
   "metadata": {},
   "source": [
    "whenever we wat to create obj of a child class, there should be all the abstract methods included which are in the parent. \n",
    "(these are called as constraints)"
   ]
  },
  {
   "cell_type": "code",
   "execution_count": 125,
   "id": "a74cd089",
   "metadata": {},
   "outputs": [],
   "source": [
    "from abc import ABC, abstractmethod\n",
    "class bankapp(ABC):\n",
    "    def databse(self):\n",
    "        pass\n",
    "    @abstractmethod\n",
    "    def security(self):\n",
    "        pass\n",
    "    @abstractmethod\n",
    "    def display(self):\n",
    "        pass"
   ]
  },
  {
   "cell_type": "code",
   "execution_count": 128,
   "id": "26b1dc41",
   "metadata": {},
   "outputs": [],
   "source": [
    "class mobileapp(bankapp):\n",
    "    def mobile_login(self):\n",
    "        print(\"logged in the mobile\")\n",
    "    def security(self):\n",
    "        print(\"mobile security\")\n",
    "    def display(self):\n",
    "        print(\"displayed\")"
   ]
  },
  {
   "cell_type": "code",
   "execution_count": 129,
   "id": "c71ffa71",
   "metadata": {},
   "outputs": [],
   "source": [
    "oobj=mobileapp()"
   ]
  },
  {
   "cell_type": "code",
   "execution_count": 130,
   "id": "413d501b",
   "metadata": {},
   "outputs": [
    {
     "name": "stdout",
     "output_type": "stream",
     "text": [
      "mobile security\n"
     ]
    }
   ],
   "source": [
    "oobj.security()"
   ]
  },
  {
   "cell_type": "code",
   "execution_count": 131,
   "id": "a28635af",
   "metadata": {},
   "outputs": [
    {
     "name": "stdout",
     "output_type": "stream",
     "text": [
      "displayed\n"
     ]
    }
   ],
   "source": [
    "oobj.display()"
   ]
  },
  {
   "cell_type": "code",
   "execution_count": null,
   "id": "27dc4352",
   "metadata": {},
   "outputs": [],
   "source": []
  }
 ],
 "metadata": {
  "kernelspec": {
   "display_name": "Python 3 (ipykernel)",
   "language": "python",
   "name": "python3"
  },
  "language_info": {
   "codemirror_mode": {
    "name": "ipython",
    "version": 3
   },
   "file_extension": ".py",
   "mimetype": "text/x-python",
   "name": "python",
   "nbconvert_exporter": "python",
   "pygments_lexer": "ipython3",
   "version": "3.11.3"
  }
 },
 "nbformat": 4,
 "nbformat_minor": 5
}
