{
 "cells": [
  {
   "cell_type": "markdown",
   "id": "f187005a",
   "metadata": {},
   "source": [
    "# Keywords\n",
    "--Reserved words, Immutable, Built-in"
   ]
  },
  {
   "cell_type": "code",
   "execution_count": 1,
   "id": "17ef6017",
   "metadata": {},
   "outputs": [
    {
     "name": "stdout",
     "output_type": "stream",
     "text": [
      "['False', 'None', 'True', 'and', 'as', 'assert', 'async', 'await', 'break', 'class', 'continue', 'def', 'del', 'elif', 'else', 'except', 'finally', 'for', 'from', 'global', 'if', 'import', 'in', 'is', 'lambda', 'nonlocal', 'not', 'or', 'pass', 'raise', 'return', 'try', 'while', 'with', 'yield']\n"
     ]
    }
   ],
   "source": [
    "import keyword\n",
    "print(keyword.kwlist)"
   ]
  },
  {
   "cell_type": "markdown",
   "id": "3c12d04d",
   "metadata": {},
   "source": [
    "# Identifiers\n",
    "-- Name we give for a variable, function, class, module or any other objects.\n",
    "\n",
    "-- can start with alphabets, underscore, double underscore(strictly private), but not with digits and special characters."
   ]
  },
  {
   "cell_type": "markdown",
   "id": "18ac00d2",
   "metadata": {},
   "source": [
    "# Comments \n",
    "-- Describe what is written in code or in that exact line.\n",
    "\n",
    "# Docstring \n",
    "-- Multiple line Comments"
   ]
  },
  {
   "cell_type": "code",
   "execution_count": 2,
   "id": "673d0b5e",
   "metadata": {},
   "outputs": [
    {
     "name": "stdout",
     "output_type": "stream",
     "text": [
      "5\n"
     ]
    }
   ],
   "source": [
    "#Add 2  numbers\n",
    "a = 2 \n",
    "b = 3\n",
    "c = a + b # sum in c variable\n",
    "print(c) #printing sum"
   ]
  },
  {
   "cell_type": "code",
   "execution_count": 4,
   "id": "fc5d88d8",
   "metadata": {},
   "outputs": [],
   "source": [
    "def add_num(a,b):\n",
    "    \"\"\"\n",
    "    lorem epsum\n",
    "    edrecxedc\n",
    "    ecerfd\n",
    "    \"\"\"\n",
    "    return a + b\n"
   ]
  },
  {
   "cell_type": "code",
   "execution_count": 8,
   "id": "f2dcc5bd",
   "metadata": {},
   "outputs": [
    {
     "name": "stdout",
     "output_type": "stream",
     "text": [
      "\n",
      "    lorem epsum\n",
      "    edrecxedc\n",
      "    ecerfd\n",
      "    \n"
     ]
    }
   ],
   "source": [
    "#Printing doc which is in the defined function above\n",
    "print(add_num.__doc__)"
   ]
  },
  {
   "cell_type": "markdown",
   "id": "6a3a500b",
   "metadata": {},
   "source": [
    "# Indentation\n",
    "-- Structures the block of code\n",
    "\n",
    "-- It is also part of syntax"
   ]
  },
  {
   "cell_type": "code",
   "execution_count": 11,
   "id": "6d37e453",
   "metadata": {},
   "outputs": [
    {
     "name": "stdout",
     "output_type": "stream",
     "text": [
      "This is True\n",
      "0\n",
      "1\n",
      "2\n",
      "Hello, World\n",
      "None\n"
     ]
    }
   ],
   "source": [
    "if True:\n",
    "    print(\"This is True\")\n",
    "    \n",
    "for i in range(3):\n",
    "    print(i)\n",
    "    \n",
    "def hello():\n",
    "    print(\"Hello, World\")\n",
    "print(hello())\n",
    "    \n",
    "while False:\n",
    "    Print(\"This won't print\")"
   ]
  },
  {
   "cell_type": "markdown",
   "id": "09c3be10",
   "metadata": {},
   "source": [
    "# Statements\n",
    "-- Logical instruction that python interpreter can read and execute.\n",
    "\n",
    "-- Types: Assignment statement, Conditional and looping statement."
   ]
  },
  {
   "cell_type": "code",
   "execution_count": 12,
   "id": "4662d2a8",
   "metadata": {},
   "outputs": [
    {
     "name": "stdout",
     "output_type": "stream",
     "text": [
      "Positive Number\n"
     ]
    }
   ],
   "source": [
    "# Conditional statement\n",
    "x = 2\n",
    "if x > 0:\n",
    "    print(\"Positive Number\")"
   ]
  },
  {
   "cell_type": "markdown",
   "id": "c8c8e8fc",
   "metadata": {},
   "source": [
    "# Multiline Statement\n",
    "--we can divide long line with come symbols which will hold the original single line structure only\n",
    "\n",
    "--by using some characters like \"\\\", \"()\", \"[]\", \"{}\" or strings.\n",
    "\n",
    "-- We can even write multiple statements in single line using semicolons \";\"."
   ]
  },
  {
   "cell_type": "code",
   "execution_count": 14,
   "id": "9f7d7b7e",
   "metadata": {},
   "outputs": [
    {
     "name": "stdout",
     "output_type": "stream",
     "text": [
      "23\n"
     ]
    }
   ],
   "source": [
    "s = (1+2+3+4\n",
    "     +5+3+3+2)\n",
    "print(s)"
   ]
  },
  {
   "cell_type": "markdown",
   "id": "fe475adc",
   "metadata": {},
   "source": [
    "# Variable\n",
    "-- name of a container for storing data values.\n",
    "\n",
    "or\n",
    "\n",
    "-- Named location which holds value. "
   ]
  },
  {
   "cell_type": "code",
   "execution_count": 15,
   "id": "d772921e",
   "metadata": {},
   "outputs": [],
   "source": [
    "a = 5"
   ]
  },
  {
   "cell_type": "markdown",
   "id": "83615ab4",
   "metadata": {},
   "source": [
    "Dynamic Typing: Where we can change data type of a variable anywhere and anyhow we want"
   ]
  },
  {
   "cell_type": "code",
   "execution_count": 17,
   "id": "9f2eb95b",
   "metadata": {},
   "outputs": [
    {
     "name": "stdout",
     "output_type": "stream",
     "text": [
      "<class 'float'>\n",
      "<class 'int'>\n"
     ]
    }
   ],
   "source": [
    "a = 2.3\n",
    "print(type(a))\n",
    "\n",
    "a = 2\n",
    "print(type(a))"
   ]
  },
  {
   "cell_type": "markdown",
   "id": "45417dfa",
   "metadata": {},
   "source": [
    "# Data types in Python\n",
    "\n",
    "Integer - whole numbers, without decimal point, they can be positive or negative\n",
    "\n",
    "Floats - Real numbers and written in decimal points \n",
    "\n",
    "Strings - Sequences of character data quoted by double quotes\n",
    "\n",
    "List\n",
    "\n",
    "Tuple"
   ]
  },
  {
   "cell_type": "code",
   "execution_count": 18,
   "id": "c11b4ba9",
   "metadata": {},
   "outputs": [],
   "source": [
    "a = 2\n",
    "b = 2.0\n",
    "string_example = \"it's String\""
   ]
  },
  {
   "cell_type": "markdown",
   "id": "a7fc103a",
   "metadata": {},
   "source": [
    "# Lists\n",
    "-- Ordered collection which is enclosed in square brackets.\n",
    "\n",
    "-- similar to arrays in other languages but with additional functionalities.\n",
    "\n",
    "-- Mutale.\n",
    "\n",
    "-- Created by placing elements inside \"[]\" brackets.\n",
    "\n",
    "-- Heterogeneous Elements: List can contain elements of different data types.\n",
    "\n",
    "-- Indexing and Slicing can be performed on lists to access or modify elements."
   ]
  },
  {
   "cell_type": "code",
   "execution_count": 19,
   "id": "038faf15",
   "metadata": {},
   "outputs": [
    {
     "name": "stdout",
     "output_type": "stream",
     "text": [
      "['Apples', 1, ['List in list']]\n"
     ]
    }
   ],
   "source": [
    "fruits = [\"Apples\", 1, [\"List in list\"]]\n",
    "print(fruits)"
   ]
  },
  {
   "cell_type": "markdown",
   "id": "82e587a8",
   "metadata": {},
   "source": [
    "# Tuple\n",
    "-- Similar to list.\n",
    "\n",
    "-- Immutable\n",
    "\n",
    "-- enclosed in \"()\"\n",
    "\n",
    "-- Heterogeneous elements supported\n",
    "\n",
    "-- Indexing and Slicing can be performed to access data but cannot be modified."
   ]
  },
  {
   "cell_type": "code",
   "execution_count": 20,
   "id": "7b0b9b33",
   "metadata": {},
   "outputs": [
    {
     "name": "stdout",
     "output_type": "stream",
     "text": [
      "(1, 2, 3, 4)\n"
     ]
    }
   ],
   "source": [
    "my_tuple = (1,2,3,4)\n",
    "print(my_tuple)"
   ]
  },
  {
   "cell_type": "markdown",
   "id": "c010abcb",
   "metadata": {},
   "source": [
    "# Dictionaries\n",
    "-- Unordered collection\n",
    "\n",
    "-- key value pairs - item stored in key and value format\n",
    "\n",
    "--Mutable\n",
    "\n",
    "--Adding elements in form of key-value pairs under \"{}\".\n",
    "\n",
    "--key value pairs are made up with \":\" between them for assigning value for the key.\n",
    "\n",
    "--Heterogeneous elements supported"
   ]
  },
  {
   "cell_type": "markdown",
   "id": "d5b88919",
   "metadata": {},
   "source": [
    "# FOR LOOP"
   ]
  },
  {
   "cell_type": "code",
   "execution_count": 4,
   "id": "14c90ad6",
   "metadata": {},
   "outputs": [
    {
     "name": "stdout",
     "output_type": "stream",
     "text": [
      "* \n",
      "* * \n",
      "* * * \n",
      "* * * * \n",
      "* * * * * \n"
     ]
    }
   ],
   "source": [
    "# *\n",
    "# * *\n",
    "# * * *\n",
    "# * * * *\n",
    "# * * * * *\n",
    "\n",
    "rows = 5\n",
    "    \n",
    "for i in range(rows):\n",
    "    for j in range(i+1):\n",
    "        print(\"*\", end=\" \")\n",
    "    print()"
   ]
  },
  {
   "cell_type": "markdown",
   "id": "383c7693",
   "metadata": {},
   "source": [
    "# WHILE LOOP "
   ]
  },
  {
   "cell_type": "code",
   "execution_count": 5,
   "id": "bbbcdc9a",
   "metadata": {},
   "outputs": [
    {
     "name": "stdout",
     "output_type": "stream",
     "text": [
      "1\n",
      "2\n",
      "3\n",
      "4\n",
      "5\n"
     ]
    }
   ],
   "source": [
    "count = 1\n",
    "while count <= 5:\n",
    "    print(count)\n",
    "    count += 1"
   ]
  },
  {
   "cell_type": "code",
   "execution_count": 9,
   "id": "c3249061",
   "metadata": {},
   "outputs": [
    {
     "name": "stdout",
     "output_type": "stream",
     "text": [
      "enter a word (quit or continue):dcxwyghxc\n",
      "you entered dcxwyghxc\n",
      "enter a word (quit or continue):cedhcgvgd\n",
      "you entered cedhcgvgd\n",
      "enter a word (quit or continue):quit\n",
      "you entered quit\n"
     ]
    }
   ],
   "source": [
    "text = \"\"\n",
    "while text != \"quit\":\n",
    "    text = input(\"enter a word (quit or continue):\")\n",
    "    print(\"you entered\", text)"
   ]
  },
  {
   "cell_type": "code",
   "execution_count": 16,
   "id": "efa41f30",
   "metadata": {},
   "outputs": [
    {
     "name": "stdout",
     "output_type": "stream",
     "text": [
      "updated salary is: [45, 55, 32, 45.15]\n"
     ]
    }
   ],
   "source": [
    "names = [\"alice\", \"tom\", \"bane\", \"julie\"]\n",
    "salary = [45, 55, 32, 43]\n",
    "\n",
    "for i in range(len(names)):\n",
    "    if nm[i] == \"julie\":\n",
    "        increment = salary[i]*0.05\n",
    "        salary[i] += increment\n",
    "    \n",
    "print(\"updated salary is:\", salary)\n"
   ]
  },
  {
   "cell_type": "code",
   "execution_count": null,
   "id": "c63a3841",
   "metadata": {},
   "outputs": [],
   "source": []
  },
  {
   "cell_type": "code",
   "execution_count": null,
   "id": "f4f0dee4",
   "metadata": {},
   "outputs": [],
   "source": []
  }
 ],
 "metadata": {
  "kernelspec": {
   "display_name": "Python 3 (ipykernel)",
   "language": "python",
   "name": "python3"
  },
  "language_info": {
   "codemirror_mode": {
    "name": "ipython",
    "version": 3
   },
   "file_extension": ".py",
   "mimetype": "text/x-python",
   "name": "python",
   "nbconvert_exporter": "python",
   "pygments_lexer": "ipython3",
   "version": "3.11.3"
  }
 },
 "nbformat": 4,
 "nbformat_minor": 5
}
