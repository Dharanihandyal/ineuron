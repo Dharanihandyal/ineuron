{
 "cells": [
  {
   "cell_type": "markdown",
   "id": "01e61d5f",
   "metadata": {},
   "source": [
    "# User defined exceptions"
   ]
  },
  {
   "cell_type": "code",
   "execution_count": null,
   "id": "3be67c14",
   "metadata": {},
   "outputs": [],
   "source": [
    "class MyCustomerError(Exception):\n",
    "    pass"
   ]
  },
  {
   "cell_type": "code",
   "execution_count": null,
   "id": "bd0da97b",
   "metadata": {},
   "outputs": [],
   "source": [
    "raise MyCustomerError(\"This is my customer exception\")"
   ]
  },
  {
   "cell_type": "code",
   "execution_count": 1,
   "id": "a0203d58",
   "metadata": {},
   "outputs": [],
   "source": [
    "#standard format\n",
    "class wrongage(Exception):\n",
    "    \"Raised when input age is less than 18\"\n",
    "    pass #indicates class is empty(no methods or properties) / act as placeholder"
   ]
  },
  {
   "cell_type": "code",
   "execution_count": 5,
   "id": "32d9317b",
   "metadata": {},
   "outputs": [
    {
     "name": "stdout",
     "output_type": "stream",
     "text": [
      "Enter age:18\n",
      "you can vote\n"
     ]
    }
   ],
   "source": [
    "#if condition is true, it goes to else statement.\n",
    "# if it fails, it calls wrongage which leads to \"except wrongage\" statement\n",
    "n = 18\n",
    "try:\n",
    "    input_num = int(input(\"Enter age:\"))\n",
    "    if input_num < n:\n",
    "        raise wrongage # calling our exception\n",
    "    else:\n",
    "        print(\"you can vote\")\n",
    "except wrongage:\n",
    "    print(\"you cannot vote\")"
   ]
  },
  {
   "cell_type": "markdown",
   "id": "1f96f55f",
   "metadata": {},
   "source": [
    "# Logging\n",
    "\n",
    "-- which tracks the events of the program flow and saves it as a file also"
   ]
  },
  {
   "cell_type": "code",
   "execution_count": null,
   "id": "a4c18523",
   "metadata": {},
   "outputs": [],
   "source": [
    "import logging\n",
    "\n",
    "# these events are written in severity of the danger\n",
    "#debug - Detailed information, typically of interest only when diagnosing problems.\n",
    "#info - Confirmation that things are working as expected.\n",
    "#waning - An indication that something unexpected happened, or indicative of some problem in the near future (e.g. ‘disk space low’). The software is still working as expected.\n",
    "#error - Due to a more serious problem, the software has not been able to perform some function.\n",
    "#critical error - A serious error, indicating that the program itself may be unable to continue running.\n",
    "\n",
    "logging.basicConfig(level=logging.DEBUG) # standrad syntax\n",
    "# debug and info used to report events even for normal operations\n",
    "logging.debug(\" this is a debug message\") # messages we want to see when we dubug\n",
    "logging.info(\" this is a info message\") # messages we like to see even if program is in it's best state\n",
    "logging.warning(\" this is a warning message\")\n",
    "logging.error(\" this is a error message\")\n",
    "logging.critical(\" this is a critical message\")"
   ]
  },
  {
   "cell_type": "code",
   "execution_count": 6,
   "id": "637c9723",
   "metadata": {},
   "outputs": [
    {
     "name": "stderr",
     "output_type": "stream",
     "text": [
      "DEBUG:root:variables are 2 and 3\n"
     ]
    },
    {
     "data": {
      "text/plain": [
       "5"
      ]
     },
     "execution_count": 6,
     "metadata": {},
     "output_type": "execute_result"
    }
   ],
   "source": [
    "import logging\n",
    "logging.basicConfig(level=logging.DEBUG) # standrad syntax\n",
    "\n",
    "def add(x, y):\n",
    "    logging.debug(\"variables are %s and %s\", x, y)\n",
    "    return x + y\n",
    "add(2,3)\n"
   ]
  },
  {
   "cell_type": "code",
   "execution_count": 8,
   "id": "6c75e57f",
   "metadata": {},
   "outputs": [
    {
     "name": "stderr",
     "output_type": "stream",
     "text": [
      "INFO:root:user name is Admin\n"
     ]
    }
   ],
   "source": [
    "import logging\n",
    "logging.basicConfig(level=logging.DEBUG) # standrad syntax\n",
    "\n",
    "def login123(user):\n",
    "    logging.info(\"user name is %s\", user)\n",
    "\n",
    "login123(\"Admin\")\n"
   ]
  },
  {
   "cell_type": "code",
   "execution_count": 11,
   "id": "4c75bbc7",
   "metadata": {},
   "outputs": [
    {
     "name": "stderr",
     "output_type": "stream",
     "text": [
      "WARNING:root:sorry you have low balance, your balance is 30000: \n"
     ]
    }
   ],
   "source": [
    "import logging\n",
    "logging.basicConfig(level=logging.DEBUG) # standrad syntax\n",
    "\n",
    "def mybalance(amount):\n",
    "    if amount < 40000:\n",
    "        logging.warning(\"sorry you have low balance, your balance is %s: \", amount)\n",
    "\n",
    "mybalance(30000)"
   ]
  },
  {
   "cell_type": "code",
   "execution_count": 14,
   "id": "6ce20139",
   "metadata": {},
   "outputs": [
    {
     "name": "stderr",
     "output_type": "stream",
     "text": [
      "ERROR:root:division bye zero \n"
     ]
    }
   ],
   "source": [
    "import logging\n",
    "logging.basicConfig(level=logging.DEBUG) # standrad syntax\n",
    "\n",
    "def devidebyzero(n,d):\n",
    "    try:\n",
    "        results = n / d\n",
    "    except ZeroDivisionError:\n",
    "        logging.error(\"division bye zero \")\n",
    "    else:\n",
    "        print(results)\n",
    "\n",
    "\n",
    "devidebyzero(5,0)"
   ]
  },
  {
   "cell_type": "code",
   "execution_count": 15,
   "id": "83885ebf",
   "metadata": {},
   "outputs": [
    {
     "name": "stderr",
     "output_type": "stream",
     "text": [
      "CRITICAL:root:system failed to boot: You need to handle this issue\n"
     ]
    }
   ],
   "source": [
    "import logging\n",
    "logging.basicConfig(level=logging.DEBUG) # standrad syntax\n",
    "\n",
    "def letuschecksystem(sys):\n",
    "    if sys != 'OK':\n",
    "        logging.critical(\"system failed to boot: %s\", sys)\n",
    "\n",
    "letuschecksystem(\"You need to handle this issue\")"
   ]
  },
  {
   "cell_type": "markdown",
   "id": "21e0ee06",
   "metadata": {},
   "source": [
    "# Saving logs"
   ]
  },
  {
   "cell_type": "code",
   "execution_count": 17,
   "id": "7ff70338",
   "metadata": {},
   "outputs": [
    {
     "name": "stdout",
     "output_type": "stream",
     "text": [
      "C:\\Users\\HDHARANI\\Desktop\\PythonBasics_in\n"
     ]
    }
   ],
   "source": [
    "import os\n",
    "print(os.getcwd())"
   ]
  },
  {
   "cell_type": "code",
   "execution_count": 19,
   "id": "7f106ddd",
   "metadata": {},
   "outputs": [
    {
     "name": "stderr",
     "output_type": "stream",
     "text": [
      "CRITICAL:root:system failed to boot: You need to handle this issue\n"
     ]
    }
   ],
   "source": [
    "import logging\n",
    "dir_path = r'C:\\Users\\HDHARANI\\Desktop\\PythonBasics_in'\n",
    "log_file = 'system.txt'\n",
    "full_path = os.path.join(dir_path,log_file)\n",
    "\n",
    "#check if dir_path folder exists or not, if not, it makes one\n",
    "os.makedirs(dir_path, exist_ok=True)\n",
    "\n",
    "#fetches root logger into action\n",
    "logger = logging.getLogger() #calling logger\n",
    "logger.setLevel(logging.CRITICAL) # setting level\n",
    "\n",
    "#file handler\n",
    "handler = logging.FileHandler(full_path)\n",
    "\n",
    "# specifying what format we need logs to store\n",
    "handler.setFormatter(logging.Formatter('%(asctime)s:%(levelname)s:%(message)s'))\n",
    "\n",
    "logger.addHandler(handler)\n",
    "def letuschecksystem(sys):\n",
    "    if sys != 'OK':\n",
    "        logging.critical(\"system failed to boot: %s\", sys)\n",
    "\n",
    "letuschecksystem(\"You need to handle this issue\")"
   ]
  },
  {
   "cell_type": "code",
   "execution_count": null,
   "id": "26643b0b",
   "metadata": {},
   "outputs": [],
   "source": []
  }
 ],
 "metadata": {
  "kernelspec": {
   "display_name": "Python 3 (ipykernel)",
   "language": "python",
   "name": "python3"
  },
  "language_info": {
   "codemirror_mode": {
    "name": "ipython",
    "version": 3
   },
   "file_extension": ".py",
   "mimetype": "text/x-python",
   "name": "python",
   "nbconvert_exporter": "python",
   "pygments_lexer": "ipython3",
   "version": "3.11.3"
  }
 },
 "nbformat": 4,
 "nbformat_minor": 5
}
